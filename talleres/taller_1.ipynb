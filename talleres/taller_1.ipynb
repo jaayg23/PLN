{
 "cells": [
  {
   "cell_type": "markdown",
   "id": "09049029",
   "metadata": {},
   "source": [
    "## Ejercicio 1\n",
    "### armar un texto que tenga sentido usando las variables a, b, c y d"
   ]
  },
  {
   "cell_type": "code",
   "execution_count": 1,
   "id": "6925c85a",
   "metadata": {},
   "outputs": [],
   "source": [
    "a = \"xxxxxxxxxxxxxxxx veces \"\n",
    "b = 1000\n",
    "c = \"xxxno puedo soñar xxxxx\"\n",
    "d = \"xlxaxsx xmxixsxmxaxsx xcxoxsxaxs\""
   ]
  },
  {
   "cell_type": "code",
   "execution_count": 2,
   "id": "4da38d37",
   "metadata": {},
   "outputs": [
    {
     "data": {
      "text/plain": [
       "'no puedo soñar 1000 veces las mismas cosas'"
      ]
     },
     "execution_count": 2,
     "metadata": {},
     "output_type": "execute_result"
    }
   ],
   "source": [
    "a_cor = a.replace(\"x\",\"\")\n",
    "c_cor = c.replace(\"x\",\"\")\n",
    "d_cor = d.replace(\"x\",\"\")\n",
    "\n",
    "text_cor = c_cor + f'{b}' + a_cor + d_cor\n",
    "\n",
    "text_cor"
   ]
  },
  {
   "cell_type": "markdown",
   "id": "1102c092",
   "metadata": {},
   "source": [
    "## Ejercicio 2:\n",
    "### a) cuantas letras hay en la tercer oración?\n",
    "### b) cuantas palabras hay en todo el tex"
   ]
  },
  {
   "cell_type": "code",
   "execution_count": 3,
   "id": "c83e5ed8",
   "metadata": {},
   "outputs": [],
   "source": [
    "texto_ej2 = \"Citadme diciendo que me han citado mal. Claro que lo entiendo. Incluso un niño de cinco años podría entenderlo. ¡Que me traigan un niño de cinco años!\""
   ]
  },
  {
   "cell_type": "code",
   "execution_count": 4,
   "id": "cf4d2625",
   "metadata": {},
   "outputs": [
    {
     "data": {
      "text/plain": [
       "40"
      ]
     },
     "execution_count": 4,
     "metadata": {},
     "output_type": "execute_result"
    }
   ],
   "source": [
    "array_texto = texto_ej2.split(\".\")\n",
    "len(array_texto[2].replace(\" \",\"\"))"
   ]
  },
  {
   "cell_type": "markdown",
   "id": "e1b3007a",
   "metadata": {},
   "source": [
    "Hay 40 letras en la tercera oracion"
   ]
  },
  {
   "cell_type": "code",
   "execution_count": 5,
   "id": "5928a5fc",
   "metadata": {},
   "outputs": [
    {
     "name": "stdout",
     "output_type": "stream",
     "text": [
      "Hay 27 palabras en todo el texto\n"
     ]
    }
   ],
   "source": [
    "palabras = len(texto_ej2.split(\" \"))\n",
    "print(f\"Hay {palabras} palabras en todo el texto\")\n"
   ]
  },
  {
   "cell_type": "code",
   "execution_count": 6,
   "id": "c1031c1a",
   "metadata": {},
   "outputs": [
    {
     "name": "stdout",
     "output_type": "stream",
     "text": [
      "Las fechas encontradas son:\n",
      "['02/07', '5/7/18', '8/7', '02-08-2018', '15-8-2018', '29-08']\n"
     ]
    }
   ],
   "source": [
    "import re\n",
    "\n",
    "texto_ej3=\"compras de julio: el 02/07 yerba, 5/7/18 azucar y 8/7 cafe. Agosto: 02-08-2018, 15-8-2018 y 29-08 mas yerba \"\n",
    "\n",
    "#Uno o dos digitos, separados por / o -, opcionalmente con 2 o 4 digitos, ? es opcional\n",
    "patron_fechas = r'\\d{1,2}[/-]\\d{1,2}(?:[/-]\\d{2,4})?'\n",
    "fechas_encontradas = re.findall(patron_fechas, texto_ej3)\n",
    "\n",
    "print(\"Las fechas encontradas son:\")\n",
    "print(fechas_encontradas)"
   ]
  },
  {
   "cell_type": "markdown",
   "id": "378153a1",
   "metadata": {},
   "source": [
    "## Ejercicio 4\n",
    "\n",
    "### a) Cuales son las 10 palabras mas frecuentes? no contar efecto de si es mayúscula o minúscula.\n",
    "### b) Cuantas palabras son stopwords? que porcentaje de las palabras son stopwords?\n",
    "### c) Sacar las tíldes (normalización)\n",
    "### d) Pasar los millones a números 1.800 millones -> 1.800.000  (normalización)\n",
    "### e) Extraer los numeros asociados a dolares, pesos y porcentajes\n",
    "### f) Plotear en eje log-log un la frequencia de las palabras vs su ranking: es decir representar en un scatterplot cuantas veces aparece la palabra mas frecuente (ranking=1), cuantas veces la 2da mas frecuentes (ranking=2)..., la n-esima mas frecuente (ranking = n)"
   ]
  },
  {
   "cell_type": "code",
   "execution_count": 7,
   "id": "969e515f",
   "metadata": {},
   "outputs": [],
   "source": [
    "texto_ej4='Jueves 29.3.2018 BUENOS AIRES\\n INGRESAR EDICIÓN IMPRESA Suscribirse Onmail\\n   SEGUINOS\\nPORTADA\\t\\tPOLÍTICA\\tMUNDO\\tNACIONAL\\t\\tINFO. GRAL\\t\\tESPECTÁCULOS\\t\\t\\n\\nambito.comJueves 29.3.2018\\n\\nECONOMÍA\\n\\n\\n\\n\\n\\nPOR MARIANA LEIVA.- lunes 26 de Marzo de 2018\\nEl BCRA intervino por séptima rueda consecutiva y el dólar cedió cinco centavos a $ 20,49\\nMariana Leiva \\t\\nMARIANA LEIVA\\n \\nCon un Banco Central presente en la rueda por séptima rueda consecutiva, el dólar inició la semana con nueva baja, al ceder cinco centavos a $ 20,49 en agencias y bancos de la city porteña, de acuerdo al promedio de ámbito.com. \\n\\nEl billete -que anotó su segunda caída consecutiva- se desacopló del segmento mayorista, donde la divisa terminó sin cambios a $ 20,21.\\n\\nDurante la rueda, la moneda estadounidense tuvo un recorrido muy acotado en una rueda en la que el Banco Central volvió a fijar límites al movimiento de los precios. Operadores estimaron que la autoridad monetaria habría vendido unos u$s 100 millones, con lo que en el mes llevaría desembolsado cerca de u$s 1.800 millones. \\n\\nA poco de iniciada la sesión se hizo presente una postura de venta en $ 20,21 efectivizada por el BCRA que señaló el límite superior fijado en la banda de fluctuación del tipo de cambio. La presencia oficial, en este sentido, disuadió desde el arranque presiones sobre los precios que merced a una mayor oferta privada descendieron hasta tocar mínimos en los $ 20,163. Al final del día, sus ventas sumaron u$s 69 millones.\\n\\nLa oferta provino, además, de las liquidaciones de exportadores cerealeros con un promedio u$s 85 millones por día (aumentó 40% que la semana anterior) y también de otros rubros que realimentan la venta de la divisa norteamericana, además de algunos inversores tentados por la tasa de interés en pesos ahora que tienen un dólar con poca oscilación y con un techo de $ 20,4 y un piso de $ 20,2, según puntualizaron de ABC Mercado de Cambios. \\n\\nDesde PR Corredores de Cambio, indicaron que \"el inicio de la semana corta presentó un escenario dominado en forma reiterada por la regulación oficial del tipo de cambio. La estrategia del Banco Central apuntó a dejar sin posibilidad de que los precios del dólar superaran el nivel alcanzado en el cierre de la semana pasada pero sin forzar una nueva caída en su cotización\". El volumen operado descendió un 6,5% a u$s 758 millones.\\n\\n\"La suerte de la evolución del dólar en el cierre de marzo parece estar echada y, dadas las características de las últimas regulaciones oficiales su nivel para el miércoles próximo se anticipa que no estará muy alejado del alcanzado en la fecha, un dato que los mercados de futuros descuentan en su cotización de esta rueda\", agregaron.\\n\\nEn el mercado de dinero entre bancos, el \"call money\" operó estable a un promedio del 25,5% TNA y en \"swaps\" cambiarios se pactaron u$s 148 millones para tomar y/o colocar fondos en pesos mediante el uso de compra-venta de dólares para el martes y el miércoles. Las Lebac en el circuito secundario se operaban al plazo de 23 días a 23,55% TNA, y la de 268 días al 24,9% TNA.\\n\\nEn el Rofex, donde se operaron u$s 1.156 millones, más del 40% se operó para fin de mes a $ 20,215 con una tasa implícita del 9% TNA y el plazo más largo fue julio a $ 21,63 a una tasa del 20,50% TNA. \\n\\nEn la plaza paralela, el blue cayó seis centavos a $ 20,88, según el relevamiento de este medio en cuevas del microcentro porteño. Asimismo, el \"contado con liqui\" bajó 10 centavos a $ 20,19.\\n\\nPor último, las reservas del Banco Central aumentaron este lunes u$s 18 millones, hasta los u$s 60.917 millones.\\nTAGS\\n \\n\\n\\n\\n'"
   ]
  },
  {
   "cell_type": "code",
   "execution_count": 8,
   "id": "b8244b9c",
   "metadata": {},
   "outputs": [
    {
     "name": "stdout",
     "output_type": "stream",
     "text": [
      "de     38\n",
      "el     25\n",
      "la     24\n",
      "en     23\n",
      "a      15\n",
      "del    14\n",
      "que    12\n",
      "$      11\n",
      "un     10\n",
      "u$s     9\n",
      "Name: count, dtype: int64\n"
     ]
    }
   ],
   "source": [
    "import pandas as pd\n",
    "\n",
    "texto_lower = texto_ej4.lower()\n",
    "\n",
    "conteo_palabras = pd.Series(texto_lower.split()).value_counts()\n",
    "print(conteo_palabras.head(10))"
   ]
  },
  {
   "cell_type": "code",
   "execution_count": 9,
   "id": "c2d70e94",
   "metadata": {},
   "outputs": [
    {
     "name": "stderr",
     "output_type": "stream",
     "text": [
      "[nltk_data] Downloading package stopwords to\n",
      "[nltk_data]     C:\\Users\\jaayg\\AppData\\Roaming\\nltk_data...\n",
      "[nltk_data]   Package stopwords is already up-to-date!\n"
     ]
    }
   ],
   "source": [
    "import nltk\n",
    "\n",
    "nltk.download('stopwords')\n",
    "from nltk.corpus import stopwords\n",
    "stoplist = stopwords.words(\"spanish\")"
   ]
  },
  {
   "cell_type": "code",
   "execution_count": 13,
   "id": "c381a596",
   "metadata": {},
   "outputs": [],
   "source": [
    "df = pd.DataFrame(texto_lower.split())\n",
    "df[\"is_stopword\"] = df.isin(stoplist)"
   ]
  },
  {
   "cell_type": "code",
   "execution_count": 14,
   "id": "bb9f105d",
   "metadata": {},
   "outputs": [
    {
     "data": {
      "text/html": [
       "<div>\n",
       "<style scoped>\n",
       "    .dataframe tbody tr th:only-of-type {\n",
       "        vertical-align: middle;\n",
       "    }\n",
       "\n",
       "    .dataframe tbody tr th {\n",
       "        vertical-align: top;\n",
       "    }\n",
       "\n",
       "    .dataframe thead th {\n",
       "        text-align: right;\n",
       "    }\n",
       "</style>\n",
       "<table border=\"1\" class=\"dataframe\">\n",
       "  <thead>\n",
       "    <tr style=\"text-align: right;\">\n",
       "      <th></th>\n",
       "      <th>0</th>\n",
       "      <th>is_stopword</th>\n",
       "    </tr>\n",
       "  </thead>\n",
       "  <tbody>\n",
       "    <tr>\n",
       "      <th>0</th>\n",
       "      <td>jueves</td>\n",
       "      <td>False</td>\n",
       "    </tr>\n",
       "    <tr>\n",
       "      <th>1</th>\n",
       "      <td>29.3.2018</td>\n",
       "      <td>False</td>\n",
       "    </tr>\n",
       "    <tr>\n",
       "      <th>2</th>\n",
       "      <td>buenos</td>\n",
       "      <td>False</td>\n",
       "    </tr>\n",
       "    <tr>\n",
       "      <th>3</th>\n",
       "      <td>aires</td>\n",
       "      <td>False</td>\n",
       "    </tr>\n",
       "    <tr>\n",
       "      <th>4</th>\n",
       "      <td>ingresar</td>\n",
       "      <td>False</td>\n",
       "    </tr>\n",
       "    <tr>\n",
       "      <th>...</th>\n",
       "      <td>...</td>\n",
       "      <td>...</td>\n",
       "    </tr>\n",
       "    <tr>\n",
       "      <th>611</th>\n",
       "      <td>los</td>\n",
       "      <td>True</td>\n",
       "    </tr>\n",
       "    <tr>\n",
       "      <th>612</th>\n",
       "      <td>u$s</td>\n",
       "      <td>False</td>\n",
       "    </tr>\n",
       "    <tr>\n",
       "      <th>613</th>\n",
       "      <td>60.917</td>\n",
       "      <td>False</td>\n",
       "    </tr>\n",
       "    <tr>\n",
       "      <th>614</th>\n",
       "      <td>millones.</td>\n",
       "      <td>False</td>\n",
       "    </tr>\n",
       "    <tr>\n",
       "      <th>615</th>\n",
       "      <td>tags</td>\n",
       "      <td>False</td>\n",
       "    </tr>\n",
       "  </tbody>\n",
       "</table>\n",
       "<p>616 rows × 2 columns</p>\n",
       "</div>"
      ],
      "text/plain": [
       "             0  is_stopword\n",
       "0       jueves        False\n",
       "1    29.3.2018        False\n",
       "2       buenos        False\n",
       "3        aires        False\n",
       "4     ingresar        False\n",
       "..         ...          ...\n",
       "611        los         True\n",
       "612        u$s        False\n",
       "613     60.917        False\n",
       "614  millones.        False\n",
       "615       tags        False\n",
       "\n",
       "[616 rows x 2 columns]"
      ]
     },
     "execution_count": 14,
     "metadata": {},
     "output_type": "execute_result"
    }
   ],
   "source": [
    "df"
   ]
  },
  {
   "cell_type": "code",
   "execution_count": 16,
   "id": "c597f6e4",
   "metadata": {},
   "outputs": [
    {
     "data": {
      "text/plain": [
       "259"
      ]
     },
     "execution_count": 16,
     "metadata": {},
     "output_type": "execute_result"
    }
   ],
   "source": [
    "df[\"is_stopword\"].sum()"
   ]
  },
  {
   "cell_type": "code",
   "execution_count": 17,
   "id": "228932f8",
   "metadata": {},
   "outputs": [
    {
     "data": {
      "text/plain": [
       "42.04545454545455"
      ]
     },
     "execution_count": 17,
     "metadata": {},
     "output_type": "execute_result"
    }
   ],
   "source": [
    "df[\"is_stopword\"].sum()/len(df) * 100"
   ]
  },
  {
   "cell_type": "markdown",
   "id": "213123bf",
   "metadata": {},
   "source": [
    "Hay 259 palabras que son stopword, ademas son el 42%"
   ]
  },
  {
   "cell_type": "code",
   "execution_count": 18,
   "id": "c30c6a33",
   "metadata": {},
   "outputs": [
    {
     "name": "stdout",
     "output_type": "stream",
     "text": [
      "jueves 29.3.2018 buenos aires\n",
      " ingresar edicion impresa suscribirse onmail\n",
      "   seguinos\n",
      "portada\t\tpolitica\tmundo\tnacional\t\tinfo. gral\t\tespectaculos\t\t\n",
      "\n",
      "ambito.comjueves 29.3.2018\n",
      "\n",
      "economia\n",
      "\n",
      "\n",
      "\n",
      "\n",
      "\n",
      "por mariana leiva.- lunes 26 de marzo de 2018\n",
      "el bcra intervino por septima rueda consecutiva y el dolar cedio cinco centavos a $ 20,49\n",
      "mariana leiva \t\n",
      "mariana leiva\n",
      " \n",
      "con un banco central presente en la rueda por septima rueda consecutiva, el dolar inicio la semana con nueva baja, al ceder cinco centavos a $ 20,49 en agencias y bancos de la city portena, de acuerdo al promedio de ambito.com. \n",
      "\n",
      "el billete -que anoto su segunda caida consecutiva- se desacoplo del segmento mayorista, donde la divisa termino sin cambios a $ 20,21.\n",
      "\n",
      "durante la rueda, la moneda estadounidense tuvo un recorrido muy acotado en una rueda en la que el banco central volvio a fijar limites al movimiento de los precios. operadores estimaron que la autoridad monetaria habria vendido unos u$s 100 millones, con lo que en el mes llevaria desembolsado cerca de u$s 1.800 millones. \n",
      "\n",
      "a poco de iniciada la sesion se hizo presente una postura de venta en $ 20,21 efectivizada por el bcra que senalo el limite superior fijado en la banda de fluctuacion del tipo de cambio. la presencia oficial, en este sentido, disuadio desde el arranque presiones sobre los precios que merced a una mayor oferta privada descendieron hasta tocar minimos en los $ 20,163. al final del dia, sus ventas sumaron u$s 69 millones.\n",
      "\n",
      "la oferta provino, ademas, de las liquidaciones de exportadores cerealeros con un promedio u$s 85 millones por dia (aumento 40% que la semana anterior) y tambien de otros rubros que realimentan la venta de la divisa norteamericana, ademas de algunos inversores tentados por la tasa de interes en pesos ahora que tienen un dolar con poca oscilacion y con un techo de $ 20,4 y un piso de $ 20,2, segun puntualizaron de abc mercado de cambios. \n",
      "\n",
      "desde pr corredores de cambio, indicaron que \"el inicio de la semana corta presento un escenario dominado en forma reiterada por la regulacion oficial del tipo de cambio. la estrategia del banco central apunto a dejar sin posibilidad de que los precios del dolar superaran el nivel alcanzado en el cierre de la semana pasada pero sin forzar una nueva caida en su cotizacion\". el volumen operado descendio un 6,5% a u$s 758 millones.\n",
      "\n",
      "\"la suerte de la evolucion del dolar en el cierre de marzo parece estar echada y, dadas las caracteristicas de las ultimas regulaciones oficiales su nivel para el miercoles proximo se anticipa que no estara muy alejado del alcanzado en la fecha, un dato que los mercados de futuros descuentan en su cotizacion de esta rueda\", agregaron.\n",
      "\n",
      "en el mercado de dinero entre bancos, el \"call money\" opero estable a un promedio del 25,5% tna y en \"swaps\" cambiarios se pactaron u$s 148 millones para tomar y/o colocar fondos en pesos mediante el uso de compra-venta de dolares para el martes y el miercoles. las lebac en el circuito secundario se operaban al plazo de 23 dias a 23,55% tna, y la de 268 dias al 24,9% tna.\n",
      "\n",
      "en el rofex, donde se operaron u$s 1.156 millones, mas del 40% se opero para fin de mes a $ 20,215 con una tasa implicita del 9% tna y el plazo mas largo fue julio a $ 21,63 a una tasa del 20,50% tna. \n",
      "\n",
      "en la plaza paralela, el blue cayo seis centavos a $ 20,88, segun el relevamiento de este medio en cuevas del microcentro porteno. asimismo, el \"contado con liqui\" bajo 10 centavos a $ 20,19.\n",
      "\n",
      "por ultimo, las reservas del banco central aumentaron este lunes u$s 18 millones, hasta los u$s 60.917 millones.\n",
      "tags\n",
      " \n",
      "\n",
      "\n",
      "\n",
      "\n"
     ]
    }
   ],
   "source": [
    "import unicodedata\n",
    "\n",
    "texto_nfd = unicodedata.normalize('NFD', texto_lower)\n",
    "texto_wo_tildes = texto_nfd.encode('ascii', 'ignore').decode('utf-8')\n",
    "\n",
    "print(texto_wo_tildes)"
   ]
  },
  {
   "cell_type": "code",
   "execution_count": 20,
   "id": "479b5b2f",
   "metadata": {},
   "outputs": [],
   "source": [
    "def reemplazar_millones(texto: str) -> str:\n",
    "    \"\"\"\n",
    "    Busca patrones como '1.800 millones' en un texto y los reemplaza\n",
    "    directamente con el número completo usando re.sub().\n",
    "    \"\"\"\n",
    "    \n",
    "    # El patrón busca:\n",
    "    # 1. Un grupo de dígitos, puntos y comas (el número).\n",
    "    # 2. Espacios opcionales.\n",
    "    # 3. La palabra 'millon' o 'millones' (insensible a mayúsculas).\n",
    "    patron = r'([\\d.,]+)\\s*\\b(millon(es)?)\\b'\n",
    "\n",
    "    def calcular_reemplazo(match: re.Match) -> str:\n",
    "        \"\"\"\n",
    "        Esta función se llama para cada coincidencia encontrada por re.sub.\n",
    "        Recibe un objeto 'match' y devuelve el string de reemplazo.\n",
    "        \"\"\"\n",
    "        try:\n",
    "            # Extraemos el número del primer grupo capturado\n",
    "            numero_str = match.group(1)\n",
    "            \n",
    "            # Limpiamos el string del número (quitamos puntos, cambiamos coma)\n",
    "            numero_limpio = numero_str.replace('.', '').replace(',', '.')\n",
    "            \n",
    "            # Calculamos el valor final\n",
    "            valor_numerico = float(numero_limpio)\n",
    "            valor_final = valor_numerico * 1_000_000\n",
    "            \n",
    "            # Devolvemos el número calculado como un string entero\n",
    "            return str(int(valor_final))\n",
    "        \n",
    "        except (ValueError, TypeError):\n",
    "            # Si hay un error, no reemplazamos nada y devolvemos la coincidencia original\n",
    "            return match.group(0)\n",
    "\n",
    "    # Usamos re.sub con la función de reemplazo.\n",
    "    # re.IGNORECASE hace que no distinga entre mayúsculas y minúsculas.\n",
    "    texto_reemplazado = re.sub(patron, calcular_reemplazo, texto, flags=re.IGNORECASE)\n",
    "    \n",
    "    return texto_reemplazado"
   ]
  },
  {
   "cell_type": "code",
   "execution_count": 21,
   "id": "b0758f46",
   "metadata": {},
   "outputs": [],
   "source": [
    "texto_millones = reemplazar_millones(texto_wo_tildes)"
   ]
  },
  {
   "cell_type": "code",
   "execution_count": 22,
   "id": "f6433b1e",
   "metadata": {},
   "outputs": [
    {
     "name": "stdout",
     "output_type": "stream",
     "text": [
      "jueves 29.3.2018 buenos aires\n",
      " ingresar edicion impresa suscribirse onmail\n",
      "   seguinos\n",
      "portada\t\tpolitica\tmundo\tnacional\t\tinfo. gral\t\tespectaculos\t\t\n",
      "\n",
      "ambito.comjueves 29.3.2018\n",
      "\n",
      "economia\n",
      "\n",
      "\n",
      "\n",
      "\n",
      "\n",
      "por mariana leiva.- lunes 26 de marzo de 2018\n",
      "el bcra intervino por septima rueda consecutiva y el dolar cedio cinco centavos a $ 20,49\n",
      "mariana leiva \t\n",
      "mariana leiva\n",
      " \n",
      "con un banco central presente en la rueda por septima rueda consecutiva, el dolar inicio la semana con nueva baja, al ceder cinco centavos a $ 20,49 en agencias y bancos de la city portena, de acuerdo al promedio de ambito.com. \n",
      "\n",
      "el billete -que anoto su segunda caida consecutiva- se desacoplo del segmento mayorista, donde la divisa termino sin cambios a $ 20,21.\n",
      "\n",
      "durante la rueda, la moneda estadounidense tuvo un recorrido muy acotado en una rueda en la que el banco central volvio a fijar limites al movimiento de los precios. operadores estimaron que la autoridad monetaria habria vendido unos u$s 100000000, con lo que en el mes llevaria desembolsado cerca de u$s 1800000000. \n",
      "\n",
      "a poco de iniciada la sesion se hizo presente una postura de venta en $ 20,21 efectivizada por el bcra que senalo el limite superior fijado en la banda de fluctuacion del tipo de cambio. la presencia oficial, en este sentido, disuadio desde el arranque presiones sobre los precios que merced a una mayor oferta privada descendieron hasta tocar minimos en los $ 20,163. al final del dia, sus ventas sumaron u$s 69000000.\n",
      "\n",
      "la oferta provino, ademas, de las liquidaciones de exportadores cerealeros con un promedio u$s 85000000 por dia (aumento 40% que la semana anterior) y tambien de otros rubros que realimentan la venta de la divisa norteamericana, ademas de algunos inversores tentados por la tasa de interes en pesos ahora que tienen un dolar con poca oscilacion y con un techo de $ 20,4 y un piso de $ 20,2, segun puntualizaron de abc mercado de cambios. \n",
      "\n",
      "desde pr corredores de cambio, indicaron que \"el inicio de la semana corta presento un escenario dominado en forma reiterada por la regulacion oficial del tipo de cambio. la estrategia del banco central apunto a dejar sin posibilidad de que los precios del dolar superaran el nivel alcanzado en el cierre de la semana pasada pero sin forzar una nueva caida en su cotizacion\". el volumen operado descendio un 6,5% a u$s 758000000.\n",
      "\n",
      "\"la suerte de la evolucion del dolar en el cierre de marzo parece estar echada y, dadas las caracteristicas de las ultimas regulaciones oficiales su nivel para el miercoles proximo se anticipa que no estara muy alejado del alcanzado en la fecha, un dato que los mercados de futuros descuentan en su cotizacion de esta rueda\", agregaron.\n",
      "\n",
      "en el mercado de dinero entre bancos, el \"call money\" opero estable a un promedio del 25,5% tna y en \"swaps\" cambiarios se pactaron u$s 148000000 para tomar y/o colocar fondos en pesos mediante el uso de compra-venta de dolares para el martes y el miercoles. las lebac en el circuito secundario se operaban al plazo de 23 dias a 23,55% tna, y la de 268 dias al 24,9% tna.\n",
      "\n",
      "en el rofex, donde se operaron u$s 1156000000, mas del 40% se opero para fin de mes a $ 20,215 con una tasa implicita del 9% tna y el plazo mas largo fue julio a $ 21,63 a una tasa del 20,50% tna. \n",
      "\n",
      "en la plaza paralela, el blue cayo seis centavos a $ 20,88, segun el relevamiento de este medio en cuevas del microcentro porteno. asimismo, el \"contado con liqui\" bajo 10 centavos a $ 20,19.\n",
      "\n",
      "por ultimo, las reservas del banco central aumentaron este lunes u$s 18000000, hasta los u$s 60917000000.\n",
      "tags\n",
      " \n",
      "\n",
      "\n",
      "\n",
      "\n"
     ]
    }
   ],
   "source": [
    "print(texto_millones)"
   ]
  },
  {
   "cell_type": "code",
   "execution_count": 27,
   "id": "9701763c",
   "metadata": {},
   "outputs": [
    {
     "name": "stdout",
     "output_type": "stream",
     "text": [
      "{'dolares o pesos': [20.49, 20.49, 20.21, 20.21, 20.163, 20.4, 20.215, 21.63, 20.19], 'porcentajes': [40.0, 6.5, 25.5, 23.55, 24.9, 40.0, 9.0, 20.5]}\n"
     ]
    }
   ],
   "source": [
    "def _limpiar_y_convertir_numero(numero_str: str) -> float:\n",
    "    \"\"\"Función auxiliar para limpiar y convertir un string numérico.\"\"\"\n",
    "    # Quita separadores de miles (puntos o comas) y estandariza el decimal a punto\n",
    "    numero_limpio = numero_str.replace('.', '').replace(',', '.')\n",
    "    return float(numero_limpio)\n",
    "\n",
    "def extraer_valores_financieros(texto: str) -> dict:\n",
    "    \"\"\"\n",
    "    Extrae números asociados a dólares, pesos y porcentajes de un texto.\n",
    "    \n",
    "    Devuelve un diccionario con los valores encontrados.\n",
    "    \"\"\"\n",
    "    resultados = {\n",
    "        'dolares o pesos': [],\n",
    "        'porcentajes': []\n",
    "    }\n",
    "    \n",
    "    # --- 1. Patrón para Porcentajes ---\n",
    "    # Busca un número seguido de '%' o 'por ciento'\n",
    "    patron_porcentaje = r'([\\d.,]+)\\s*(%|por\\s*ciento|porcentual)'\n",
    "    matches = re.findall(patron_porcentaje, texto, flags=re.IGNORECASE)\n",
    "    for match in matches:\n",
    "        try:\n",
    "            numero = _limpiar_y_convertir_numero(match[0])\n",
    "            resultados['porcentajes'].append(numero)\n",
    "        except ValueError:\n",
    "            continue # Ignora si el número está mal formateado\n",
    "\n",
    "    # --- 2. Patrones para Monedas (Dólares y Pesos) ---\n",
    "    # Se usan dos patrones para capturar el indicador antes o después del número.\n",
    "    \n",
    "    # Indicadores: $ (escapado), dolar(es), peso(s), cop\n",
    "    indicadores = r'(?:\\$|dolar(?:es)?|peso(?:s)?|cop)'\n",
    "    numero = r'([\\d.,]+)'\n",
    "    \n",
    "    # Patrón 1: Indicador seguido del número (ej: $1.500)\n",
    "    patron_moneda_1 = f'({indicadores})\\\\s*{numero}'\n",
    "    # Patrón 2: Número seguido del indicador (ej: 1.500 pesos)\n",
    "    patron_moneda_2 = f'{numero}\\\\s*({indicadores})'\n",
    "    \n",
    "    # Buscamos todas las coincidencias para ambos patrones\n",
    "    matches1 = re.findall(patron_moneda_1, texto, flags=re.IGNORECASE)\n",
    "    matches2 = re.findall(patron_moneda_2, texto, flags=re.IGNORECASE)\n",
    "    \n",
    "    # Unimos los resultados (para el segundo patrón, invertimos el orden para que sea (indicador, numero))\n",
    "    todos_los_matches_moneda = matches1 + [(m[1], m[0]) for m in matches2]\n",
    "    \n",
    "    for indicador, numero_str in todos_los_matches_moneda:\n",
    "        try:\n",
    "            numero = _limpiar_y_convertir_numero(numero_str)\n",
    "            indicador_limpio = indicador.lower()\n",
    "            \n",
    "            if '$' in indicador_limpio or 'dolar' in indicador_limpio:\n",
    "                resultados['dolares o pesos'].append(numero)\n",
    "        except ValueError:\n",
    "            continue\n",
    "            \n",
    "    return resultados\n",
    "\n",
    "valores_financieros = extraer_valores_financieros(texto_millones)\n",
    "print(valores_financieros)\n"
   ]
  },
  {
   "cell_type": "code",
   "execution_count": 32,
   "id": "de834a1b",
   "metadata": {},
   "outputs": [],
   "source": [
    "# Esta línea crea la Serie con el formato correcto (números enteros)\n",
    "conteo_palabras = pd.Series(texto_lower.split()).value_counts()"
   ]
  },
  {
   "cell_type": "code",
   "execution_count": null,
   "id": "3a4a4596",
   "metadata": {},
   "outputs": [
    {
     "data": {
      "image/png": "[encoded data removed]",
      "text/plain": [
       "<Figure size 1200x800 with 1 Axes>"
      ]
     },
     "metadata": {},
     "output_type": "display_data"
    }
   ],
   "source": [
    "import matplotlib.pyplot as plt\n",
    "import numpy as np\n",
    "\n",
    "# 1. Ordenar las palabras por frecuencia.\n",
    "frecuencias_ordenadas = conteo_palabras.sort_values(ascending=False)\n",
    "\n",
    "# 2. Crear el vector de ranking.\n",
    "ranking = np.arange(1, len(frecuencias_ordenadas) + 1)\n",
    "\n",
    "# 3. Extraer los valores de frecuencia.\n",
    "frecuencias = frecuencias_ordenadas.values\n",
    "\n",
    "# 4. Crear el gráfico de dispersión (scatterplot).\n",
    "plt.figure(figsize=(12, 8)) # Hacemos el gráfico un poco más grande\n",
    "plt.scatter(ranking, frecuencias, alpha=0.7, edgecolors='b')\n",
    "\n",
    "# --- INICIO DE LA SECCIÓN NUEVA: AÑADIR ANOTACIONES ---\n",
    "# 5. Anotar las N palabras más frecuentes (por ejemplo, las 15 primeras)\n",
    "n_palabras_a_anotar = 15\n",
    "for i in range(n_palabras_a_anotar):\n",
    "    palabra = frecuencias_ordenadas.index[i]\n",
    "    rank = ranking[i]\n",
    "    frec = frecuencias[i]\n",
    "    \n",
    "    # plt.text() añade el texto en las coordenadas (x, y)\n",
    "    # Le damos un pequeño desplazamiento para que no se solape con el punto\n",
    "    plt.text(\n",
    "        rank * 1.05, # Desplazamiento a la derecha\n",
    "        frec, \n",
    "        palabra, \n",
    "        fontsize=9,\n",
    "        color='darkgreen'\n",
    "    )\n",
    "# --- FIN DE LA SECCIÓN NUEVA ---\n",
    "\n",
    "\n",
    "# 6. Establecer las escalas de los ejes en logarítmico.\n",
    "plt.xscale('log')\n",
    "plt.yscale('log')\n",
    "\n",
    "# 7. Añadir títulos y etiquetas.\n",
    "plt.title('Frecuencia de Palabras vs. Ranking (Escala Log-Log)', fontsize=16)\n",
    "plt.xlabel('Ranking de la Palabra (log)', fontsize=12)\n",
    "plt.ylabel('Frecuencia de Aparición (log)', fontsize=12)\n",
    "\n",
    "# 8. Añadir una grilla.\n",
    "plt.grid(True, which=\"both\", linestyle='--', linewidth=0.5)\n",
    "plt.tight_layout()"
   ]
  }
 ],
 "metadata": {
  "kernelspec": {
   "display_name": "mlops",
   "language": "python",
   "name": "python3"
  },
  "language_info": {
   "codemirror_mode": {
    "name": "ipython",
    "version": 3
   },
   "file_extension": ".py",
   "mimetype": "text/x-python",
   "name": "python",
   "nbconvert_exporter": "python",
   "pygments_lexer": "ipython3",
   "version": "3.10.18"
  }
 },
 "nbformat": 4,
 "nbformat_minor": 5
}
