{
  "nbformat": 4,
  "nbformat_minor": 0,
  "metadata": {
    "colab": {
      "provenance": [],
      "include_colab_link": true
    },
    "kernelspec": {
      "name": "python3",
      "display_name": "Python 3"
    },
    "language_info": {
      "name": "python"
    }
  },
  "cells": [
    {
      "cell_type": "markdown",
      "metadata": {
        "id": "view-in-github",
        "colab_type": "text"
      },
      "source": [
        "<a href=\"https://colab.research.google.com/github/jaayg23/PLN/blob/main/2.%20Transformer/Mecanismo_de_atenci%C3%B3n.ipynb\" target=\"_parent\"><img src=\"https://colab.research.google.com/assets/colab-badge.svg\" alt=\"Open In Colab\"/></a>"
      ]
    },
    {
      "cell_type": "markdown",
      "source": [
        "![Logo UNAL CHEC](https://www.funcionpublica.gov.co/documents/d/guest/logo-universidad-nacional)\n",
        "\n",
        "\n",
        "\n",
        "# **Mecanismo de atención**\n",
        "### Departamento de Ingeniería Eléctrica, Electrónica y Computación\n",
        "#### Universidad Nacional de Colombia - Sede Manizales\n",
        "\n",
        "#### Profesor: Diego A. Pérez"
      ],
      "metadata": {
        "id": "sT5nRB37tx6P"
      }
    },
    {
      "cell_type": "markdown",
      "source": [
        "Objetivo. Entender la atención como un mecanismo de búsqueda (relevancia) seguido de una mezcla ponderada (síntesis), con ejemplos numéricos y de texto."
      ],
      "metadata": {
        "id": "-1-RFBNaHQ0C"
      }
    },
    {
      "cell_type": "code",
      "source": [
        "import numpy as np\n",
        "import matplotlib.pyplot as plt\n",
        "\n",
        "\n",
        "def softmax(x):\n",
        "    x = np.asarray(x, dtype=np.float64)\n",
        "    x = x - np.max(x, axis=-1, keepdims=True)\n",
        "    ex = np.exp(x)\n",
        "    return ex / np.sum(ex, axis=-1, keepdims=True)\n",
        "\n",
        "z = np.linspace(-10, 10, 400)\n",
        "logits_bin = np.stack([z, np.zeros_like(z)], axis=-1)  # [z, 0]\n",
        "p_class0 = softmax(logits_bin)[:, 0]\n",
        "\n",
        "plt.figure(figsize=(7,4))\n",
        "plt.plot(z, p_class0)\n",
        "plt.title('Softmax binario (equivale a sigmoide para la clase 0)')\n",
        "plt.xlabel('z (logit)')\n",
        "plt.ylabel('P(clase 0)')\n",
        "plt.grid(True)\n",
        "plt.show()\n"
      ],
      "metadata": {
        "colab": {
          "base_uri": "https://localhost:8080/",
          "height": 410
        },
        "id": "Vo9U25OKHQSG",
        "outputId": "ce64f4f6-87d4-4c96-9dc5-f932c0d673cb"
      },
      "execution_count": 1,
      "outputs": [
        {
          "output_type": "display_data",
          "data": {
            "text/plain": [
              "<Figure size 700x400 with 1 Axes>"
            ],
            "image/png": "[encoded data removed]"
          },
          "metadata": {}
        }
      ]
    },
    {
      "cell_type": "markdown",
      "source": [
        "¿Qué es la atención? con $Q, K, V$\n",
        "\n",
        "La **atención** permite **enfocarse** en las partes más relevantes de la información para una **consulta**.\n",
        "La versión estándar usa tres objetos:\n",
        "\n",
        "* **Consulta(s)** $Q \\in \\mathbb{R}^{m \\times d_k}$ — lo que “pregunta” el modelo (pueden ser $m$ consultas).\n",
        "* **Claves** $K \\in \\mathbb{R}^{n \\times d_k}$ — cómo “indexamos” la memoria (hay $n$ elementos).\n",
        "* **Valores** $V \\in \\mathbb{R}^{n \\times d_v}$ — la información que queremos combinar.\n",
        "\n",
        "**Caso 1: una consulta** $\\mathbf{q} \\in \\mathbb{R}^{d_k}$, claves $\\mathbf{k}_i \\in \\mathbb{R}^{d_k}$, valores $\\mathbf{v}_i \\in \\mathbb{R}^{d_v}$.\n",
        "\n",
        "1. **Puntajes (similitud)**\n",
        "\n",
        "$$\n",
        "s_i \\;=\\; \\mathbf{q}^\\top \\mathbf{k}_i\n",
        "\\quad\\text{(o escalado: } s_i = \\tfrac{\\mathbf{q}^\\top \\mathbf{k}_i}{\\sqrt{d_k}}\\text{)}.\n",
        "$$\n",
        "\n",
        "2. **Pesos (softmax)**\n",
        "\n",
        "$$\n",
        "a_i \\;=\\; \\frac{\\exp(s_i)}{\\sum_{j=1}^{n}\\exp(s_j)},\n",
        "\\qquad \\sum_i a_i = 1,\\; a_i \\ge 0.\n",
        "$$\n",
        "\n",
        "3. **Salida (mezcla ponderada)**\n",
        "\n",
        "$$\n",
        "\\mathbf{o} \\;=\\; \\sum_{i=1}^{n} a_i \\,\\mathbf{v}_i \\;\\in\\; \\mathbb{R}^{d_v}.\n",
        "$$\n",
        "\n",
        "**Caso 2: varias consultas** $Q \\in \\mathbb{R}^{m \\times d_k}$. Forma matricial:\n",
        "\n",
        "$$\n",
        "S \\;=\\; \\frac{QK^\\top}{\\sqrt{d_k}} \\;\\in\\; \\mathbb{R}^{m \\times n},\n",
        "\\quad A \\;=\\; \\text{softmax}_\\text{fila}(S) \\;\\in\\; \\mathbb{R}^{m \\times n},\n",
        "\\quad O \\;=\\; AV \\;\\in\\; \\mathbb{R}^{m \\times d_v}.\n",
        "$$\n",
        "\n",
        "* $S_{ij}$ es la similitud entre la consulta $i$ y la clave $j$.\n",
        "* Cada fila de $A$ es una distribución de probabilidad (suma 1).\n",
        "* Cada fila de $O$ es la **respuesta** para una consulta distinta.\n",
        "\n",
        "> Nota: El factor de **escalado** $\\tfrac{1}{\\sqrt{d_k}}$ estabiliza la magnitud de los puntajes cuando $d_k$ es grande.\n"
      ],
      "metadata": {
        "id": "0WKPC651ImA-"
      }
    },
    {
      "cell_type": "code",
      "source": [
        "\n",
        "\n",
        "import numpy as np\n",
        "\n",
        "def softmax(x, axis=-1):\n",
        "    x = np.asarray(x, dtype=np.float64)\n",
        "    x = x - np.max(x, axis=axis, keepdims=True)  # estabilidad numérica\n",
        "    ex = np.exp(x)\n",
        "    return ex / np.sum(ex, axis=axis, keepdims=True)\n",
        "\n",
        "def attention_single_query(q, K, V, scale=True):\n",
        "    \"\"\"\n",
        "    q:  (d_k,)\n",
        "    K:  (n, d_k)\n",
        "    V:  (n, d_v)\n",
        "    return: o (d_v,), a (n,), s (n,)\n",
        "    \"\"\"\n",
        "    s = K @ q  # (n,)\n",
        "    if scale:\n",
        "        d_k = K.shape[1]\n",
        "        s = s / np.sqrt(d_k)\n",
        "    a = softmax(s, axis=0)     # (n,)\n",
        "    o = a @ V                  # (d_v,)\n",
        "    return o, a, s\n",
        "\n",
        "def attention_multi(Q, K, V, scale=True):\n",
        "    \"\"\"\n",
        "    Q: (m, d_k)\n",
        "    K: (n, d_k)\n",
        "    V: (n, d_v)\n",
        "    return: O (m, d_v), A (m, n), S (m, n)\n",
        "    \"\"\"\n",
        "    S = Q @ K.T  # (m, n)\n",
        "    if scale:\n",
        "        d_k = K.shape[1]\n",
        "        S = S / np.sqrt(d_k)\n",
        "    A = softmax(S, axis=1)     # softmax por filas\n",
        "    O = A @ V\n",
        "    return O, A, S\n"
      ],
      "metadata": {
        "id": "dBCiZ7aUL9RR"
      },
      "execution_count": 2,
      "outputs": []
    },
    {
      "cell_type": "code",
      "source": [
        "q = np.array([1.0, 0.0])                 # consulta alineada al eje x\n",
        "K = np.array([[1.0, 0.0],                # k1 ~ muy parecido a q\n",
        "              [0.0, 1.0],                # k2 ~ ortogonal\n",
        "              [0.8, 0.2]])               # k3 ~ parecido a q\n",
        "V = np.array([[1.0, 0.0],                # v1\n",
        "              [0.0, 1.0],                # v2\n",
        "              [0.5, 0.5]])               # v3 (info mixta)\n",
        "\n",
        "o, a, s = attention_single_query(q, K, V, scale=True)\n",
        "\n",
        "print(\"Similitudes s (escaladas):\", np.round(s, 3))\n",
        "print(\"Pesos a (softmax)        :\", np.round(a, 3))\n",
        "print(\"Suma de pesos            :\", np.round(a.sum(), 3))\n",
        "print(\"Salida o                 :\", np.round(o, 3))\n"
      ],
      "metadata": {
        "colab": {
          "base_uri": "https://localhost:8080/"
        },
        "id": "qCYvl69UMQKP",
        "outputId": "bd618c2d-ad52-4557-bf1d-a8a02ca682e4"
      },
      "execution_count": 3,
      "outputs": [
        {
          "output_type": "stream",
          "name": "stdout",
          "text": [
            "Similitudes s (escaladas): [0.707 0.    0.566]\n",
            "Pesos a (softmax)        : [0.424 0.209 0.368]\n",
            "Suma de pesos            : 1.0\n",
            "Salida o                 : [0.607 0.393]\n"
          ]
        }
      ]
    },
    {
      "cell_type": "markdown",
      "source": [
        "**Qué debes observar:**\n",
        "\n",
        "* El mayor peso debería concentrarse en la clave más parecida a $q$ (aquí, la primera).\n",
        "* La salida $\\mathbf{o}$ es una **mezcla** de las filas de $V$ con esos pesos.\n"
      ],
      "metadata": {
        "id": "TFSZ8rxIPrHG"
      }
    },
    {
      "cell_type": "code",
      "source": [
        "\n",
        "# Dos consultas en d_k = 3\n",
        "Q = np.array([[ 1.0,  0.0,  0.0],    # consulta 1 (tipo 'eje x')\n",
        "              [ 0.0,  0.9,  0.1]])   # consulta 2 (cercana al eje y)\n",
        "\n",
        "# Tres claves/valores (n = 3), d_k = 3, d_v = 2\n",
        "K = np.array([[1.0, 0.0, 0.0],\n",
        "              [0.1, 0.9, 0.0],\n",
        "              [0.2, 0.1, 0.9]])\n",
        "V = np.array([[1.0, 0.0],    # v1\n",
        "              [0.2, 0.8],    # v2\n",
        "              [0.6, 0.4]])   # v3\n",
        "\n",
        "O, A, S = attention_multi(Q, K, V, scale=True)\n",
        "\n",
        "np.set_printoptions(precision=3, suppress=True)\n",
        "print(\"S (puntajes escalados):\\n\", S)\n",
        "print(\"\\nA (pesos por fila; suman 1):\\n\", A, \"\\nFilas suman:\", A.sum(axis=1))\n",
        "print(\"\\nO (salidas por consulta):\\n\", O)"
      ],
      "metadata": {
        "colab": {
          "base_uri": "https://localhost:8080/"
        },
        "id": "v4OFIlO_PpaP",
        "outputId": "bcf6df26-d185-446f-edaf-86ae233b489e"
      },
      "execution_count": 4,
      "outputs": [
        {
          "output_type": "stream",
          "name": "stdout",
          "text": [
            "S (puntajes escalados):\n",
            " [[0.577 0.058 0.115]\n",
            " [0.    0.468 0.104]]\n",
            "\n",
            "A (pesos por fila; suman 1):\n",
            " [[0.449 0.267 0.283]\n",
            " [0.27  0.431 0.299]] \n",
            "Filas suman: [1. 1.]\n",
            "\n",
            "O (salidas por consulta):\n",
            " [[0.673 0.327]\n",
            " [0.536 0.464]]\n"
          ]
        }
      ]
    },
    {
      "cell_type": "markdown",
      "source": [],
      "metadata": {
        "id": "dwACmQJHPqn6"
      }
    },
    {
      "cell_type": "markdown",
      "source": [
        "\n",
        "**Qué debes observar:**\n",
        "\n",
        "* **Fila 1** de $A$: más peso en la clave similar a $[1,0,0]$ $\\Rightarrow$ favorece $V_1$.\n",
        "* **Fila 2** de $A$: más peso en la clave similar a $[0,1,0]$ $\\Rightarrow$ favorece $V_2$.\n",
        "* Cada **fila de $O$** es la salida para cada consulta.\n",
        "\n",
        "\n"
      ],
      "metadata": {
        "id": "AFuK4mYQMSjV"
      }
    },
    {
      "cell_type": "code",
      "source": [
        "\n",
        "# Oración: \"el gato duerme tranquilo\"\n",
        "vocab = [\"el\", \"gato\", \"duerme\", \"tranquilo\"]\n",
        "\n",
        "# Embeddings simples (d_k = 3) para ilustrar conceptos (animal/acción/calma)\n",
        "K = np.array([\n",
        "    [0.1, 0.0, 0.1],   # el\n",
        "    [0.9, 0.1, 0.0],   # gato  ~ 'animal'\n",
        "    [0.2, 0.8, 0.1],   # duerme ~ 'acción'\n",
        "    [0.1, 0.2, 0.7],   # tranquilo ~ 'calma'\n",
        "], dtype=float)\n",
        "\n",
        "# Tomamos V = K (podrían ser distintas en general)\n",
        "V = np.array([[1.0, 0.0],    # v1\n",
        "              [0.2, 0.8],    # v2\n",
        "              [0.6, 0.4],\n",
        "              [0.0, 1]])   # v3\n",
        "\n",
        "# Consulta 'animal'\n",
        "q_animal = np.array([1.0, 0.0, 0.0])\n",
        "\n",
        "o, a, s = attention_single_query(q_animal, K, V, scale=True)\n",
        "\n",
        "print(\"Puntajes (s):\", dict(zip(vocab, np.round(s,3))))\n",
        "print(\"Pesos (a)   :\", dict(zip(vocab, np.round(a,3))))\n",
        "print(\"Salida (o)  :\", np.round(o, 3))\n",
        "\n"
      ],
      "metadata": {
        "colab": {
          "base_uri": "https://localhost:8080/"
        },
        "id": "Z1RJJyFAMYl-",
        "outputId": "c0e0ba90-8d70-484f-bf21-f910a6d52f64"
      },
      "execution_count": 5,
      "outputs": [
        {
          "output_type": "stream",
          "name": "stdout",
          "text": [
            "Puntajes (s): {'el': np.float64(0.058), 'gato': np.float64(0.52), 'duerme': np.float64(0.115), 'tranquilo': np.float64(0.058)}\n",
            "Pesos (a)   : {'el': np.float64(0.215), 'gato': np.float64(0.342), 'duerme': np.float64(0.228), 'tranquilo': np.float64(0.215)}\n",
            "Salida (o)  : [0.42 0.58]\n"
          ]
        }
      ]
    },
    {
      "cell_type": "markdown",
      "source": [
        "**Qué debes observar:**\n",
        "\n",
        "* El mayor peso debería recaer sobre **“gato”** cuando la consulta es “animal”.\n",
        "* La salida es una combinación de los “valores” ponderados por esos pesos.\n",
        "\n"
      ],
      "metadata": {
        "id": "OV5-nXM0MarU"
      }
    },
    {
      "cell_type": "code",
      "source": [
        "import numpy as np\n",
        "import matplotlib.pyplot as plt\n",
        "\n",
        "\n",
        "\n",
        "# ===== Parámetros (ajustan tu ejemplo original) =====\n",
        "rng = np.random.default_rng(0)\n",
        "d_k = 4   # dimensión de consulta/clave (antes decías \"R^4\", aquí es 10)\n",
        "d_v = 2    # dimensión de valor (elige la que prefieras)\n",
        "n   = 10    # número de (clave, valor)\n",
        "m=4\n",
        "# ===== Q, K, V (una consulta) =====\n",
        "Q = rng.normal(size=(m,d_k))      # (d_k,)\n",
        "K = rng.normal(size=(n, d_k))    # (n, d_k)  ← reemplaza a tu M\n",
        "V = rng.normal(size=(n, d_v))    # (n, d_v)\n",
        "# Si quieres replicar tu versión \"o = weights @ M\", usa: V = K.copy()\n",
        "o,weights,scores=attention_multi(Q, K, V, scale=True)\n",
        "# ===== Attention (scaled dot-product) =====\n",
        "       # (d_v,)\n",
        "\n",
        "# ===== Resultados =====\n",
        "# ===== Resultados =====\n",
        "np.set_printoptions(precision=3, suppress=True)\n",
        "print(\"Q shape:\", Q.shape, \"K:\", K.shape, \"V:\", V.shape)\n",
        "print(\"scores :\\n\", scores.round(3))\n",
        "print(\"weights:\\n\", weights.round(3))\n",
        "print(\"row sums (≈1):\", weights.sum(axis=1).round(3))  # suma por FILAS (m,)\n",
        "print(\"O:\\n\", o.round(3))\n",
        "\n",
        "# ===== Visualización de pesos (heatmap m×n) =====\n",
        "plt.figure(figsize=(6, 3))\n",
        "plt.imshow(weights, aspect='auto')   # <- usa la matriz 2D directamente\n",
        "plt.colorbar()\n",
        "plt.yticks(range(m), [f\"q{i}\" for i in range(m)])\n",
        "plt.xticks(range(n), [f\"k{j}\" for j in range(n)])\n",
        "plt.title(\"Pesos de atención A (m consultas × n claves)\")\n",
        "plt.xlabel(\"Claves (K)\")\n",
        "plt.ylabel(\"Consultas (Q)\")\n",
        "plt.show()\n"
      ],
      "metadata": {
        "colab": {
          "base_uri": "https://localhost:8080/",
          "height": 628
        },
        "id": "4iSH8UMkIa5G",
        "outputId": "69001701-8d28-4409-b6f0-c8dd29cee0bd"
      },
      "execution_count": 6,
      "outputs": [
        {
          "output_type": "stream",
          "name": "stdout",
          "text": [
            "Q shape: (4, 4) K: (10, 4) V: (10, 2)\n",
            "scores :\n",
            " [[ 0.173 -0.293 -0.236 -0.378  0.042  0.297  0.293  0.607  0.077 -0.435]\n",
            " [ 0.851  0.014 -1.146 -0.595  0.449  1.37   1.858  1.751 -0.584 -0.533]\n",
            " [ 0.285 -0.605 -0.165  0.332 -0.346  0.099 -0.918 -0.308 -1.602 -0.004]\n",
            " [ 0.029  0.286 -0.26   1.214 -0.138 -0.261  0.174 -1.899 -2.019  0.591]]\n",
            "weights:\n",
            " [[0.111 0.07  0.074 0.064 0.097 0.126 0.125 0.171 0.101 0.06 ]\n",
            " [0.102 0.044 0.014 0.024 0.068 0.171 0.278 0.25  0.024 0.025]\n",
            " [0.161 0.066 0.103 0.169 0.086 0.134 0.048 0.089 0.024 0.121]\n",
            " [0.09  0.117 0.068 0.295 0.076 0.067 0.104 0.013 0.012 0.158]]\n",
            "row sums (≈1): [1. 1. 1. 1.]\n",
            "O:\n",
            " [[ 0.575 -0.247]\n",
            " [ 0.58  -0.269]\n",
            " [ 0.759 -0.201]\n",
            " [ 0.883 -0.607]]\n"
          ]
        },
        {
          "output_type": "display_data",
          "data": {
            "text/plain": [
              "<Figure size 600x300 with 2 Axes>"
            ],
            "image/png": "[encoded data removed]"
          },
          "metadata": {}
        }
      ]
    },
    {
      "cell_type": "markdown",
      "source": [
        "Piensa en un archivo con cajones:\n",
        "\n",
        "* La etiqueta del cajón (K) te ayuda a saber qué cajón abrir según tu consulta (Q).\n",
        "\n",
        "* El contenido del cajón (V) es lo que sacas para trabajar.\n",
        "La atención calcula cuánto abrir cada cajón (pesos) y luego mezcla lo que sacaste de todos (combinación convexa de\n",
        "V)."
      ],
      "metadata": {
        "id": "0P_DOF9MbQPn"
      }
    },
    {
      "cell_type": "markdown",
      "source": [
        "*Soft* vs *Hard* attention\n",
        "\n",
        "* **Soft attention:** reparte pesos **continuos** con *softmax* (derivable).\n",
        "* **Hard attention:** elige **un** elemento (p.ej., con $\\arg\\max$), no es directamente derivable.\n",
        "\n",
        "Si $s_i$ son los puntajes:\n",
        "\n",
        "* *Hard*: $i^* = \\arg\\max_i s_i \\;\\; \\Rightarrow \\;\\; \\mathbf{o} = \\mathbf{m}_{i^*}.$\n",
        "* *Soft*: $a_i = \\text{softmax}(s_i) \\;\\; \\Rightarrow \\;\\; \\mathbf{o} = \\sum_i a_i \\mathbf{m}_i.$\n"
      ],
      "metadata": {
        "id": "Cp-ipaI8IKpe"
      }
    },
    {
      "cell_type": "code",
      "source": [
        "# =========================\n",
        "# HARD vs SOFT (multi-consulta)\n",
        "# =========================\n",
        "\n",
        "# Soft ya lo tienes:\n",
        "A_soft = weights              # (m, n)\n",
        "O_soft = o                    # (m, d_v)\n",
        "S      = scores               # (m, n)\n",
        "\n",
        "# Hard: tomar el argmax por cada consulta (fila)\n",
        "hard_idx = np.argmax(S, axis=1)     # (m,)\n",
        "A_hard   = np.eye(n)[hard_idx]      # (m, n) one-hot por fila\n",
        "O_hard   = A_hard @ V               # (m, d_v)\n",
        "\n",
        "# Comparativa numérica\n",
        "np.set_printoptions(precision=3, suppress=True)\n",
        "print(\"\\n=== HARD vs SOFT ===\")\n",
        "print(\"hard_idx (por consulta):\", hard_idx)\n",
        "print(\"\\nA_soft (primeras filas):\\n\", A_soft[:min(3,m)])\n",
        "print(\"\\nA_hard (one-hot):\\n\", A_hard)\n",
        "print(\"\\nO_soft:\\n\", O_soft)\n",
        "print(\"\\nO_hard:\\n\", O_hard)\n",
        "print(\"\\n||O_soft - O_hard||_2 por consulta:\",\n",
        "      np.linalg.norm(O_soft - O_hard, axis=1).round(4))\n",
        "\n",
        "# Sumas por fila (A_soft debe ~1, A_hard exactamente 1)\n",
        "print(\"\\nrow sums A_soft:\", A_soft.sum(axis=1).round(3))\n",
        "print(\"row sums A_hard:\", A_hard.sum(axis=1).round(3))\n",
        "\n",
        "# Visualización: heatmap soft vs hard\n",
        "fig, axes = plt.subplots(1, 2, figsize=(10, 3), sharey=True)\n",
        "\n",
        "im0 = axes[0].imshow(A_soft, aspect='auto')\n",
        "axes[0].set_title(\"Soft attention (A_soft)\")\n",
        "axes[0].set_xlabel(\"Claves (K)\")\n",
        "axes[0].set_ylabel(\"Consultas (Q)\")\n",
        "axes[0].set_xticks(range(n))\n",
        "axes[0].set_yticks(range(m))\n",
        "fig.colorbar(im0, ax=axes[0])\n",
        "\n",
        "im1 = axes[1].imshow(A_hard, aspect='auto')\n",
        "axes[1].set_title(\"Hard attention (A_hard)\")\n",
        "axes[1].set_xlabel(\"Claves (K)\")\n",
        "axes[1].set_xticks(range(n))\n",
        "axes[1].set_yticks(range(m))\n",
        "fig.colorbar(im1, ax=axes[1])\n",
        "\n",
        "plt.tight_layout()\n",
        "plt.show()\n"
      ],
      "metadata": {
        "colab": {
          "base_uri": "https://localhost:8080/",
          "height": 845
        },
        "id": "5w6DM1B-O8wI",
        "outputId": "42d427ba-cc6e-42b2-94b9-063c76dde334"
      },
      "execution_count": 7,
      "outputs": [
        {
          "output_type": "stream",
          "name": "stdout",
          "text": [
            "\n",
            "=== HARD vs SOFT ===\n",
            "hard_idx (por consulta): [7 6 3 3]\n",
            "\n",
            "A_soft (primeras filas):\n",
            " [[0.111 0.07  0.074 0.064 0.097 0.126 0.125 0.171 0.101 0.06 ]\n",
            " [0.102 0.044 0.014 0.024 0.068 0.171 0.278 0.25  0.024 0.025]\n",
            " [0.161 0.066 0.103 0.169 0.086 0.134 0.048 0.089 0.024 0.121]]\n",
            "\n",
            "A_hard (one-hot):\n",
            " [[0. 0. 0. 0. 0. 0. 0. 1. 0. 0.]\n",
            " [0. 0. 0. 0. 0. 0. 1. 0. 0. 0.]\n",
            " [0. 0. 0. 1. 0. 0. 0. 0. 0. 0.]\n",
            " [0. 0. 0. 1. 0. 0. 0. 0. 0. 0.]]\n",
            "\n",
            "O_soft:\n",
            " [[ 0.575 -0.247]\n",
            " [ 0.58  -0.269]\n",
            " [ 0.759 -0.201]\n",
            " [ 0.883 -0.607]]\n",
            "\n",
            "O_hard:\n",
            " [[ 0.052  0.684]\n",
            " [ 0.633 -2.204]\n",
            " [ 1.739 -0.496]\n",
            " [ 1.739 -0.496]]\n",
            "\n",
            "||O_soft - O_hard||_2 por consulta: [1.068 1.935 1.024 0.864]\n",
            "\n",
            "row sums A_soft: [1. 1. 1. 1.]\n",
            "row sums A_hard: [1. 1. 1. 1.]\n"
          ]
        },
        {
          "output_type": "display_data",
          "data": {
            "text/plain": [
              "<Figure size 1000x300 with 4 Axes>"
            ],
            "image/png": "[encoded data removed]"
          },
          "metadata": {}
        }
      ]
    },
    {
      "cell_type": "markdown",
      "source": [
        "Temperatura en *softmax*\n",
        "\n",
        "La **temperatura** $\\tau > 0$ controla la **concentración** de los pesos:\n",
        "\n",
        "$$\n",
        "a_i(\\tau) \\;=\\; \\frac{\\exp\\!\\left(s_i/\\tau\\right)}{\\sum_j \\exp\\!\\left(s_j/\\tau\\right)}.\n",
        "$$\n",
        "\n",
        "* $\\tau \\to 0$: distribución muy “afilada” (casi *hard*).\n",
        "* $\\tau$ grande: distribución más **uniforme** (dispersa)."
      ],
      "metadata": {
        "id": "DoCUMTx_H-C_"
      }
    },
    {
      "cell_type": "code",
      "source": [
        "def softmax_temp(scores, tau=1.0):\n",
        "    s = scores / tau\n",
        "    s = s - np.max(s)\n",
        "    ex = np.exp(s)\n",
        "    return ex / np.sum(ex)\n",
        "\n",
        "scores = np.array([2.0, 1.0, -0.5, 0.0])\n",
        "taus = [0.01, 1.0, 2.0, 5.0]\n",
        "\n",
        "plt.figure(figsize=(7,4))\n",
        "for tau in taus:\n",
        "    w = softmax_temp(scores, tau)\n",
        "    plt.plot(range(len(scores)), w, marker='o', label=f'tau={tau}')\n",
        "plt.title(\"Efecto de la temperatura en softmax\")\n",
        "plt.xlabel(\"Ítem\")\n",
        "plt.ylabel(\"Peso\")\n",
        "plt.legend()\n",
        "plt.show()"
      ],
      "metadata": {
        "colab": {
          "base_uri": "https://localhost:8080/",
          "height": 410
        },
        "id": "sHI3wBswH45H",
        "outputId": "2548e522-c7f8-4f27-aabb-deeb1180d5fe"
      },
      "execution_count": 8,
      "outputs": [
        {
          "output_type": "display_data",
          "data": {
            "text/plain": [
              "<Figure size 700x400 with 1 Axes>"
            ],
            "image/png": "[encoded data removed]"
          },
          "metadata": {}
        }
      ]
    },
    {
      "cell_type": "markdown",
      "source": [
        "#Self-Attention.\n",
        "\n",
        "Sea un conjunto de **características crudas**\n",
        "\n",
        "$$\n",
        "X' \\in \\mathbb{R}^{n\\times P},\n",
        "$$\n",
        "\n",
        "donde $n$ es la longitud de la secuencia (tokens/patches/pasos temporales) y $P$ es el número de **features** por elemento.\n",
        "Antes de aplicar atención, las llevamos al espacio del modelo mediante una **función de embedding/encoder**\n",
        "\n",
        "$$\n",
        "f:\\;\\mathbb{R}^{n\\times P}\\to \\mathbb{R}^{n\\times d_{\\text{model}}},\\qquad X \\;=\\; f(X').\n",
        "$$\n",
        "\n",
        "Casos típicos de $f$:\n",
        "\n",
        "* **Lineal (embedding denso):** $f(X') = X'W_E + \\mathbf{1}b^\\top$, con $W_E\\in\\mathbb{R}^{P\\times d_{\\text{model}}}$, $b\\in\\mathbb{R}^{d_{\\text{model}}}$.\n",
        "* **No lineal (MLP/CNN):** $f(X')=\\phi(X'W_1)W_2$ u otras variantes (audio/imágenes/tabular).\n",
        "* **NLP (one-hot $\\to$ embedding):** $X'[i]$ selecciona la fila $E[\\text{token}_i]$ de una matriz de embeddings $E\\in\\mathbb{R}^{|\\mathcal{V}|\\times d_{\\text{model}}}$.\n",
        "\n",
        "$$\n",
        "Q = XW_Q,\\quad K = XW_K,\\quad V = XW_V,\n",
        "$$\n",
        "\n",
        "donde $W_Q \\in \\mathbb{R}^{d_\\text{model}\\times d_k}$, $W_K \\in \\mathbb{R}^{d_\\text{model}\\times d_k}$, $W_V \\in \\mathbb{R}^{d_\\text{model}\\times d_v}$.\n",
        "\n",
        "La **atención** se calcula así:\n",
        "\n",
        "$$\n",
        "S \\;=\\; \\frac{QK^\\top}{\\sqrt{d_k}} \\;\\in\\; \\mathbb{R}^{n \\times n},\\qquad\n",
        "A \\;=\\; \\mathrm{softmax}_\\text{fila}(S) \\;\\in\\; \\mathbb{R}^{n \\times n},\\qquad\n",
        "O \\;=\\; AV \\;\\in\\; \\mathbb{R}^{n \\times d_v}.\n",
        "$$\n",
        "\n",
        "* $S_{ij}$ mide similitud entre la consulta del token $i$ y la clave del token $j$.\n",
        "* Cada fila de $A$ es una distribución (suma $1$).\n",
        "* Cada fila de $O$ es la **salida** para el token $i$, mezcla ponderada de los valores.\n",
        "\n",
        "> El factor $\\tfrac{1}{\\sqrt{d_k}}$ estabiliza la escala de $S$ cuando $d_k$ es grande.\n"
      ],
      "metadata": {
        "id": "cq9gKF0KjkgP"
      }
    },
    {
      "cell_type": "code",
      "source": [
        "import numpy as np\n",
        "\n",
        "np.set_printoptions(precision=3, suppress=True)\n",
        "\n",
        "def softmax(x, axis=-1):\n",
        "    x = x - np.max(x, axis=axis, keepdims=True)  # estable\n",
        "    ex = np.exp(x)\n",
        "    return ex / np.sum(ex, axis=axis, keepdims=True)\n",
        "\n",
        "# Datos pequeños reproducibles\n",
        "rng = np.random.default_rng(0)\n",
        "n, d_model, d_k, d_v = 4, 6, 3, 2\n",
        "X = rng.normal(size=(n, d_model))\n",
        "\n",
        "# Proyecciones aprendibles (simuladas)\n",
        "W_Q = rng.normal(size=(d_model, d_k))\n",
        "W_K = rng.normal(size=(d_model, d_k))\n",
        "W_V = rng.normal(size=(d_model, d_v))\n",
        "\n",
        "Q = X @ W_Q    # (n, d_k)\n",
        "K = X @ W_K    # (n, d_k)\n",
        "V = X @ W_V    # (n, d_v)\n",
        "\n",
        "S = (Q @ K.T) / np.sqrt(d_k)   # (n, n)\n",
        "A = softmax(S, axis=1)         # (n, n) filas suman ~1\n",
        "O = A @ V                      # (n, d_v)\n",
        "\n",
        "print(\"Shapes -> X:\", X.shape, \"Q:\", Q.shape, \"K:\", K.shape, \"V:\", V.shape)\n",
        "print(\"S (scores):\\n\", S)\n",
        "print(\"A (weights), row sums:\", A.sum(axis=1))\n",
        "print(\"O (output):\\n\", O)"
      ],
      "metadata": {
        "colab": {
          "base_uri": "https://localhost:8080/"
        },
        "id": "j3H-KIIBjhKV",
        "outputId": "cf68e99d-2f29-4a20-9c5b-e105f5b1eca4"
      },
      "execution_count": 9,
      "outputs": [
        {
          "output_type": "stream",
          "name": "stdout",
          "text": [
            "Shapes -> X: (4, 6) Q: (4, 3) K: (4, 3) V: (4, 2)\n",
            "S (scores):\n",
            " [[ 0.662  0.47  -0.264 -0.5  ]\n",
            " [ 1.332  0.176  0.783 -2.675]\n",
            " [-1.587 -1.049  0.856  1.651]\n",
            " [ 1.429  1.71  -2.337 -0.036]]\n",
            "A (weights), row sums: [1. 1. 1. 1.]\n",
            "O (output):\n",
            " [[-0.383  0.652]\n",
            " [-0.735  1.329]\n",
            " [ 1.703  2.495]\n",
            " [-0.596 -0.301]]\n"
          ]
        }
      ]
    },
    {
      "cell_type": "markdown",
      "source": [
        "*Masking*: **padding** y **causal**\n",
        "\n",
        "En atención usamos una **máscara** $M \\in \\mathbb{R}^{n\\times n}$ para **anular** contribuciones no permitidas **antes** del *softmax*:\n",
        "\n",
        "* $M_{ij} = 0$ si se **permite** que la consulta $i$ atienda a la clave $j$ $(i\\to j)$.\n",
        "* $M_{ij} = -\\infty$ si se **prohíbe** (eso forzará peso $0$ tras el *softmax*).\n",
        "\n",
        "Se aplica así:\n",
        "\n",
        "$$\n",
        "S_{\\text{masc}} \\;=\\; S + M,\n",
        "\\qquad\n",
        "A \\;=\\; \\mathrm{softmax}_\\text{fila}(S_{\\text{masc}}).\n",
        "$$\n",
        "\n",
        "**Tipos comunes**\n",
        "\n",
        "* **Padding mask**: bloquea posiciones “vacías” (tokens de relleno).\n",
        "  *Ejemplo práctico:* oración “el gato duerme \\<pad> \\<pad>” → prohíbe atender a las columnas 3 y 4.\n",
        "* **Causal mask**: impide “mirar al futuro” en decodificadores autoregresivos.\n",
        "  Es una máscara triangular inferior: **solo** permite $j \\le i$.\n",
        "\n",
        "> En la práctica, en lugar de $-\\infty$ se usa un número muy negativo (p. ej. $-1\\mathrm{e}{9}$) para evitar problemas de *dtype*.\n",
        "\n",
        "\n"
      ],
      "metadata": {
        "id": "LlMS4w40jeqt"
      }
    },
    {
      "cell_type": "code",
      "source": [
        "import numpy as np\n",
        "import matplotlib.pyplot as plt\n",
        "\n",
        "np.set_printoptions(precision=3, suppress=True)\n",
        "\n",
        "def softmax(x, axis=-1):\n",
        "    x = x - np.max(x, axis=axis, keepdims=True)  # estabilidad\n",
        "    ex = np.exp(x)\n",
        "    return ex / np.sum(ex, axis=axis, keepdims=True)\n",
        "\n",
        "def causal_mask(n):\n",
        "    M = np.triu(np.ones((n, n)), k=1)   # 1 por encima de la diagonal\n",
        "    M[M == 1] = -np.inf                 # prohibir futuro\n",
        "    M[M == 0] = 0.0\n",
        "    return M\n",
        "\n",
        "def apply_mask_and_softmax(S, M=None):\n",
        "    if M is not None:\n",
        "        S = S + M\n",
        "    return softmax(S, axis=1)\n",
        "\n",
        "# ===== Ejemplo reproducible =====\n",
        "rng = np.random.default_rng(3)\n",
        "n, d_k = 5, 4\n",
        "\n",
        "# Simulamos Q,K para construir S = QK^T / sqrt(d_k)\n",
        "Q = rng.normal(size=(n, d_k))\n",
        "K = rng.normal(size=(n, d_k))\n",
        "S = (Q @ K.T) / np.sqrt(d_k)  # (n, n) puntajes sin máscara\n",
        "\n",
        "# ===== Máscaras =====\n",
        "# 1) Padding: supongamos que las últimas 2 posiciones son <pad>\n",
        "M_pad = np.zeros((n, n))\n",
        "M_pad[:, -2:] = -np.inf   # bloquea columnas 3 y 4 (indexadas 3,4)\n",
        "\n",
        "# 2) Causal: no mirar al futuro (j > i)\n",
        "M_causal = causal_mask(n)\n",
        "\n",
        "# 3) Combinada: padding + causal\n",
        "#    Suma de máscaras (donde cualquiera prohíbe, se prohíbe).\n",
        "M_both = M_pad + M_causal\n",
        "\n",
        "# ===== Atenciones =====\n",
        "A_free   = apply_mask_and_softmax(S, None)     # sin máscara\n",
        "A_pad    = apply_mask_and_softmax(S, M_pad)    # con padding\n",
        "A_causal = apply_mask_and_softmax(S, M_causal) # causal\n",
        "A_both   = apply_mask_and_softmax(S, M_both)   # padding + causal\n",
        "\n",
        "print(\"Row sums (sin máscara):      \", A_free.sum(axis=1))\n",
        "print(\"Row sums (padding):          \", A_pad.sum(axis=1))\n",
        "print(\"Row sums (causal):           \", A_causal.sum(axis=1))\n",
        "print(\"Row sums (padding + causal): \", A_both.sum(axis=1))\n",
        "\n",
        "# ===== Visualización rápida (heatmaps) =====\n",
        "fig, axes = plt.subplots(1, 4, figsize=(14, 3), sharey=True)\n",
        "\n",
        "ims = []\n",
        "ims.append(axes[0].imshow(A_free,   aspect='auto'));   axes[0].set_title(\"Sin máscara\")\n",
        "ims.append(axes[1].imshow(A_pad,    aspect='auto'));   axes[1].set_title(\"Padding mask\")\n",
        "ims.append(axes[2].imshow(A_causal, aspect='auto'));   axes[2].set_title(\"Causal mask\")\n",
        "ims.append(axes[3].imshow(A_both,   aspect='auto'));   axes[3].set_title(\"Padding + Causal\")\n",
        "\n",
        "for ax in axes:\n",
        "    ax.set_xlabel(\"Claves (j)\")\n",
        "axes[0].set_ylabel(\"Consultas (i)\")\n",
        "#fig.colorbar(ims[0], ax=axes, fraction=0.025, pad=0.04)\n",
        "plt.tight_layout()\n",
        "plt.show()\n",
        "\n",
        "# ===== Ejemplo interpretativo por fila =====\n",
        "i = 3  # consulta i (p. ej., token en posición 3)\n",
        "print(f\"\\nDistribuciones de atención para la consulta i={i}:\")\n",
        "print(\"Sin máscara    :\", np.round(A_free[i], 3))\n",
        "print(\"Padding        :\", np.round(A_pad[i], 3),   \" <- sin peso en columnas <pad>\")\n",
        "print(\"Causal         :\", np.round(A_causal[i], 3),\" <- sin peso para j>i (futuro)\")\n",
        "print(\"Padding+Causal :\", np.round(A_both[i], 3),  \" <- aplica ambas restricciones\")\n"
      ],
      "metadata": {
        "colab": {
          "base_uri": "https://localhost:8080/",
          "height": 481
        },
        "id": "OLZdwMfZh7JF",
        "outputId": "a30b6d28-7c88-4d4d-8b11-005fe7a24668"
      },
      "execution_count": 10,
      "outputs": [
        {
          "output_type": "stream",
          "name": "stdout",
          "text": [
            "Row sums (sin máscara):       [1. 1. 1. 1. 1.]\n",
            "Row sums (padding):           [1. 1. 1. 1. 1.]\n",
            "Row sums (causal):            [1. 1. 1. 1. 1.]\n",
            "Row sums (padding + causal):  [1. 1. 1. 1. 1.]\n"
          ]
        },
        {
          "output_type": "display_data",
          "data": {
            "text/plain": [
              "<Figure size 1400x300 with 4 Axes>"
            ],
            "image/png": "[encoded data removed]"
          },
          "metadata": {}
        },
        {
          "output_type": "stream",
          "name": "stdout",
          "text": [
            "\n",
            "Distribuciones de atención para la consulta i=3:\n",
            "Sin máscara    : [0.096 0.064 0.245 0.119 0.476]\n",
            "Padding        : [0.238 0.157 0.605 0.    0.   ]  <- sin peso en columnas <pad>\n",
            "Causal         : [0.184 0.122 0.467 0.227 0.   ]  <- sin peso para j>i (futuro)\n",
            "Padding+Causal : [0.238 0.157 0.605 0.    0.   ]  <- aplica ambas restricciones\n"
          ]
        }
      ]
    },
    {
      "cell_type": "markdown",
      "source": [
        "**¿Dónde se usan?**\n",
        "\n",
        "* **Padding mask**\n",
        "\n",
        "  * **Encoder (Transformers bidireccionales, p. ej. BERT):** evita que se atienda a tokens de relleno en secuencias de longitud variable.\n",
        "  * **Cross-attention (decodificador ↔ encoder):** el decodificador no debe “copiar” información de posiciones \\<pad> del encoder.\n",
        "  * **Tareas típicas:** clasificación de oraciones, NER, QA extractivo (cuando el input se rellena), traducción (lado encoder), ASR no auto-regresivo, visión (patches fuera de imagen útil).\n",
        "  * **Beneficios:** estabilidad (evita “fugas” de atención a basura), mejor uso del softmax (probabilidad se reparte solo en posiciones válidas), métricas más consistentes.\n",
        "  * **Deficiencias:** requiere construir/propagar máscaras correctas; si se calcula mal, se “censura” información válida o se permite ruido.\n",
        "\n",
        "* **Causal mask (autoregresiva)**\n",
        "\n",
        "  * **Decoder self-attention (GPT/LM autoregresivos):** prohíbe mirar **al futuro**; cada token solo atiende a sí mismo y al pasado.\n",
        "  * **Tareas típicas:** generación de texto paso a paso, traducción autoregresiva, ASR streaming, modelado de series temporales y audio en tiempo real.\n",
        "  * **Beneficios:** impone la **dirección temporal** correcta; permite despliegue **en línea/streaming**; evita “trampas” (información futura).\n",
        "  * **Deficiencias:** renuncia a **contexto futuro** que sería útil si estuviera disponible (peor calidad que un modelo no causal en escenarios offline).\n",
        "\n",
        "* **Máscara combinada (padding + causal)**\n",
        "\n",
        "  * **Decoder autoregresivo con entradas con padding:** simultáneamente impide futuro y posiciones \\<pad> (propio cuando hay lotes con longitudes distintas).\n",
        "  * **Beneficios:** comportamiento correcto **y** robusto a longitudes variables; la atención siempre se reparte entre posiciones **válidas** y **anteriores**.\n",
        "  * **Deficiencias:** ligera **complejidad** extra en construcción/gestión de máscaras; errores de indexado son más fáciles si no se testea.\n"
      ],
      "metadata": {
        "id": "RN9fW3D4nRpd"
      }
    },
    {
      "cell_type": "markdown",
      "source": [
        "Dimensión de lote (batch) y forma general\n",
        "\n",
        "Con lotes, las formas son:\n",
        "\n",
        "$$\n",
        "Q \\in \\mathbb{R}^{B \\times n \\times d_k},\\quad\n",
        "K \\in \\mathbb{R}^{B \\times n \\times d_k},\\quad\n",
        "V \\in \\mathbb{R}^{B \\times n \\times d_v}.\n",
        "$$\n",
        "\n",
        "Se calcula por lote:\n",
        "\n",
        "$$\n",
        "S[b] \\;=\\; \\frac{Q[b]\\,K[b]^\\top}{\\sqrt{d_k}},\\quad\n",
        "A[b] \\;=\\; \\mathrm{softmax}_\\text{fila}(S[b]),\\quad\n",
        "O[b] \\;=\\; A[b]\\,V[b].\n",
        "$$"
      ],
      "metadata": {
        "id": "meEQy2nehy9E"
      }
    },
    {
      "cell_type": "code",
      "source": [
        "def sdpa_batched(Q, K, V, mask=None):\n",
        "    \"\"\"\n",
        "    Q,K,V: (B, n, d_k/d_v)\n",
        "    mask:  (n, n) o (B, n, n) con 0 y -inf\n",
        "    \"\"\"\n",
        "    B, n, d_k = Q.shape\n",
        "    # S = Q @ K^T por lote\n",
        "    S = np.matmul(Q, np.swapaxes(K, -1, -2)) / np.sqrt(d_k)  # (B, n, n)\n",
        "    if mask is not None:\n",
        "        if mask.ndim == 2:\n",
        "            S = S + mask[None, :, :]\n",
        "        else:\n",
        "            S = S + mask\n",
        "    # softmax por filas (eje=-1)\n",
        "    S_shift = S - np.max(S, axis=-1, keepdims=True)\n",
        "    A = np.exp(S_shift)\n",
        "    A = A / np.sum(A, axis=-1, keepdims=True)\n",
        "    O = np.matmul(A, V)  # (B, n, d_v)\n",
        "    return O, A, S\n",
        "\n",
        "# Prueba con B=2, n=3\n",
        "B, n, d_k, d_v = 2, 3, 4, 5\n",
        "Qb = rng.normal(size=(B, n, d_k))\n",
        "Kb = rng.normal(size=(B, n, d_k))\n",
        "Vb = rng.normal(size=(B, n, d_v))\n",
        "O_b, A_b, S_b = sdpa_batched(Qb, Kb, Vb, mask=causal_mask(n))\n",
        "\n",
        "print(\"Shapes batched -> O:\", O_b.shape, \"A:\", A_b.shape, \"S:\", S_b.shape)\n",
        "print(\"Row sums batch 0:\", A_b[0].sum(axis=1))"
      ],
      "metadata": {
        "colab": {
          "base_uri": "https://localhost:8080/"
        },
        "id": "5YMIA_8WhwWH",
        "outputId": "5a8c1e33-c6d2-46d2-a782-4248ce5e1755"
      },
      "execution_count": 11,
      "outputs": [
        {
          "output_type": "stream",
          "name": "stdout",
          "text": [
            "Shapes batched -> O: (2, 3, 5) A: (2, 3, 3) S: (2, 3, 3)\n",
            "Row sums batch 0: [1. 1. 1.]\n"
          ]
        }
      ]
    },
    {
      "cell_type": "markdown",
      "source": [
        "**Dot-Product vs Additive (Bahdanau)** con $Q=XW_Q,\\;K=XW_K,\\;V=XW_V$\n",
        "\n",
        "Sea $X\\in\\mathbb{R}^{n\\times d_{\\text{model}}}$ y las proyecciones\n",
        "\n",
        "$$\n",
        "Q=XW_Q,\\quad K=XW_K,\\quad V=XW_V,\n",
        "$$\n",
        "\n",
        "con $W_Q,W_K\\in\\mathbb{R}^{d_{\\text{model}}\\times d_k}$ y $W_V\\in\\mathbb{R}^{d_{\\text{model}}\\times d_v}$.\n",
        "\n",
        "| Aspecto         | **Dot-Product (escalado)**                                                                   | **Additive (Bahdanau)**                                                                                                                                                                  |\n",
        "| --------------- | -------------------------------------------------------------------------------------------- | ---------------------------------------------------------------------------------------------------------------------------------------------------------------------------------------- |\n",
        "| **Puntajes**    | $\\displaystyle S \\;=\\; \\frac{QK^\\top}{\\sqrt{d_k}}\\;\\in\\;\\mathbb{R}^{n\\times n}$              | $\\displaystyle S_{\\text{add}}[i,j] \\;=\\; \\mathbf{w}^\\top \\tanh\\!\\Big((QW_q^\\top)_{i,:} + (KW_k^\\top)_{j,:}\\Big)$ con $W_q,W_k\\in\\mathbb{R}^{h\\times d_k},\\;\\mathbf{w}\\in\\mathbb{R}^{h}$. |\n",
        "| **Pesos**       | $A=\\mathrm{softmax}_\\text{fila}(S)$                                                          | $A_{\\text{add}}=\\mathrm{softmax}_\\text{fila}(S_{\\text{add}})$                                                                                                                            |\n",
        "| **Salida**      | $O = A\\,V \\in \\mathbb{R}^{n\\times d_v}$                                                      | $O_{\\text{add}} = A_{\\text{add}}\\,V \\in \\mathbb{R}^{n\\times d_v}$                                                                                                                        |\n",
        "| **Uso típico**  | Transformers modernos (encoder, decoder, cross-attn)                                         | Seq2seq RNN clásico; escenarios con $d_k$ pequeño o donde una no linealidad ayuda a alinear                                                                                              |\n",
        "| **Ventajas**    | Muy **eficiente** (GEMMs, GPU/TPU); simple; escala bien; el factor $1/\\sqrt{d_k}$ estabiliza | **Más expresivo** localmente (alineamientos no lineales) con $h$ pequeño                                                                                                                 |\n",
        "| **Desventajas** | Sin el escalado, para $d_k$ grande el *softmax* se “afila” demasiado                         | **Más costoso** (MLP por par $(i,j)$); más parámetros; menos throughput                                                                                                                  |\n",
        "\n",
        "**Notas de forma:**\n",
        "\n",
        "* En dot-product, toda la operación se expresa en álgebra matricial estándar.\n",
        "* En aditiva, suele implementarse con *broadcasting*: $Q' = QW_q^\\top\\in\\mathbb{R}^{n\\times h}$, $K' = KW_k^\\top\\in\\mathbb{R}^{n\\times h}$ y\n",
        "  $\\displaystyle S_{\\text{add}}[i,j] = \\mathbf{w}^\\top \\tanh\\!\\big(Q'_{i,:}+K'_{j,:}\\big)$.\n",
        "* En ambos casos, **la lógica posterior es la misma**: *softmax por filas* y mezcla $V$.\n"
      ],
      "metadata": {
        "id": "FQw05oEvhuMk"
      }
    },
    {
      "cell_type": "code",
      "source": [
        "import numpy as np\n",
        "import matplotlib.pyplot as plt\n",
        "\n",
        "np.set_printoptions(precision=3, suppress=True)\n",
        "\n",
        "def softmax(x, axis=-1):\n",
        "    x = x - np.max(x, axis=axis, keepdims=True)\n",
        "    ex = np.exp(x)\n",
        "    return ex / np.sum(ex, axis=axis, keepdims=True)\n",
        "\n",
        "# ----- Datos pequeños reproducibles -----\n",
        "rng = np.random.default_rng(7)\n",
        "d_k, d_v, n = 4, 3, 6    # dimensión de claves/consulta, valores, nº de claves\n",
        "q = rng.normal(size=(d_k,))      # una consulta\n",
        "K = rng.normal(size=(n, d_k))    # n claves\n",
        "V = rng.normal(size=(n, d_v))    # n valores\n",
        "\n",
        "# ----- Dot-Product (escalado) -----\n",
        "s_dot = (K @ q) / np.sqrt(d_k)   # (n,)\n",
        "a_dot = softmax(s_dot)           # (n,)\n",
        "o_dot = a_dot @ V                # (d_v,)\n",
        "\n",
        "# ----- Additive (Bahdanau) -----\n",
        "h = 8  # ancho del MLP de alineación\n",
        "Wq = rng.normal(size=(h, d_k))\n",
        "Wk = rng.normal(size=(h, d_k))\n",
        "w  = rng.normal(size=(h,))\n",
        "\n",
        "# s_add[i] = w^T tanh( Wq q + Wk k_i )\n",
        "t = np.tanh(Wq @ q[:, None] + (Wk @ K.T))  # (h, n)\n",
        "s_add = (w @ t)                            # (n,)\n",
        "a_add = softmax(s_add)\n",
        "o_add = a_add @ V\n",
        "\n",
        "print(\"s_dot:\", s_dot.round(3))\n",
        "print(\"s_add:\", s_add.round(3))\n",
        "print(\"\\na_dot:\", a_dot.round(3), \" sum:\", a_dot.sum().round(3))\n",
        "print(\"a_add:\", a_add.round(3), \" sum:\", a_add.sum().round(3))\n",
        "print(\"\\no_dot:\", o_dot.round(3))\n",
        "print(\"o_add:\", o_add.round(3))\n",
        "print(\"\\n||o_dot - o_add||_2:\", np.linalg.norm(o_dot - o_add).round(4))\n",
        "\n",
        "# ----- Visual: pesos lado a lado -----\n",
        "x = np.arange(n)\n",
        "width = 0.38\n",
        "plt.figure(figsize=(7,3))\n",
        "plt.bar(x - width/2, a_dot, width, label=\"Dot-Product\")\n",
        "plt.bar(x + width/2, a_add, width, label=\"Additive\")\n",
        "plt.title(\"Pesos de atención por clave: Dot vs Additive\")\n",
        "plt.xlabel(\"Índice de clave (i)\")\n",
        "plt.ylabel(\"Peso de atención\")\n",
        "plt.xticks(x)\n",
        "plt.legend()\n",
        "plt.show()\n"
      ],
      "metadata": {
        "colab": {
          "base_uri": "https://localhost:8080/",
          "height": 508
        },
        "id": "fIbhicjHhrzW",
        "outputId": "9c580608-ca79-48c9-9048-886e0ee64097"
      },
      "execution_count": 12,
      "outputs": [
        {
          "output_type": "stream",
          "name": "stdout",
          "text": [
            "s_dot: [-0.753 -0.319 -0.445  0.766  0.017  0.557]\n",
            "s_add: [-3.175 -3.177 -2.989 -0.497 -1.473 -0.714]\n",
            "\n",
            "a_dot: [0.07  0.108 0.095 0.319 0.151 0.259]  sum: 1.0\n",
            "a_add: [0.029 0.029 0.034 0.416 0.157 0.335]  sum: 1.0\n",
            "\n",
            "o_dot: [ 0.364  0.001 -0.817]\n",
            "o_add: [ 0.433  0.17  -0.825]\n",
            "\n",
            "||o_dot - o_add||_2: 0.1826\n"
          ]
        },
        {
          "output_type": "display_data",
          "data": {
            "text/plain": [
              "<Figure size 700x300 with 1 Axes>"
            ],
            "image/png": "[encoded data removed]"
          },
          "metadata": {}
        }
      ]
    },
    {
      "cell_type": "markdown",
      "source": [
        "Resumen y siguientes pasos\n",
        "\n",
        "* **Operación matemática**: $O=\\mathrm{softmax}\\!\\left(QK^\\top/\\sqrt{d_k}\\right)V$ con proyecciones $W_Q, W_K, W_V$.\n",
        "* **Máscaras**: controlan qué posiciones pueden atenderse (padding/causal).\n",
        "* **Estabilidad**: resta del máximo y escalado por $\\sqrt{d_k}$; **temperatura** para afilar/aplanar pesos.\n",
        "* **Batch**: misma operación por lote.\n",
        "* **Variantes**: dot-product vs aditiva.\n"
      ],
      "metadata": {
        "id": "D4k1yuLQhpxM"
      }
    },
    {
      "cell_type": "markdown",
      "source": [],
      "metadata": {
        "id": "z_BGU_knEz8z"
      }
    },
    {
      "cell_type": "code",
      "source": [
        "import numpy as np\n",
        "import pandas as pd\n",
        "\n",
        "# 1) Carga de datos\n",
        "url = \"https://raw.githubusercontent.com/juacardonahe/Curso_NLP/refs/heads/main/data/SMSSpamCollection/SMSSpamCollection\"\n",
        "df = pd.read_csv(url, sep='\\t', header=None, names=['label', 'message'])\n",
        "df['label'] = df['label'].map({'ham': 0, 'spam': 1})\n",
        "\n",
        "# 2) Longitud (percentil 95) y split\n",
        "df['message_length'] = df['message'].apply(lambda x: len(str(x).split()))\n",
        "max_length = int(df['message_length'].quantile(0.95))\n",
        "print(\"Max sequence length (95th):\", max_length)\n",
        "\n",
        "from sklearn.model_selection import train_test_split\n",
        "X_train, X_test, y_train, y_test = train_test_split(\n",
        "    df['message'], df['label'], test_size=0.2, random_state=42, stratify=df['label']\n",
        ")\n",
        "\n",
        "# 3) Tokenizador y secuencias\n",
        "from tensorflow.keras.preprocessing.text import Tokenizer\n",
        "from tensorflow.keras.preprocessing.sequence import pad_sequences\n",
        "\n",
        "tokenizer = Tokenizer(oov_token=\"<unk>\")\n",
        "tokenizer.fit_on_texts(X_train)\n",
        "vocab_size = len(tokenizer.word_index) + 1\n",
        "print(\"Vocab size:\", vocab_size)\n",
        "\n",
        "X_train_seq = tokenizer.texts_to_sequences(X_train)\n",
        "X_test_seq  = tokenizer.texts_to_sequences(X_test)\n",
        "\n",
        "X_train_pad = pad_sequences(X_train_seq, maxlen=max_length, padding='pre', truncating='pre')\n",
        "X_test_pad  = pad_sequences(X_test_seq,  maxlen=max_length, padding='pre', truncating='pre')\n",
        "\n",
        "# 4) Class weights\n",
        "from sklearn.utils.class_weight import compute_class_weight\n",
        "cw = compute_class_weight(class_weight='balanced', classes=np.array([0,1]), y=y_train.values)\n",
        "class_weights = {0: float(cw[0]), 1: float(cw[1])}\n",
        "class_weights\n"
      ],
      "metadata": {
        "id": "wy5uIaFMk3Cd",
        "colab": {
          "base_uri": "https://localhost:8080/"
        },
        "outputId": "158bc300-349a-408b-ca2c-1a646e042993"
      },
      "execution_count": 13,
      "outputs": [
        {
          "output_type": "stream",
          "name": "stdout",
          "text": [
            "Max sequence length (95th): 33\n",
            "Vocab size: 7935\n"
          ]
        },
        {
          "output_type": "execute_result",
          "data": {
            "text/plain": [
              "{0: 0.577481212749417, 1: 3.7265886287625416}"
            ]
          },
          "metadata": {},
          "execution_count": 13
        }
      ]
    },
    {
      "cell_type": "code",
      "source": [
        "\n",
        "\n",
        "import tensorflow as tf\n",
        "from tensorflow.keras import layers, Model\n",
        "\n",
        "tf.keras.backend.clear_session()\n",
        "\n",
        "# Dimensiones\n",
        "embed_dim = 128\n",
        "d_model   = 128\n",
        "d_k       = 64\n",
        "d_v       = 64\n",
        "\n",
        "inputs = layers.Input(shape=(max_length,), dtype=\"int32\", name=\"tokens\")\n",
        "\n",
        "# --- Máscara de padding (1=token, 0=pad) envuelta en Lambda ---\n",
        "mask      = layers.Lambda(lambda x: tf.cast(tf.not_equal(x, 0), tf.float32), name=\"mask_bool\")(inputs)     # (B,T)\n",
        "mask_exp  = layers.Lambda(lambda m: tf.expand_dims(m, axis=1),                       name=\"mask_exp\")(mask) # (B,1,T)\n",
        "mask_time = layers.Lambda(lambda m: tf.expand_dims(m, axis=-1),                      name=\"mask_time\")(mask)# (B,T,1)\n",
        "\n",
        "# --- X' -> Embedding -> MLP por paso: X ---\n",
        "emb = layers.Embedding(vocab_size, embed_dim, mask_zero=False, name=\"E\")(inputs)\n",
        "x   = layers.Dense(d_model, activation=\"relu\", name=\"f_mlp\")(emb)   # f(X') => X\n",
        "\n",
        "# --- Proyecciones Q,K,V (estas capas aprenden W_Q, W_K, W_V) ---\n",
        "Q = layers.Dense(d_k, use_bias=False, name=\"W_Q\")(x)   # (B,T,d_k)\n",
        "K = layers.Dense(d_k, use_bias=False, name=\"W_K\")(x)   # (B,T,d_k)\n",
        "V = layers.Dense(d_v, use_bias=False, name=\"W_V\")(x)   # (B,T,d_v)\n",
        "\n",
        "# --- Scaled Dot-Product Attention con máscara (todas dentro de Lambda/Capas) ---\n",
        "# scores = (Q @ K^T) / sqrt(d_k)\n",
        "scores = layers.Lambda(\n",
        "    lambda qk: tf.matmul(qk[0], qk[1], transpose_b=True) / tf.sqrt(tf.cast(tf.shape(qk[1])[-1], tf.float32)),\n",
        "    name=\"scores\"\n",
        ")([Q, K])  # (B,T,T)\n",
        "\n",
        "# scores_masked = scores + (1 - mask_exp) * -1e9\n",
        "scores_masked = layers.Lambda(\n",
        "    lambda sm: sm[0] + (1. - sm[1]) * (-1e9),\n",
        "    name=\"scores_masked\"\n",
        ")([scores, mask_exp])\n",
        "\n",
        "A = layers.Softmax(axis=-1, name=\"A\")(scores_masked)   # (B,T,T)\n",
        "\n",
        "O = layers.Lambda(lambda av: tf.matmul(av[0], av[1]), name=\"O\")([A, V])  # (B,T,d_v)\n",
        "\n",
        "# --- Pooling temporal enmascarado (promedio solo sobre tokens válidos) ---\n",
        "sum_O     = layers.Lambda(lambda om: tf.reduce_sum(om[0] * om[1], axis=1), name=\"sum_O\")([O, mask_time])   # (B,d_v)\n",
        "len_valid = layers.Lambda(lambda m: tf.reduce_sum(m, axis=1) + 1e-9, name=\"len_valid\")(mask_time)          # (B,1)\n",
        "pooled    = layers.Lambda(lambda sl: sl[0] / sl[1], name=\"pooled\")([sum_O, len_valid])                     # (B,d_v)\n",
        "\n",
        "logits = layers.Dense(1, activation=\"sigmoid\", name=\"cls\")(pooled)\n",
        "\n",
        "model = Model(inputs, logits, name=\"MLP_SelfAttn_SMS\")\n",
        "model.compile(optimizer=\"adam\", loss=\"binary_crossentropy\", metrics=[\"accuracy\"])\n",
        "model.summary()\n"
      ],
      "metadata": {
        "colab": {
          "base_uri": "https://localhost:8080/",
          "height": 799
        },
        "id": "e-y3X6fpE1Qv",
        "outputId": "cb0716db-d362-4f06-cc68-609b8a812ca0"
      },
      "execution_count": 14,
      "outputs": [
        {
          "output_type": "display_data",
          "data": {
            "text/plain": [
              "\u001b[1mModel: \"MLP_SelfAttn_SMS\"\u001b[0m\n"
            ],
            "text/html": [
              "<pre style=\"white-space:pre;overflow-x:auto;line-height:normal;font-family:Menlo,'DejaVu Sans Mono',consolas,'Courier New',monospace\"><span style=\"font-weight: bold\">Model: \"MLP_SelfAttn_SMS\"</span>\n",
              "</pre>\n"
            ]
          },
          "metadata": {}
        },
        {
          "output_type": "display_data",
          "data": {
            "text/plain": [
              "┏━━━━━━━━━━━━━━━━━━━━━┳━━━━━━━━━━━━━━━━━━━┳━━━━━━━━━━━━┳━━━━━━━━━━━━━━━━━━━┓\n",
              "┃\u001b[1m \u001b[0m\u001b[1mLayer (type)       \u001b[0m\u001b[1m \u001b[0m┃\u001b[1m \u001b[0m\u001b[1mOutput Shape     \u001b[0m\u001b[1m \u001b[0m┃\u001b[1m \u001b[0m\u001b[1m   Param #\u001b[0m\u001b[1m \u001b[0m┃\u001b[1m \u001b[0m\u001b[1mConnected to     \u001b[0m\u001b[1m \u001b[0m┃\n",
              "┡━━━━━━━━━━━━━━━━━━━━━╇━━━━━━━━━━━━━━━━━━━╇━━━━━━━━━━━━╇━━━━━━━━━━━━━━━━━━━┩\n",
              "│ tokens (\u001b[38;5;33mInputLayer\u001b[0m) │ (\u001b[38;5;45mNone\u001b[0m, \u001b[38;5;34m33\u001b[0m)        │          \u001b[38;5;34m0\u001b[0m │ -                 │\n",
              "├─────────────────────┼───────────────────┼────────────┼───────────────────┤\n",
              "│ E (\u001b[38;5;33mEmbedding\u001b[0m)       │ (\u001b[38;5;45mNone\u001b[0m, \u001b[38;5;34m33\u001b[0m, \u001b[38;5;34m128\u001b[0m)   │  \u001b[38;5;34m1,015,680\u001b[0m │ tokens[\u001b[38;5;34m0\u001b[0m][\u001b[38;5;34m0\u001b[0m]      │\n",
              "├─────────────────────┼───────────────────┼────────────┼───────────────────┤\n",
              "│ f_mlp (\u001b[38;5;33mDense\u001b[0m)       │ (\u001b[38;5;45mNone\u001b[0m, \u001b[38;5;34m33\u001b[0m, \u001b[38;5;34m128\u001b[0m)   │     \u001b[38;5;34m16,512\u001b[0m │ E[\u001b[38;5;34m0\u001b[0m][\u001b[38;5;34m0\u001b[0m]           │\n",
              "├─────────────────────┼───────────────────┼────────────┼───────────────────┤\n",
              "│ W_Q (\u001b[38;5;33mDense\u001b[0m)         │ (\u001b[38;5;45mNone\u001b[0m, \u001b[38;5;34m33\u001b[0m, \u001b[38;5;34m64\u001b[0m)    │      \u001b[38;5;34m8,192\u001b[0m │ f_mlp[\u001b[38;5;34m0\u001b[0m][\u001b[38;5;34m0\u001b[0m]       │\n",
              "├─────────────────────┼───────────────────┼────────────┼───────────────────┤\n",
              "│ W_K (\u001b[38;5;33mDense\u001b[0m)         │ (\u001b[38;5;45mNone\u001b[0m, \u001b[38;5;34m33\u001b[0m, \u001b[38;5;34m64\u001b[0m)    │      \u001b[38;5;34m8,192\u001b[0m │ f_mlp[\u001b[38;5;34m0\u001b[0m][\u001b[38;5;34m0\u001b[0m]       │\n",
              "├─────────────────────┼───────────────────┼────────────┼───────────────────┤\n",
              "│ mask_bool (\u001b[38;5;33mLambda\u001b[0m)  │ (\u001b[38;5;45mNone\u001b[0m, \u001b[38;5;34m33\u001b[0m)        │          \u001b[38;5;34m0\u001b[0m │ tokens[\u001b[38;5;34m0\u001b[0m][\u001b[38;5;34m0\u001b[0m]      │\n",
              "├─────────────────────┼───────────────────┼────────────┼───────────────────┤\n",
              "│ scores (\u001b[38;5;33mLambda\u001b[0m)     │ (\u001b[38;5;45mNone\u001b[0m, \u001b[38;5;34m33\u001b[0m, \u001b[38;5;34m33\u001b[0m)    │          \u001b[38;5;34m0\u001b[0m │ W_Q[\u001b[38;5;34m0\u001b[0m][\u001b[38;5;34m0\u001b[0m],        │\n",
              "│                     │                   │            │ W_K[\u001b[38;5;34m0\u001b[0m][\u001b[38;5;34m0\u001b[0m]         │\n",
              "├─────────────────────┼───────────────────┼────────────┼───────────────────┤\n",
              "│ mask_exp (\u001b[38;5;33mLambda\u001b[0m)   │ (\u001b[38;5;45mNone\u001b[0m, \u001b[38;5;34m1\u001b[0m, \u001b[38;5;34m33\u001b[0m)     │          \u001b[38;5;34m0\u001b[0m │ mask_bool[\u001b[38;5;34m0\u001b[0m][\u001b[38;5;34m0\u001b[0m]   │\n",
              "├─────────────────────┼───────────────────┼────────────┼───────────────────┤\n",
              "│ scores_masked       │ (\u001b[38;5;45mNone\u001b[0m, \u001b[38;5;34m33\u001b[0m, \u001b[38;5;34m33\u001b[0m)    │          \u001b[38;5;34m0\u001b[0m │ scores[\u001b[38;5;34m0\u001b[0m][\u001b[38;5;34m0\u001b[0m],     │\n",
              "│ (\u001b[38;5;33mLambda\u001b[0m)            │                   │            │ mask_exp[\u001b[38;5;34m0\u001b[0m][\u001b[38;5;34m0\u001b[0m]    │\n",
              "├─────────────────────┼───────────────────┼────────────┼───────────────────┤\n",
              "│ A (\u001b[38;5;33mSoftmax\u001b[0m)         │ (\u001b[38;5;45mNone\u001b[0m, \u001b[38;5;34m33\u001b[0m, \u001b[38;5;34m33\u001b[0m)    │          \u001b[38;5;34m0\u001b[0m │ scores_masked[\u001b[38;5;34m0\u001b[0m]… │\n",
              "├─────────────────────┼───────────────────┼────────────┼───────────────────┤\n",
              "│ W_V (\u001b[38;5;33mDense\u001b[0m)         │ (\u001b[38;5;45mNone\u001b[0m, \u001b[38;5;34m33\u001b[0m, \u001b[38;5;34m64\u001b[0m)    │      \u001b[38;5;34m8,192\u001b[0m │ f_mlp[\u001b[38;5;34m0\u001b[0m][\u001b[38;5;34m0\u001b[0m]       │\n",
              "├─────────────────────┼───────────────────┼────────────┼───────────────────┤\n",
              "│ O (\u001b[38;5;33mLambda\u001b[0m)          │ (\u001b[38;5;45mNone\u001b[0m, \u001b[38;5;34m33\u001b[0m, \u001b[38;5;34m64\u001b[0m)    │          \u001b[38;5;34m0\u001b[0m │ A[\u001b[38;5;34m0\u001b[0m][\u001b[38;5;34m0\u001b[0m],          │\n",
              "│                     │                   │            │ W_V[\u001b[38;5;34m0\u001b[0m][\u001b[38;5;34m0\u001b[0m]         │\n",
              "├─────────────────────┼───────────────────┼────────────┼───────────────────┤\n",
              "│ mask_time (\u001b[38;5;33mLambda\u001b[0m)  │ (\u001b[38;5;45mNone\u001b[0m, \u001b[38;5;34m33\u001b[0m, \u001b[38;5;34m1\u001b[0m)     │          \u001b[38;5;34m0\u001b[0m │ mask_bool[\u001b[38;5;34m0\u001b[0m][\u001b[38;5;34m0\u001b[0m]   │\n",
              "├─────────────────────┼───────────────────┼────────────┼───────────────────┤\n",
              "│ sum_O (\u001b[38;5;33mLambda\u001b[0m)      │ (\u001b[38;5;45mNone\u001b[0m, \u001b[38;5;34m64\u001b[0m)        │          \u001b[38;5;34m0\u001b[0m │ O[\u001b[38;5;34m0\u001b[0m][\u001b[38;5;34m0\u001b[0m],          │\n",
              "│                     │                   │            │ mask_time[\u001b[38;5;34m0\u001b[0m][\u001b[38;5;34m0\u001b[0m]   │\n",
              "├─────────────────────┼───────────────────┼────────────┼───────────────────┤\n",
              "│ len_valid (\u001b[38;5;33mLambda\u001b[0m)  │ (\u001b[38;5;45mNone\u001b[0m, \u001b[38;5;34m1\u001b[0m)         │          \u001b[38;5;34m0\u001b[0m │ mask_time[\u001b[38;5;34m0\u001b[0m][\u001b[38;5;34m0\u001b[0m]   │\n",
              "├─────────────────────┼───────────────────┼────────────┼───────────────────┤\n",
              "│ pooled (\u001b[38;5;33mLambda\u001b[0m)     │ (\u001b[38;5;45mNone\u001b[0m, \u001b[38;5;34m64\u001b[0m)        │          \u001b[38;5;34m0\u001b[0m │ sum_O[\u001b[38;5;34m0\u001b[0m][\u001b[38;5;34m0\u001b[0m],      │\n",
              "│                     │                   │            │ len_valid[\u001b[38;5;34m0\u001b[0m][\u001b[38;5;34m0\u001b[0m]   │\n",
              "├─────────────────────┼───────────────────┼────────────┼───────────────────┤\n",
              "│ cls (\u001b[38;5;33mDense\u001b[0m)         │ (\u001b[38;5;45mNone\u001b[0m, \u001b[38;5;34m1\u001b[0m)         │         \u001b[38;5;34m65\u001b[0m │ pooled[\u001b[38;5;34m0\u001b[0m][\u001b[38;5;34m0\u001b[0m]      │\n",
              "└─────────────────────┴───────────────────┴────────────┴───────────────────┘\n"
            ],
            "text/html": [
              "<pre style=\"white-space:pre;overflow-x:auto;line-height:normal;font-family:Menlo,'DejaVu Sans Mono',consolas,'Courier New',monospace\">┏━━━━━━━━━━━━━━━━━━━━━┳━━━━━━━━━━━━━━━━━━━┳━━━━━━━━━━━━┳━━━━━━━━━━━━━━━━━━━┓\n",
              "┃<span style=\"font-weight: bold\"> Layer (type)        </span>┃<span style=\"font-weight: bold\"> Output Shape      </span>┃<span style=\"font-weight: bold\">    Param # </span>┃<span style=\"font-weight: bold\"> Connected to      </span>┃\n",
              "┡━━━━━━━━━━━━━━━━━━━━━╇━━━━━━━━━━━━━━━━━━━╇━━━━━━━━━━━━╇━━━━━━━━━━━━━━━━━━━┩\n",
              "│ tokens (<span style=\"color: #0087ff; text-decoration-color: #0087ff\">InputLayer</span>) │ (<span style=\"color: #00d7ff; text-decoration-color: #00d7ff\">None</span>, <span style=\"color: #00af00; text-decoration-color: #00af00\">33</span>)        │          <span style=\"color: #00af00; text-decoration-color: #00af00\">0</span> │ -                 │\n",
              "├─────────────────────┼───────────────────┼────────────┼───────────────────┤\n",
              "│ E (<span style=\"color: #0087ff; text-decoration-color: #0087ff\">Embedding</span>)       │ (<span style=\"color: #00d7ff; text-decoration-color: #00d7ff\">None</span>, <span style=\"color: #00af00; text-decoration-color: #00af00\">33</span>, <span style=\"color: #00af00; text-decoration-color: #00af00\">128</span>)   │  <span style=\"color: #00af00; text-decoration-color: #00af00\">1,015,680</span> │ tokens[<span style=\"color: #00af00; text-decoration-color: #00af00\">0</span>][<span style=\"color: #00af00; text-decoration-color: #00af00\">0</span>]      │\n",
              "├─────────────────────┼───────────────────┼────────────┼───────────────────┤\n",
              "│ f_mlp (<span style=\"color: #0087ff; text-decoration-color: #0087ff\">Dense</span>)       │ (<span style=\"color: #00d7ff; text-decoration-color: #00d7ff\">None</span>, <span style=\"color: #00af00; text-decoration-color: #00af00\">33</span>, <span style=\"color: #00af00; text-decoration-color: #00af00\">128</span>)   │     <span style=\"color: #00af00; text-decoration-color: #00af00\">16,512</span> │ E[<span style=\"color: #00af00; text-decoration-color: #00af00\">0</span>][<span style=\"color: #00af00; text-decoration-color: #00af00\">0</span>]           │\n",
              "├─────────────────────┼───────────────────┼────────────┼───────────────────┤\n",
              "│ W_Q (<span style=\"color: #0087ff; text-decoration-color: #0087ff\">Dense</span>)         │ (<span style=\"color: #00d7ff; text-decoration-color: #00d7ff\">None</span>, <span style=\"color: #00af00; text-decoration-color: #00af00\">33</span>, <span style=\"color: #00af00; text-decoration-color: #00af00\">64</span>)    │      <span style=\"color: #00af00; text-decoration-color: #00af00\">8,192</span> │ f_mlp[<span style=\"color: #00af00; text-decoration-color: #00af00\">0</span>][<span style=\"color: #00af00; text-decoration-color: #00af00\">0</span>]       │\n",
              "├─────────────────────┼───────────────────┼────────────┼───────────────────┤\n",
              "│ W_K (<span style=\"color: #0087ff; text-decoration-color: #0087ff\">Dense</span>)         │ (<span style=\"color: #00d7ff; text-decoration-color: #00d7ff\">None</span>, <span style=\"color: #00af00; text-decoration-color: #00af00\">33</span>, <span style=\"color: #00af00; text-decoration-color: #00af00\">64</span>)    │      <span style=\"color: #00af00; text-decoration-color: #00af00\">8,192</span> │ f_mlp[<span style=\"color: #00af00; text-decoration-color: #00af00\">0</span>][<span style=\"color: #00af00; text-decoration-color: #00af00\">0</span>]       │\n",
              "├─────────────────────┼───────────────────┼────────────┼───────────────────┤\n",
              "│ mask_bool (<span style=\"color: #0087ff; text-decoration-color: #0087ff\">Lambda</span>)  │ (<span style=\"color: #00d7ff; text-decoration-color: #00d7ff\">None</span>, <span style=\"color: #00af00; text-decoration-color: #00af00\">33</span>)        │          <span style=\"color: #00af00; text-decoration-color: #00af00\">0</span> │ tokens[<span style=\"color: #00af00; text-decoration-color: #00af00\">0</span>][<span style=\"color: #00af00; text-decoration-color: #00af00\">0</span>]      │\n",
              "├─────────────────────┼───────────────────┼────────────┼───────────────────┤\n",
              "│ scores (<span style=\"color: #0087ff; text-decoration-color: #0087ff\">Lambda</span>)     │ (<span style=\"color: #00d7ff; text-decoration-color: #00d7ff\">None</span>, <span style=\"color: #00af00; text-decoration-color: #00af00\">33</span>, <span style=\"color: #00af00; text-decoration-color: #00af00\">33</span>)    │          <span style=\"color: #00af00; text-decoration-color: #00af00\">0</span> │ W_Q[<span style=\"color: #00af00; text-decoration-color: #00af00\">0</span>][<span style=\"color: #00af00; text-decoration-color: #00af00\">0</span>],        │\n",
              "│                     │                   │            │ W_K[<span style=\"color: #00af00; text-decoration-color: #00af00\">0</span>][<span style=\"color: #00af00; text-decoration-color: #00af00\">0</span>]         │\n",
              "├─────────────────────┼───────────────────┼────────────┼───────────────────┤\n",
              "│ mask_exp (<span style=\"color: #0087ff; text-decoration-color: #0087ff\">Lambda</span>)   │ (<span style=\"color: #00d7ff; text-decoration-color: #00d7ff\">None</span>, <span style=\"color: #00af00; text-decoration-color: #00af00\">1</span>, <span style=\"color: #00af00; text-decoration-color: #00af00\">33</span>)     │          <span style=\"color: #00af00; text-decoration-color: #00af00\">0</span> │ mask_bool[<span style=\"color: #00af00; text-decoration-color: #00af00\">0</span>][<span style=\"color: #00af00; text-decoration-color: #00af00\">0</span>]   │\n",
              "├─────────────────────┼───────────────────┼────────────┼───────────────────┤\n",
              "│ scores_masked       │ (<span style=\"color: #00d7ff; text-decoration-color: #00d7ff\">None</span>, <span style=\"color: #00af00; text-decoration-color: #00af00\">33</span>, <span style=\"color: #00af00; text-decoration-color: #00af00\">33</span>)    │          <span style=\"color: #00af00; text-decoration-color: #00af00\">0</span> │ scores[<span style=\"color: #00af00; text-decoration-color: #00af00\">0</span>][<span style=\"color: #00af00; text-decoration-color: #00af00\">0</span>],     │\n",
              "│ (<span style=\"color: #0087ff; text-decoration-color: #0087ff\">Lambda</span>)            │                   │            │ mask_exp[<span style=\"color: #00af00; text-decoration-color: #00af00\">0</span>][<span style=\"color: #00af00; text-decoration-color: #00af00\">0</span>]    │\n",
              "├─────────────────────┼───────────────────┼────────────┼───────────────────┤\n",
              "│ A (<span style=\"color: #0087ff; text-decoration-color: #0087ff\">Softmax</span>)         │ (<span style=\"color: #00d7ff; text-decoration-color: #00d7ff\">None</span>, <span style=\"color: #00af00; text-decoration-color: #00af00\">33</span>, <span style=\"color: #00af00; text-decoration-color: #00af00\">33</span>)    │          <span style=\"color: #00af00; text-decoration-color: #00af00\">0</span> │ scores_masked[<span style=\"color: #00af00; text-decoration-color: #00af00\">0</span>]… │\n",
              "├─────────────────────┼───────────────────┼────────────┼───────────────────┤\n",
              "│ W_V (<span style=\"color: #0087ff; text-decoration-color: #0087ff\">Dense</span>)         │ (<span style=\"color: #00d7ff; text-decoration-color: #00d7ff\">None</span>, <span style=\"color: #00af00; text-decoration-color: #00af00\">33</span>, <span style=\"color: #00af00; text-decoration-color: #00af00\">64</span>)    │      <span style=\"color: #00af00; text-decoration-color: #00af00\">8,192</span> │ f_mlp[<span style=\"color: #00af00; text-decoration-color: #00af00\">0</span>][<span style=\"color: #00af00; text-decoration-color: #00af00\">0</span>]       │\n",
              "├─────────────────────┼───────────────────┼────────────┼───────────────────┤\n",
              "│ O (<span style=\"color: #0087ff; text-decoration-color: #0087ff\">Lambda</span>)          │ (<span style=\"color: #00d7ff; text-decoration-color: #00d7ff\">None</span>, <span style=\"color: #00af00; text-decoration-color: #00af00\">33</span>, <span style=\"color: #00af00; text-decoration-color: #00af00\">64</span>)    │          <span style=\"color: #00af00; text-decoration-color: #00af00\">0</span> │ A[<span style=\"color: #00af00; text-decoration-color: #00af00\">0</span>][<span style=\"color: #00af00; text-decoration-color: #00af00\">0</span>],          │\n",
              "│                     │                   │            │ W_V[<span style=\"color: #00af00; text-decoration-color: #00af00\">0</span>][<span style=\"color: #00af00; text-decoration-color: #00af00\">0</span>]         │\n",
              "├─────────────────────┼───────────────────┼────────────┼───────────────────┤\n",
              "│ mask_time (<span style=\"color: #0087ff; text-decoration-color: #0087ff\">Lambda</span>)  │ (<span style=\"color: #00d7ff; text-decoration-color: #00d7ff\">None</span>, <span style=\"color: #00af00; text-decoration-color: #00af00\">33</span>, <span style=\"color: #00af00; text-decoration-color: #00af00\">1</span>)     │          <span style=\"color: #00af00; text-decoration-color: #00af00\">0</span> │ mask_bool[<span style=\"color: #00af00; text-decoration-color: #00af00\">0</span>][<span style=\"color: #00af00; text-decoration-color: #00af00\">0</span>]   │\n",
              "├─────────────────────┼───────────────────┼────────────┼───────────────────┤\n",
              "│ sum_O (<span style=\"color: #0087ff; text-decoration-color: #0087ff\">Lambda</span>)      │ (<span style=\"color: #00d7ff; text-decoration-color: #00d7ff\">None</span>, <span style=\"color: #00af00; text-decoration-color: #00af00\">64</span>)        │          <span style=\"color: #00af00; text-decoration-color: #00af00\">0</span> │ O[<span style=\"color: #00af00; text-decoration-color: #00af00\">0</span>][<span style=\"color: #00af00; text-decoration-color: #00af00\">0</span>],          │\n",
              "│                     │                   │            │ mask_time[<span style=\"color: #00af00; text-decoration-color: #00af00\">0</span>][<span style=\"color: #00af00; text-decoration-color: #00af00\">0</span>]   │\n",
              "├─────────────────────┼───────────────────┼────────────┼───────────────────┤\n",
              "│ len_valid (<span style=\"color: #0087ff; text-decoration-color: #0087ff\">Lambda</span>)  │ (<span style=\"color: #00d7ff; text-decoration-color: #00d7ff\">None</span>, <span style=\"color: #00af00; text-decoration-color: #00af00\">1</span>)         │          <span style=\"color: #00af00; text-decoration-color: #00af00\">0</span> │ mask_time[<span style=\"color: #00af00; text-decoration-color: #00af00\">0</span>][<span style=\"color: #00af00; text-decoration-color: #00af00\">0</span>]   │\n",
              "├─────────────────────┼───────────────────┼────────────┼───────────────────┤\n",
              "│ pooled (<span style=\"color: #0087ff; text-decoration-color: #0087ff\">Lambda</span>)     │ (<span style=\"color: #00d7ff; text-decoration-color: #00d7ff\">None</span>, <span style=\"color: #00af00; text-decoration-color: #00af00\">64</span>)        │          <span style=\"color: #00af00; text-decoration-color: #00af00\">0</span> │ sum_O[<span style=\"color: #00af00; text-decoration-color: #00af00\">0</span>][<span style=\"color: #00af00; text-decoration-color: #00af00\">0</span>],      │\n",
              "│                     │                   │            │ len_valid[<span style=\"color: #00af00; text-decoration-color: #00af00\">0</span>][<span style=\"color: #00af00; text-decoration-color: #00af00\">0</span>]   │\n",
              "├─────────────────────┼───────────────────┼────────────┼───────────────────┤\n",
              "│ cls (<span style=\"color: #0087ff; text-decoration-color: #0087ff\">Dense</span>)         │ (<span style=\"color: #00d7ff; text-decoration-color: #00d7ff\">None</span>, <span style=\"color: #00af00; text-decoration-color: #00af00\">1</span>)         │         <span style=\"color: #00af00; text-decoration-color: #00af00\">65</span> │ pooled[<span style=\"color: #00af00; text-decoration-color: #00af00\">0</span>][<span style=\"color: #00af00; text-decoration-color: #00af00\">0</span>]      │\n",
              "└─────────────────────┴───────────────────┴────────────┴───────────────────┘\n",
              "</pre>\n"
            ]
          },
          "metadata": {}
        },
        {
          "output_type": "display_data",
          "data": {
            "text/plain": [
              "\u001b[1m Total params: \u001b[0m\u001b[38;5;34m1,056,833\u001b[0m (4.03 MB)\n"
            ],
            "text/html": [
              "<pre style=\"white-space:pre;overflow-x:auto;line-height:normal;font-family:Menlo,'DejaVu Sans Mono',consolas,'Courier New',monospace\"><span style=\"font-weight: bold\"> Total params: </span><span style=\"color: #00af00; text-decoration-color: #00af00\">1,056,833</span> (4.03 MB)\n",
              "</pre>\n"
            ]
          },
          "metadata": {}
        },
        {
          "output_type": "display_data",
          "data": {
            "text/plain": [
              "\u001b[1m Trainable params: \u001b[0m\u001b[38;5;34m1,056,833\u001b[0m (4.03 MB)\n"
            ],
            "text/html": [
              "<pre style=\"white-space:pre;overflow-x:auto;line-height:normal;font-family:Menlo,'DejaVu Sans Mono',consolas,'Courier New',monospace\"><span style=\"font-weight: bold\"> Trainable params: </span><span style=\"color: #00af00; text-decoration-color: #00af00\">1,056,833</span> (4.03 MB)\n",
              "</pre>\n"
            ]
          },
          "metadata": {}
        },
        {
          "output_type": "display_data",
          "data": {
            "text/plain": [
              "\u001b[1m Non-trainable params: \u001b[0m\u001b[38;5;34m0\u001b[0m (0.00 B)\n"
            ],
            "text/html": [
              "<pre style=\"white-space:pre;overflow-x:auto;line-height:normal;font-family:Menlo,'DejaVu Sans Mono',consolas,'Courier New',monospace\"><span style=\"font-weight: bold\"> Non-trainable params: </span><span style=\"color: #00af00; text-decoration-color: #00af00\">0</span> (0.00 B)\n",
              "</pre>\n"
            ]
          },
          "metadata": {}
        }
      ]
    },
    {
      "cell_type": "code",
      "source": [
        "X_train_pad"
      ],
      "metadata": {
        "colab": {
          "base_uri": "https://localhost:8080/"
        },
        "id": "fNTrw3u_IZoB",
        "outputId": "3965203b-b259-41ed-b3a1-7abadabb0de7"
      },
      "execution_count": 15,
      "outputs": [
        {
          "output_type": "execute_result",
          "data": {
            "text/plain": [
              "array([[   0,    0,    0, ...,    4,  339,  670],\n",
              "       [   0,    0,    0, ..., 3847,   42, 1984],\n",
              "       [   0,    0,    0, ...,  286,    2,  932],\n",
              "       ...,\n",
              "       [2558,  653,  742, ..., 7931, 1431, 7932],\n",
              "       [   0,    0,   50, ...,   13,  506,  265],\n",
              "       [   0,    0,    0, ...,  244,   19,  369]], dtype=int32)"
            ]
          },
          "metadata": {},
          "execution_count": 15
        }
      ]
    },
    {
      "cell_type": "code",
      "source": [
        "history = model.fit(\n",
        "    X_train_pad, y_train,\n",
        "    validation_data=(X_test_pad, y_test),\n",
        "    epochs=3, batch_size=128,\n",
        "    class_weight=class_weights, verbose=1\n",
        ")\n",
        "\n",
        "print(\"\\nEval test:\")\n",
        "model.evaluate(X_test_pad, y_test, verbose=1)\n",
        "\n",
        "# Extraer W_Q, W_K, W_V\n",
        "W_Q_mat = model.get_layer(\"W_Q\").get_weights()[0]\n",
        "W_K_mat = model.get_layer(\"W_K\").get_weights()[0]\n",
        "W_V_mat = model.get_layer(\"W_V\").get_weights()[0]\n",
        "print(\"W_Q:\", W_Q_mat.shape, \"W_K:\", W_K_mat.shape, \"W_V:\", W_V_mat.shape)\n",
        "\n",
        "# Modelo para ver pesos A (máscara de relevancia)\n",
        "A_model = tf.keras.Model(model.input, model.get_layer(\"A\").output)\n",
        "\n",
        "def show_attention(text, top_k=12):\n",
        "    seq = tokenizer.texts_to_sequences([text])\n",
        "    pad = tf.keras.preprocessing.sequence.pad_sequences(seq, maxlen=max_length)\n",
        "    A_val = A_model.predict(pad, verbose=0)[0]  # (T,T)\n",
        "    ids = pad[0]\n",
        "    valid_idx = (ids != 0).nonzero()[0]\n",
        "    toks = [tokenizer.index_word.get(int(i), \"<unk>\") for i in ids[valid_idx]]\n",
        "    A_valid = A_val[valid_idx][:, valid_idx]\n",
        "    attn_last = A_valid[-1]  # atención del último token a todos\n",
        "    order = attn_last.argsort()[::-1][:min(top_k, len(attn_last))]\n",
        "    for j in order:\n",
        "        print(f\"{toks[j]:>15s}  {attn_last[j]:.3f}\")\n"
      ],
      "metadata": {
        "colab": {
          "base_uri": "https://localhost:8080/"
        },
        "id": "UGv7EtlmFWZ9",
        "outputId": "d86498d7-679e-4a13-efb5-0ed6a0321b47"
      },
      "execution_count": 16,
      "outputs": [
        {
          "output_type": "stream",
          "name": "stdout",
          "text": [
            "Epoch 1/3\n",
            "\u001b[1m35/35\u001b[0m \u001b[32m━━━━━━━━━━━━━━━━━━━━\u001b[0m\u001b[37m\u001b[0m \u001b[1m5s\u001b[0m 71ms/step - accuracy: 0.8315 - loss: 0.6307 - val_accuracy: 0.9552 - val_loss: 0.1443\n",
            "Epoch 2/3\n",
            "\u001b[1m35/35\u001b[0m \u001b[32m━━━━━━━━━━━━━━━━━━━━\u001b[0m\u001b[37m\u001b[0m \u001b[1m2s\u001b[0m 67ms/step - accuracy: 0.9638 - loss: 0.1311 - val_accuracy: 0.9632 - val_loss: 0.1050\n",
            "Epoch 3/3\n",
            "\u001b[1m35/35\u001b[0m \u001b[32m━━━━━━━━━━━━━━━━━━━━\u001b[0m\u001b[37m\u001b[0m \u001b[1m2s\u001b[0m 66ms/step - accuracy: 0.9816 - loss: 0.0478 - val_accuracy: 0.9830 - val_loss: 0.0561\n",
            "\n",
            "Eval test:\n",
            "\u001b[1m35/35\u001b[0m \u001b[32m━━━━━━━━━━━━━━━━━━━━\u001b[0m\u001b[37m\u001b[0m \u001b[1m0s\u001b[0m 7ms/step - accuracy: 0.9877 - loss: 0.0471\n",
            "W_Q: (128, 64) W_K: (128, 64) W_V: (128, 64)\n"
          ]
        }
      ]
    },
    {
      "cell_type": "code",
      "source": [
        "# SOLO la matriz de atención (A) con colorbar y ticks a 90°\n",
        "import numpy as np\n",
        "import tensorflow as tf\n",
        "from tensorflow.keras import Model\n",
        "import matplotlib.pyplot as plt\n",
        "import pandas as pd\n",
        "\n",
        "def show_attention_matrix_only(sample_index, valid_only=True, decimals=3):\n",
        "    \"\"\"\n",
        "    Dibuja SOLO la matriz de atención A (después de softmax).\n",
        "    - valid_only=True: recorta <pad> y muestra solo tokens válidos.\n",
        "    \"\"\"\n",
        "    # Modelo auxiliar que expone la capa \"A\"\n",
        "    A_model = Model(model.input, model.get_layer(\"A\").output)\n",
        "\n",
        "    # 1) Texto -> ids con padding\n",
        "    text = X_test.iloc[sample_index]\n",
        "    seq = tokenizer.texts_to_sequences([text])\n",
        "    pad = tf.keras.preprocessing.sequence.pad_sequences(seq, maxlen=max_length)\n",
        "    ids = pad[0]\n",
        "\n",
        "    # 2) Matriz A completa (T x T)\n",
        "    A_full = A_model.predict(pad, verbose=0)[0]\n",
        "\n",
        "    # 3) Etiquetas\n",
        "    index_word = tokenizer.index_word\n",
        "    if valid_only:\n",
        "        valid_idx = np.where(ids != 0)[0]\n",
        "        if valid_idx.size == 0:\n",
        "            print(\"No hay tokens válidos.\")\n",
        "            return\n",
        "        tokens = [index_word.get(int(ids[i]), \"<unk>\") for i in valid_idx]\n",
        "        labels = [f\"{k}:{tok}\" for k, tok in enumerate(tokens)]\n",
        "        A = A_full[np.ix_(valid_idx, valid_idx)]\n",
        "    else:\n",
        "        tokens = [index_word.get(int(t), \"<unk>\") if t!=0 else \"<pad>\" for t in ids]\n",
        "        labels = [f\"{i}:{tok}\" for i, tok in enumerate(tokens)]\n",
        "        A = A_full\n",
        "\n",
        "    # 4) Heatmap SOLO de A (con colorbar y ticks a 90°)\n",
        "    L = len(labels)\n",
        "    fig_w = max(6, L * 0.5)\n",
        "    fig_h = max(5, L * 0.5)\n",
        "    fig, ax = plt.subplots(figsize=(fig_w, fig_h))\n",
        "    im = ax.imshow(np.round(A, decimals), aspect='auto')\n",
        "    cbar = plt.colorbar(im, ax=ax)\n",
        "    cbar.ax.tick_params(labelrotation=90)  # ticks del colorbar a 90°\n",
        "\n",
        "    ax.set_xticks(range(L))\n",
        "    ax.set_xticklabels(labels, rotation=90, ha='center')  # etiquetas X a 90°\n",
        "    ax.set_yticks(range(L))\n",
        "    ax.set_yticklabels(labels)\n",
        "    ax.set_xlabel(\"Claves (j)\")\n",
        "    ax.set_ylabel(\"Consultas (i)\")\n",
        "    ax.set_title(\"Matriz de atención A (solo tokens válidos)\" if valid_only else \"Matriz de atención A (incluye <pad>)\")\n",
        "    plt.tight_layout()\n",
        "    plt.show()\n",
        "\n",
        "    # 5) (Opcional) imprimir sumas por fila ≈ 1\n",
        "    row_sums = A.sum(axis=1)\n",
        "    print(\"Suma por fila (≈1):\", np.round(row_sums, 3))\n",
        "\n",
        "    # 6) (Opcional) DataFrame con A\n",
        "    #A_df = pd.DataFrame(np.round(A, decimals), index=labels, columns=labels)\n",
        "    #display(A_df)\n",
        "\n",
        "# Ejemplo de uso:\n",
        "show_attention_matrix_only(sample_index=3, valid_only=True)\n"
      ],
      "metadata": {
        "colab": {
          "base_uri": "https://localhost:8080/",
          "height": 724
        },
        "id": "ZFg4iW6mGKo_",
        "outputId": "f29ef432-a9fb-4100-ffb1-1c3afaaa60ed"
      },
      "execution_count": 17,
      "outputs": [
        {
          "output_type": "display_data",
          "data": {
            "text/plain": [
              "<Figure size 700x700 with 2 Axes>"
            ],
            "image/png": "[encoded data removed]"
          },
          "metadata": {}
        },
        {
          "output_type": "stream",
          "name": "stdout",
          "text": [
            "Suma por fila (≈1): [1. 1. 1. 1. 1. 1. 1. 1. 1. 1. 1. 1. 1. 1.]\n"
          ]
        }
      ]
    },
    {
      "cell_type": "code",
      "source": [
        "import numpy as np\n",
        "import matplotlib.pyplot as plt\n",
        "import pandas as pd\n",
        "import tensorflow as tf\n",
        "from tensorflow.keras import Model\n",
        "from IPython.display import display\n",
        "\n",
        "# Modelo auxiliar para obtener A\n",
        "A_model = Model(model.input, model.get_layer(\"A\").output)\n",
        "\n",
        "def _pad_text(text):\n",
        "    seq = tokenizer.texts_to_sequences([text])\n",
        "    return tf.keras.preprocessing.sequence.pad_sequences(seq, maxlen=max_length)\n",
        "\n",
        "def _valid_tokens_and_A(pad):\n",
        "    ids = pad[0]\n",
        "    valid_idx = np.where(ids != 0)[0]\n",
        "    index_word = tokenizer.index_word\n",
        "    tokens = [index_word.get(int(ids[i]), \"<unk>\") for i in valid_idx]\n",
        "    A_full = A_model.predict(pad, verbose=0)[0]\n",
        "    A = A_full[np.ix_(valid_idx, valid_idx)]  # recorta a tokens válidos\n",
        "    return tokens, A\n",
        "\n",
        "def bar_scores_for_query(sample_index, query='last', sort=False, decimals=3):\n",
        "    \"\"\"\n",
        "    Barras de los scores (pesos de atención) de una consulta específica:\n",
        "      - query='last' usa el último token válido\n",
        "      - query=int usa ese índice de token válido (0..T_valid-1)\n",
        "    \"\"\"\n",
        "    text = X_test.iloc[sample_index]\n",
        "    pad = _pad_text(text)\n",
        "    tokens, A = _valid_tokens_and_A(pad)\n",
        "    T = len(tokens)\n",
        "    if T == 0:\n",
        "        print(\"No hay tokens válidos.\"); return\n",
        "\n",
        "    if query == 'last':\n",
        "        i = T - 1\n",
        "    elif isinstance(query, int) and 0 <= query < T:\n",
        "        i = query\n",
        "    else:\n",
        "        raise ValueError(\"query debe ser 'last' o un entero en [0, T_valid-1].\")\n",
        "\n",
        "    w = A[i]  # fila i\n",
        "    labels = [f\"{j}:{tok}\" for j, tok in enumerate(tokens)]\n",
        "    if sort:\n",
        "        order = np.argsort(-w)\n",
        "        w = w[order]; labels = [labels[j] for j in order]\n",
        "\n",
        "    print(f\"[muestra {sample_index}] Consulta {i}:{tokens[i]}  | suma fila ≈ {w.sum():.3f}\")\n",
        "    plt.figure(figsize=(max(6, len(labels)*0.5), 3.5))\n",
        "    plt.bar(range(len(labels)), w)\n",
        "    plt.xticks(range(len(labels)), labels, rotation=90)\n",
        "    plt.ylabel(\"Peso de atención (fila i)\")\n",
        "    plt.title(f\"Atención de la consulta {i}:{tokens[i]}\")\n",
        "    plt.tight_layout()\n",
        "    plt.show()\n",
        "\n",
        "    df = pd.DataFrame({\"token\": labels, \"peso\": np.round(w, decimals)})\n",
        "    display(df)\n",
        "\n",
        "def bar_scores_per_key_mean(sample_index, sort=False, decimals=3):\n",
        "    \"\"\"\n",
        "    Barras de importancia por clave: promedio de atención que recibe cada token\n",
        "    (promedio de las filas hacia cada columna).\n",
        "    \"\"\"\n",
        "    text = X_test.iloc[sample_index]\n",
        "    pad = _pad_text(text)\n",
        "    tokens, A = _valid_tokens_and_A(pad)\n",
        "    if len(tokens) == 0:\n",
        "        print(\"No hay tokens válidos.\"); return\n",
        "\n",
        "    w = A.mean(axis=0)  # promedio por columna\n",
        "    labels = [f\"{j}:{tok}\" for j, tok in enumerate(tokens)]\n",
        "    if sort:\n",
        "        order = np.argsort(-w)\n",
        "        w = w[order]; labels = [labels[j] for j in order]\n",
        "\n",
        "    print(f\"[muestra {sample_index}] Importancia promedio por clave (columna)\")\n",
        "    plt.figure(figsize=(max(6, len(labels)*0.5), 3.5))\n",
        "    plt.bar(range(len(labels)), w)\n",
        "    plt.xticks(range(len(labels)), labels, rotation=90)\n",
        "    plt.ylabel(\"Atención promedio recibida\")\n",
        "    plt.title(\"Importancia promedio por token (columna)\")\n",
        "    plt.tight_layout()\n",
        "    plt.show()\n",
        "\n",
        "    #df = pd.DataFrame({\"token\": labels, \"peso_promedio\": np.round(w, decimals)})\n",
        "\n",
        "    #display(df)\n",
        "\n",
        "# Importancia promedio por token (lo que reciben como claves), ordenada\n",
        "bar_scores_per_key_mean(sample_index=3, sort=True)\n"
      ],
      "metadata": {
        "colab": {
          "base_uri": "https://localhost:8080/",
          "height": 374
        },
        "id": "HpVe8CjfG7MU",
        "outputId": "e9a5252b-edaa-4c6a-abe1-ad43be362010"
      },
      "execution_count": 18,
      "outputs": [
        {
          "output_type": "stream",
          "name": "stdout",
          "text": [
            "[muestra 3] Importancia promedio por clave (columna)\n"
          ]
        },
        {
          "output_type": "display_data",
          "data": {
            "text/plain": [
              "<Figure size 700x350 with 1 Axes>"
            ],
            "image/png": "[encoded data removed]"
          },
          "metadata": {}
        }
      ]
    },
    {
      "cell_type": "code",
      "source": [
        "text = X_test.iloc[0]\n",
        "pad = _pad_text(text)\n",
        "A_full = A_model.predict(pad, verbose=0)[0]"
      ],
      "metadata": {
        "id": "b8h1v89U0sWr"
      },
      "execution_count": 19,
      "outputs": []
    },
    {
      "cell_type": "code",
      "source": [
        "A_full.shape"
      ],
      "metadata": {
        "colab": {
          "base_uri": "https://localhost:8080/"
        },
        "id": "MRkY0UXz09-s",
        "outputId": "371d1b53-41b8-4e79-844c-ce4783f35f8c"
      },
      "execution_count": 20,
      "outputs": [
        {
          "output_type": "execute_result",
          "data": {
            "text/plain": [
              "(33, 33)"
            ]
          },
          "metadata": {},
          "execution_count": 20
        }
      ]
    },
    {
      "cell_type": "markdown",
      "source": [
        "\n",
        "**Tareas.**\n",
        "\n",
        "1. Elige un mensaje de `X_test` (índice $k$) y obtén $A$ **solo para tokens válidos** (sin `<pad>`), de tamaño $T\\times T$.\n",
        "2. Calcula y reporta:\n",
        "\n",
        "   * $\\textbf{row_sums} = A.\\text{sum(axis=}1)$  $\\rightarrow$ ¿qué valores te da y por qué?\n",
        "   * $\\textbf{mean_axis1} = A.\\text{mean(axis=}1)$ $\\rightarrow$ ¿por qué es aproximadamente $1/T$ en todas las filas?\n",
        "   * $\\textbf{mean_axis0} = A.\\text{mean(axis=}0)$ $\\rightarrow$ interprétalo como **importancia promedio recibida** por token (columna).\n",
        "   * Verifica que $\\sum_j \\text{mean_axis0}[j] \\approx 1$. Explica por qué **siempre** pasa.\n",
        "\n",
        "\n"
      ],
      "metadata": {
        "id": "EP-op0OpPf-N"
      }
    },
    {
      "cell_type": "markdown",
      "source": [
        "# Positional Encoding: necesidad y formulación matemática\n",
        "\n",
        "El **mecanismo de self-attention** en Transformers compara todas las palabras de una secuencia entre sí, pero **no sabe nada del orden**.  \n",
        "- Para el modelo, las frases:\n",
        "  - `\"el perro muerde al hombre\"`\n",
        "  - `\"el hombre muerde al perro\"`\n",
        "  \n",
        "producen exactamente las mismas atenciones si no incorporamos información posicional.\n",
        "\n",
        "Necesitamos una forma de indicar **en qué posición** aparece cada palabra en la secuencia.\n",
        "\n"
      ],
      "metadata": {
        "id": "-zTfbL_O5j5C"
      }
    },
    {
      "cell_type": "markdown",
      "source": [
        "\n",
        "## Estrategia: Positional Encoding\n",
        "En lugar de añadir un índice entero (0,1,2,...), los Transformers agregan un **vector posicional** a cada embedding de palabra.  \n",
        "- Cada dimensión del embedding codifica la posición usando funciones **senoidales y cosenoidales** de distintas frecuencias.  \n",
        "- Esto permite que el modelo aprenda **relaciones relativas** (distancia entre posiciones) y no solo absolutas.\n",
        "\n"
      ],
      "metadata": {
        "id": "od2Ont3K6X7z"
      }
    },
    {
      "cell_type": "markdown",
      "source": [
        "\n",
        "##Fórmula matemática (Vaswani et al., 2017)\n",
        "\n",
        "Dado un embedding de dimensión \\(d_\\text{model}\\) y una posición \\(pos\\):\n",
        "\n",
        "$$\n",
        "PE(pos, 2i) = \\sin\\left(\\frac{pos}{10000^{2i/d_\\text{model}}}\\right)\n",
        "$$\n",
        "\n",
        "$$\n",
        "PE(pos, 2i+1) = \\cos\\left(\\frac{pos}{10000^{2i/d_\\text{model}}}\\right)\n",
        "$$\n",
        "\n",
        "- $pos$: índice de la posición en la secuencia (0, 1, 2, …).  \n",
        "- $i$: índice de la dimensión del embedding.  \n",
        "- Cada par de dimensiones (2i y 2i+1) usa seno y coseno con distintas frecuencias.\n",
        "\n",
        "\n",
        "\n",
        "Intuición\n",
        "- Las dimensiones de bajo índice varían lentamente → capturan posiciones globales.  \n",
        "- Las dimensiones de alto índice varían rápidamente → capturan posiciones locales.  \n",
        "- Gracias a senos y cosenos, cada posición se representa con un **patrón único y continuo**.\n",
        "\n",
        "---"
      ],
      "metadata": {
        "id": "tPJXxFy26nIq"
      }
    },
    {
      "cell_type": "markdown",
      "source": [
        "¡Hecho! Actualicé el texto con el desglose pedido y afiné los puntos clave (frecuencias, shapes y cómo aparece en $QK^\\top$).\n",
        "\n",
        "---\n",
        "\n",
        "# 1) Conexión con Fourier\n",
        "\n",
        "La PE sinusoidal construye, para cada posición $p$, un vector con **senos y cosenos a múltiples frecuencias**:\n",
        "\n",
        "$$\n",
        "\\phi(p)=\\big[\\sin(\\omega_0 p),\\cos(\\omega_0 p),\\;\\sin(\\omega_1 p),\\cos(\\omega_1 p),\\;\\dots\\big],\n",
        "\\quad\n",
        "\\omega_i=10000^{-\\tfrac{2i}{d_{\\text{model}}}}.\n",
        "$$\n",
        "\n",
        "Este conjunto $\\{\\sin(\\omega_i p),\\cos(\\omega_i p)\\}$ actúa como una **base tipo Fourier** (sobre posiciones discretas). Al **combinar frecuencias** rápidas y lentas puedes representar patrones **locales** (variación rápida) y **globales** (variación lenta) a lo largo de la secuencia.\n",
        "\n",
        "> Nota de convención: con la definición usual $\\omega_i=10000^{-2i/d}$, **índices pequeños** $i$ ⇒ **frecuencia alta** (varía rápido); **índices grandes** $i$ ⇒ **frecuencia baja** (varía lento).\n",
        "\n",
        "\n",
        "# 2) “Demostración” clave: depende del desplazamiento relativo\n",
        "\n",
        "La propiedad central es que la **similitud** entre posiciones **depende del desfase** $k=p'-p$.\n",
        "\n",
        "Para un par seno–coseno a la misma $\\omega$:\n",
        "\n",
        "$$\n",
        "\\sin(\\omega p)\\sin(\\omega p')+\\cos(\\omega p)\\cos(\\omega p')\n",
        "=\\cos\\big(\\omega(p-p')\\big)=\\cos(\\omega k).\n",
        "$$\n",
        "\n",
        "Sumando sobre todas las frecuencias $\\{\\omega_i\\}$:\n",
        "\n",
        "$$\n",
        "\\phi(p)\\cdot \\phi(p')=\\sum_i \\cos\\big(\\omega_i (p-p')\\big).\n",
        "$$\n",
        "\n",
        "Es decir, la similitud posicional es una **función del desplazamiento** $k$ (kernel **estacionario**). Por el teorema de **Bochner**, combinaciones de cosenos pueden aproximar muchos kernels en $\\mathbb{Z}$. En la práctica, al pasar $\\phi(p)$ por proyecciones lineales para $Q$ y $K$, los términos posicionales que entran en $Q_i\\cdot K_j$ resultan en **polinomios trigonométricos en $i-j$** (distancia relativa).\n",
        "\n",
        "Forma equivalente (muy intuitiva):\n",
        "\n",
        "$$\n",
        "\\begin{bmatrix}\\sin((p+k)\\omega)\\\\ \\cos((p+k)\\omega)\\end{bmatrix}\n",
        "=\n",
        "\\underbrace{\\begin{bmatrix}\\cos(k\\omega)&\\sin(k\\omega)\\\\ -\\sin(k\\omega)&\\cos(k\\omega)\\end{bmatrix}}_{\\text{rotación}}\n",
        "\\begin{bmatrix}\\sin(p\\omega)\\\\ \\cos(p\\omega)\\end{bmatrix}.\n",
        "$$\n",
        "\n",
        "Un **desplazamiento** $k$ es una **rotación 2D** por par (seno, coseno); por eso la PE codifica bien **distancias relativas**.\n",
        "\n",
        "\n",
        "\n",
        "# 3) Intuición práctica: ¿por qué funciona?\n",
        "\n",
        "* **Rompe la invariancia a permutaciones**: sin PE, el orden no se distingue; con PE, sí.\n",
        "* **Multiescala**:\n",
        "\n",
        "  * $i$ pequeño ⇒ $\\omega$ grande ⇒ **cambio rápido** (detalle **local**).\n",
        "  * $i$ grande ⇒ $\\omega$ pequeña ⇒ **cambio lento** (tendencia **global**).\n",
        "* **Fase completa** (seno + coseno): evita ambigüedades y mantiene **amplitud acotada** (estabilidad).\n",
        "* **Linealidad del desplazamiento** (rotación): facilita que, tras proyecciones aprendidas, la atención **dependa de $i-j$** cuando la tarea lo requiere.\n",
        "* **Extrapolación**: al ser analítica (no entrenable), puede generalizar a longitudes no vistas.\n",
        "\n",
        "> La PE **no “prioriza” vecinos por sí sola**; solo aporta la señal. Si quieres un sesgo explícito hacia lo cercano, usa **posiciones relativas** (Shaw/T5), **RoPE** (rotary), **ALiBi** o **ventanas locales**.\n",
        "\n",
        "\n",
        "\n",
        "## Shapes y cómo aparece en $QK^\\top$\n",
        "\n",
        "* **PE (features)**: $\\Phi\\in\\mathbb{R}^{n\\times d}$ (p. ej., $33\\times 64$).\n",
        "* **Embeddings**: $X\\in\\mathbb{R}^{n\\times d}$ (o $(B,n,d)$ con batch).\n",
        "* **Suma**: $X' = X+\\Phi$ ⇒ $(B,n,d)$.\n",
        "\n",
        "Con $W_Q,W_K\\in\\mathbb{R}^{d\\times d_k}$:\n",
        "\n",
        "$$\n",
        "Q=(X+\\Phi)W_Q,\\quad K=(X+\\Phi)W_K,\\quad\n",
        "QK^\\top=(X+\\Phi)AW^\\top(X+\\Phi)^\\top,\\ \\ A=W_QW_K^\\top.\n",
        "$$\n",
        "\n",
        "Se descompone en:\n",
        "\n",
        "$$\n",
        "\\underbrace{XAX^\\top}_{\\text{contenido–contenido}}\n",
        "+\\underbrace{XA\\Phi^\\top+\\Phi AX^\\top}_{\\text{mixtos}}\n",
        "+\\underbrace{\\Phi A\\Phi^\\top}_{\\text{posición–posición}} \\;\\in\\mathbb{R}^{n\\times n}.\n",
        "$$\n",
        "\n",
        "Si $A\\approx I$ (intuición), la parte posicional es $\\Phi\\Phi^\\top$ con entradas $\\sum_i\\cos(\\omega_i(p-p'))$: **solo depende de $p-p'$**.\n",
        "\n"
      ],
      "metadata": {
        "id": "rJuN8mwyLGIQ"
      }
    },
    {
      "cell_type": "code",
      "source": [
        "import tensorflow as tf\n",
        "from tensorflow.keras import layers\n",
        "\n",
        "class SineCosinePositionalEncoding(layers.Layer):\n",
        "    def __init__(self, max_len: int, d_model: int, **kwargs):\n",
        "        super().__init__(trainable=False, **kwargs)\n",
        "        if d_model % 2 != 0:\n",
        "            raise ValueError(\"d_model debe ser par para intercalar sin/cos.\")\n",
        "        self.max_len = max_len\n",
        "        self.d_model = d_model\n",
        "\n",
        "        # Construye PE: [1, T, d]\n",
        "        pos = tf.range(max_len, dtype=tf.float32)[:, tf.newaxis]              # [T, 1]\n",
        "        i   = tf.range(0, d_model, 2, dtype=tf.float32)[tf.newaxis, :]       # [1, d/2]\n",
        "        div = tf.exp(-tf.math.log(10000.0) * i / d_model)                    # [1, d/2]\n",
        "        angles = pos * div                                                   # [T, d/2]\n",
        "        sin = tf.sin(angles)                                                 # [T, d/2]\n",
        "        cos = tf.cos(angles)                                                 # [T, d/2]\n",
        "        pe  = tf.stack([sin, cos], axis=-1)                                  # [T, d/2, 2]\n",
        "        pe  = tf.reshape(pe, [max_len, d_model])                             # [T, d] (pares=sin, impares=cos)\n",
        "        self.pe = tf.constant(pe[tf.newaxis, ...], dtype=tf.float32)         # [1, T, d]\n",
        "\n",
        "    def call(self, x):\n",
        "        # x: [B, T, d] -> suma por broadcasting (se corta a longitud actual por seguridad)\n",
        "        T = tf.shape(x)[1]\n",
        "        return x + self.pe[:, :T, :]\n",
        "import tensorflow as tf\n",
        "from tensorflow.keras import layers, Model\n",
        "\n",
        "tf.keras.backend.clear_session()\n",
        "\n",
        "# === Dimensiones ===\n",
        "embed_dim = 128\n",
        "d_model   = 128\n",
        "d_k       = 64\n",
        "d_v       = 64\n",
        "\n",
        "# Suponemos definidos: max_length, vocab_size\n",
        "inputs = layers.Input(shape=(max_length,), dtype=\"int32\", name=\"tokens\")\n",
        "\n",
        "# --- Máscara de padding ---\n",
        "mask      = layers.Lambda(lambda x: tf.cast(tf.not_equal(x, 0), tf.float32), name=\"mask_bool\")(inputs)      # (B,T)\n",
        "mask_exp  = layers.Lambda(lambda m: tf.expand_dims(m, axis=1),                       name=\"mask_exp\")(mask)  # (B,1,T)\n",
        "mask_time = layers.Lambda(lambda m: tf.expand_dims(m, axis=-1),                      name=\"mask_time\")(mask) # (B,T,1)\n",
        "\n",
        "# --- Embedding -> proyección a d_model ---\n",
        "emb = layers.Embedding(vocab_size, embed_dim, mask_zero=False, name=\"E\")(inputs)      # (B,T,embed_dim)\n",
        "x   = layers.Dense(d_model, activation=\"relu\", name=\"f_mlp\")(emb)                     # (B,T,d_model)\n",
        "\n",
        "# --- Positional Encoding (sinusoidal) y suma ---\n",
        "x   = SineCosinePositionalEncoding(max_len=max_length, d_model=d_model, name=\"PE\")(x) # (B,T,d_model)\n",
        "\n",
        "# --- Proyecciones Q, K, V ---\n",
        "Q = layers.Dense(d_k, use_bias=False, name=\"W_Q\")(x)   # (B,T,d_k)\n",
        "K = layers.Dense(d_k, use_bias=False, name=\"W_K\")(x)   # (B,T,d_k)\n",
        "V = layers.Dense(d_v, use_bias=False, name=\"W_V\")(x)   # (B,T,d_v)\n",
        "\n",
        "# --- Scaled Dot-Product Attention con máscara ---\n",
        "scale = tf.sqrt(tf.cast(d_k, tf.float32))\n",
        "scores = layers.Lambda(\n",
        "    lambda qk: tf.matmul(qk[0], qk[1], transpose_b=True) / scale,\n",
        "    name=\"scores\"\n",
        ")([Q, K])  # (B,T,T)\n",
        "\n",
        "scores_masked = layers.Lambda(\n",
        "    lambda sm: sm[0] + (1. - sm[1]) * (-1e9),\n",
        "    name=\"scores_masked\"\n",
        ")([scores, mask_exp])\n",
        "\n",
        "A = layers.Softmax(axis=-1, name=\"A\")(scores_masked)          # (B,T,T)\n",
        "O = layers.Lambda(lambda av: tf.matmul(av[0], av[1]), name=\"O\")([A, V])  # (B,T,d_v)\n",
        "\n",
        "# --- Pooling temporal enmascarado ---\n",
        "sum_O     = layers.Lambda(lambda om: tf.reduce_sum(om[0] * om[1], axis=1), name=\"sum_O\")([O, mask_time])   # (B,d_v)\n",
        "len_valid = layers.Lambda(lambda m: tf.reduce_sum(m, axis=1) + 1e-9, name=\"len_valid\")(mask_time)          # (B,1)\n",
        "pooled    = layers.Lambda(lambda sl: sl[0] / sl[1], name=\"pooled\")([sum_O, len_valid])                     # (B,d_v)\n",
        "\n",
        "logits = layers.Dense(1, activation=\"sigmoid\", name=\"cls\")(pooled)\n",
        "\n",
        "model = Model(inputs, logits, name=\"MLP_SelfAttn_SMS\")\n",
        "model.compile(optimizer=\"adam\", loss=\"binary_crossentropy\", metrics=[\"accuracy\"])\n",
        "model.summary()\n"
      ],
      "metadata": {
        "colab": {
          "base_uri": "https://localhost:8080/",
          "height": 850
        },
        "id": "g__n9gSiLdpT",
        "outputId": "3bbdedc1-2b23-4d0a-b110-bd53d64f9039"
      },
      "execution_count": 21,
      "outputs": [
        {
          "output_type": "display_data",
          "data": {
            "text/plain": [
              "\u001b[1mModel: \"MLP_SelfAttn_SMS\"\u001b[0m\n"
            ],
            "text/html": [
              "<pre style=\"white-space:pre;overflow-x:auto;line-height:normal;font-family:Menlo,'DejaVu Sans Mono',consolas,'Courier New',monospace\"><span style=\"font-weight: bold\">Model: \"MLP_SelfAttn_SMS\"</span>\n",
              "</pre>\n"
            ]
          },
          "metadata": {}
        },
        {
          "output_type": "display_data",
          "data": {
            "text/plain": [
              "┏━━━━━━━━━━━━━━━━━━━━━┳━━━━━━━━━━━━━━━━━━━┳━━━━━━━━━━━━┳━━━━━━━━━━━━━━━━━━━┓\n",
              "┃\u001b[1m \u001b[0m\u001b[1mLayer (type)       \u001b[0m\u001b[1m \u001b[0m┃\u001b[1m \u001b[0m\u001b[1mOutput Shape     \u001b[0m\u001b[1m \u001b[0m┃\u001b[1m \u001b[0m\u001b[1m   Param #\u001b[0m\u001b[1m \u001b[0m┃\u001b[1m \u001b[0m\u001b[1mConnected to     \u001b[0m\u001b[1m \u001b[0m┃\n",
              "┡━━━━━━━━━━━━━━━━━━━━━╇━━━━━━━━━━━━━━━━━━━╇━━━━━━━━━━━━╇━━━━━━━━━━━━━━━━━━━┩\n",
              "│ tokens (\u001b[38;5;33mInputLayer\u001b[0m) │ (\u001b[38;5;45mNone\u001b[0m, \u001b[38;5;34m33\u001b[0m)        │          \u001b[38;5;34m0\u001b[0m │ -                 │\n",
              "├─────────────────────┼───────────────────┼────────────┼───────────────────┤\n",
              "│ E (\u001b[38;5;33mEmbedding\u001b[0m)       │ (\u001b[38;5;45mNone\u001b[0m, \u001b[38;5;34m33\u001b[0m, \u001b[38;5;34m128\u001b[0m)   │  \u001b[38;5;34m1,015,680\u001b[0m │ tokens[\u001b[38;5;34m0\u001b[0m][\u001b[38;5;34m0\u001b[0m]      │\n",
              "├─────────────────────┼───────────────────┼────────────┼───────────────────┤\n",
              "│ f_mlp (\u001b[38;5;33mDense\u001b[0m)       │ (\u001b[38;5;45mNone\u001b[0m, \u001b[38;5;34m33\u001b[0m, \u001b[38;5;34m128\u001b[0m)   │     \u001b[38;5;34m16,512\u001b[0m │ E[\u001b[38;5;34m0\u001b[0m][\u001b[38;5;34m0\u001b[0m]           │\n",
              "├─────────────────────┼───────────────────┼────────────┼───────────────────┤\n",
              "│ PE                  │ (\u001b[38;5;45mNone\u001b[0m, \u001b[38;5;34m33\u001b[0m, \u001b[38;5;34m128\u001b[0m)   │          \u001b[38;5;34m0\u001b[0m │ f_mlp[\u001b[38;5;34m0\u001b[0m][\u001b[38;5;34m0\u001b[0m]       │\n",
              "│ (\u001b[38;5;33mSineCosinePositio…\u001b[0m │                   │            │                   │\n",
              "├─────────────────────┼───────────────────┼────────────┼───────────────────┤\n",
              "│ W_Q (\u001b[38;5;33mDense\u001b[0m)         │ (\u001b[38;5;45mNone\u001b[0m, \u001b[38;5;34m33\u001b[0m, \u001b[38;5;34m64\u001b[0m)    │      \u001b[38;5;34m8,192\u001b[0m │ PE[\u001b[38;5;34m0\u001b[0m][\u001b[38;5;34m0\u001b[0m]          │\n",
              "├─────────────────────┼───────────────────┼────────────┼───────────────────┤\n",
              "│ W_K (\u001b[38;5;33mDense\u001b[0m)         │ (\u001b[38;5;45mNone\u001b[0m, \u001b[38;5;34m33\u001b[0m, \u001b[38;5;34m64\u001b[0m)    │      \u001b[38;5;34m8,192\u001b[0m │ PE[\u001b[38;5;34m0\u001b[0m][\u001b[38;5;34m0\u001b[0m]          │\n",
              "├─────────────────────┼───────────────────┼────────────┼───────────────────┤\n",
              "│ mask_bool (\u001b[38;5;33mLambda\u001b[0m)  │ (\u001b[38;5;45mNone\u001b[0m, \u001b[38;5;34m33\u001b[0m)        │          \u001b[38;5;34m0\u001b[0m │ tokens[\u001b[38;5;34m0\u001b[0m][\u001b[38;5;34m0\u001b[0m]      │\n",
              "├─────────────────────┼───────────────────┼────────────┼───────────────────┤\n",
              "│ scores (\u001b[38;5;33mLambda\u001b[0m)     │ (\u001b[38;5;45mNone\u001b[0m, \u001b[38;5;34m33\u001b[0m, \u001b[38;5;34m33\u001b[0m)    │          \u001b[38;5;34m0\u001b[0m │ W_Q[\u001b[38;5;34m0\u001b[0m][\u001b[38;5;34m0\u001b[0m],        │\n",
              "│                     │                   │            │ W_K[\u001b[38;5;34m0\u001b[0m][\u001b[38;5;34m0\u001b[0m]         │\n",
              "├─────────────────────┼───────────────────┼────────────┼───────────────────┤\n",
              "│ mask_exp (\u001b[38;5;33mLambda\u001b[0m)   │ (\u001b[38;5;45mNone\u001b[0m, \u001b[38;5;34m1\u001b[0m, \u001b[38;5;34m33\u001b[0m)     │          \u001b[38;5;34m0\u001b[0m │ mask_bool[\u001b[38;5;34m0\u001b[0m][\u001b[38;5;34m0\u001b[0m]   │\n",
              "├─────────────────────┼───────────────────┼────────────┼───────────────────┤\n",
              "│ scores_masked       │ (\u001b[38;5;45mNone\u001b[0m, \u001b[38;5;34m33\u001b[0m, \u001b[38;5;34m33\u001b[0m)    │          \u001b[38;5;34m0\u001b[0m │ scores[\u001b[38;5;34m0\u001b[0m][\u001b[38;5;34m0\u001b[0m],     │\n",
              "│ (\u001b[38;5;33mLambda\u001b[0m)            │                   │            │ mask_exp[\u001b[38;5;34m0\u001b[0m][\u001b[38;5;34m0\u001b[0m]    │\n",
              "├─────────────────────┼───────────────────┼────────────┼───────────────────┤\n",
              "│ A (\u001b[38;5;33mSoftmax\u001b[0m)         │ (\u001b[38;5;45mNone\u001b[0m, \u001b[38;5;34m33\u001b[0m, \u001b[38;5;34m33\u001b[0m)    │          \u001b[38;5;34m0\u001b[0m │ scores_masked[\u001b[38;5;34m0\u001b[0m]… │\n",
              "├─────────────────────┼───────────────────┼────────────┼───────────────────┤\n",
              "│ W_V (\u001b[38;5;33mDense\u001b[0m)         │ (\u001b[38;5;45mNone\u001b[0m, \u001b[38;5;34m33\u001b[0m, \u001b[38;5;34m64\u001b[0m)    │      \u001b[38;5;34m8,192\u001b[0m │ PE[\u001b[38;5;34m0\u001b[0m][\u001b[38;5;34m0\u001b[0m]          │\n",
              "├─────────────────────┼───────────────────┼────────────┼───────────────────┤\n",
              "│ O (\u001b[38;5;33mLambda\u001b[0m)          │ (\u001b[38;5;45mNone\u001b[0m, \u001b[38;5;34m33\u001b[0m, \u001b[38;5;34m64\u001b[0m)    │          \u001b[38;5;34m0\u001b[0m │ A[\u001b[38;5;34m0\u001b[0m][\u001b[38;5;34m0\u001b[0m],          │\n",
              "│                     │                   │            │ W_V[\u001b[38;5;34m0\u001b[0m][\u001b[38;5;34m0\u001b[0m]         │\n",
              "├─────────────────────┼───────────────────┼────────────┼───────────────────┤\n",
              "│ mask_time (\u001b[38;5;33mLambda\u001b[0m)  │ (\u001b[38;5;45mNone\u001b[0m, \u001b[38;5;34m33\u001b[0m, \u001b[38;5;34m1\u001b[0m)     │          \u001b[38;5;34m0\u001b[0m │ mask_bool[\u001b[38;5;34m0\u001b[0m][\u001b[38;5;34m0\u001b[0m]   │\n",
              "├─────────────────────┼───────────────────┼────────────┼───────────────────┤\n",
              "│ sum_O (\u001b[38;5;33mLambda\u001b[0m)      │ (\u001b[38;5;45mNone\u001b[0m, \u001b[38;5;34m64\u001b[0m)        │          \u001b[38;5;34m0\u001b[0m │ O[\u001b[38;5;34m0\u001b[0m][\u001b[38;5;34m0\u001b[0m],          │\n",
              "│                     │                   │            │ mask_time[\u001b[38;5;34m0\u001b[0m][\u001b[38;5;34m0\u001b[0m]   │\n",
              "├─────────────────────┼───────────────────┼────────────┼───────────────────┤\n",
              "│ len_valid (\u001b[38;5;33mLambda\u001b[0m)  │ (\u001b[38;5;45mNone\u001b[0m, \u001b[38;5;34m1\u001b[0m)         │          \u001b[38;5;34m0\u001b[0m │ mask_time[\u001b[38;5;34m0\u001b[0m][\u001b[38;5;34m0\u001b[0m]   │\n",
              "├─────────────────────┼───────────────────┼────────────┼───────────────────┤\n",
              "│ pooled (\u001b[38;5;33mLambda\u001b[0m)     │ (\u001b[38;5;45mNone\u001b[0m, \u001b[38;5;34m64\u001b[0m)        │          \u001b[38;5;34m0\u001b[0m │ sum_O[\u001b[38;5;34m0\u001b[0m][\u001b[38;5;34m0\u001b[0m],      │\n",
              "│                     │                   │            │ len_valid[\u001b[38;5;34m0\u001b[0m][\u001b[38;5;34m0\u001b[0m]   │\n",
              "├─────────────────────┼───────────────────┼────────────┼───────────────────┤\n",
              "│ cls (\u001b[38;5;33mDense\u001b[0m)         │ (\u001b[38;5;45mNone\u001b[0m, \u001b[38;5;34m1\u001b[0m)         │         \u001b[38;5;34m65\u001b[0m │ pooled[\u001b[38;5;34m0\u001b[0m][\u001b[38;5;34m0\u001b[0m]      │\n",
              "└─────────────────────┴───────────────────┴────────────┴───────────────────┘\n"
            ],
            "text/html": [
              "<pre style=\"white-space:pre;overflow-x:auto;line-height:normal;font-family:Menlo,'DejaVu Sans Mono',consolas,'Courier New',monospace\">┏━━━━━━━━━━━━━━━━━━━━━┳━━━━━━━━━━━━━━━━━━━┳━━━━━━━━━━━━┳━━━━━━━━━━━━━━━━━━━┓\n",
              "┃<span style=\"font-weight: bold\"> Layer (type)        </span>┃<span style=\"font-weight: bold\"> Output Shape      </span>┃<span style=\"font-weight: bold\">    Param # </span>┃<span style=\"font-weight: bold\"> Connected to      </span>┃\n",
              "┡━━━━━━━━━━━━━━━━━━━━━╇━━━━━━━━━━━━━━━━━━━╇━━━━━━━━━━━━╇━━━━━━━━━━━━━━━━━━━┩\n",
              "│ tokens (<span style=\"color: #0087ff; text-decoration-color: #0087ff\">InputLayer</span>) │ (<span style=\"color: #00d7ff; text-decoration-color: #00d7ff\">None</span>, <span style=\"color: #00af00; text-decoration-color: #00af00\">33</span>)        │          <span style=\"color: #00af00; text-decoration-color: #00af00\">0</span> │ -                 │\n",
              "├─────────────────────┼───────────────────┼────────────┼───────────────────┤\n",
              "│ E (<span style=\"color: #0087ff; text-decoration-color: #0087ff\">Embedding</span>)       │ (<span style=\"color: #00d7ff; text-decoration-color: #00d7ff\">None</span>, <span style=\"color: #00af00; text-decoration-color: #00af00\">33</span>, <span style=\"color: #00af00; text-decoration-color: #00af00\">128</span>)   │  <span style=\"color: #00af00; text-decoration-color: #00af00\">1,015,680</span> │ tokens[<span style=\"color: #00af00; text-decoration-color: #00af00\">0</span>][<span style=\"color: #00af00; text-decoration-color: #00af00\">0</span>]      │\n",
              "├─────────────────────┼───────────────────┼────────────┼───────────────────┤\n",
              "│ f_mlp (<span style=\"color: #0087ff; text-decoration-color: #0087ff\">Dense</span>)       │ (<span style=\"color: #00d7ff; text-decoration-color: #00d7ff\">None</span>, <span style=\"color: #00af00; text-decoration-color: #00af00\">33</span>, <span style=\"color: #00af00; text-decoration-color: #00af00\">128</span>)   │     <span style=\"color: #00af00; text-decoration-color: #00af00\">16,512</span> │ E[<span style=\"color: #00af00; text-decoration-color: #00af00\">0</span>][<span style=\"color: #00af00; text-decoration-color: #00af00\">0</span>]           │\n",
              "├─────────────────────┼───────────────────┼────────────┼───────────────────┤\n",
              "│ PE                  │ (<span style=\"color: #00d7ff; text-decoration-color: #00d7ff\">None</span>, <span style=\"color: #00af00; text-decoration-color: #00af00\">33</span>, <span style=\"color: #00af00; text-decoration-color: #00af00\">128</span>)   │          <span style=\"color: #00af00; text-decoration-color: #00af00\">0</span> │ f_mlp[<span style=\"color: #00af00; text-decoration-color: #00af00\">0</span>][<span style=\"color: #00af00; text-decoration-color: #00af00\">0</span>]       │\n",
              "│ (<span style=\"color: #0087ff; text-decoration-color: #0087ff\">SineCosinePositio…</span> │                   │            │                   │\n",
              "├─────────────────────┼───────────────────┼────────────┼───────────────────┤\n",
              "│ W_Q (<span style=\"color: #0087ff; text-decoration-color: #0087ff\">Dense</span>)         │ (<span style=\"color: #00d7ff; text-decoration-color: #00d7ff\">None</span>, <span style=\"color: #00af00; text-decoration-color: #00af00\">33</span>, <span style=\"color: #00af00; text-decoration-color: #00af00\">64</span>)    │      <span style=\"color: #00af00; text-decoration-color: #00af00\">8,192</span> │ PE[<span style=\"color: #00af00; text-decoration-color: #00af00\">0</span>][<span style=\"color: #00af00; text-decoration-color: #00af00\">0</span>]          │\n",
              "├─────────────────────┼───────────────────┼────────────┼───────────────────┤\n",
              "│ W_K (<span style=\"color: #0087ff; text-decoration-color: #0087ff\">Dense</span>)         │ (<span style=\"color: #00d7ff; text-decoration-color: #00d7ff\">None</span>, <span style=\"color: #00af00; text-decoration-color: #00af00\">33</span>, <span style=\"color: #00af00; text-decoration-color: #00af00\">64</span>)    │      <span style=\"color: #00af00; text-decoration-color: #00af00\">8,192</span> │ PE[<span style=\"color: #00af00; text-decoration-color: #00af00\">0</span>][<span style=\"color: #00af00; text-decoration-color: #00af00\">0</span>]          │\n",
              "├─────────────────────┼───────────────────┼────────────┼───────────────────┤\n",
              "│ mask_bool (<span style=\"color: #0087ff; text-decoration-color: #0087ff\">Lambda</span>)  │ (<span style=\"color: #00d7ff; text-decoration-color: #00d7ff\">None</span>, <span style=\"color: #00af00; text-decoration-color: #00af00\">33</span>)        │          <span style=\"color: #00af00; text-decoration-color: #00af00\">0</span> │ tokens[<span style=\"color: #00af00; text-decoration-color: #00af00\">0</span>][<span style=\"color: #00af00; text-decoration-color: #00af00\">0</span>]      │\n",
              "├─────────────────────┼───────────────────┼────────────┼───────────────────┤\n",
              "│ scores (<span style=\"color: #0087ff; text-decoration-color: #0087ff\">Lambda</span>)     │ (<span style=\"color: #00d7ff; text-decoration-color: #00d7ff\">None</span>, <span style=\"color: #00af00; text-decoration-color: #00af00\">33</span>, <span style=\"color: #00af00; text-decoration-color: #00af00\">33</span>)    │          <span style=\"color: #00af00; text-decoration-color: #00af00\">0</span> │ W_Q[<span style=\"color: #00af00; text-decoration-color: #00af00\">0</span>][<span style=\"color: #00af00; text-decoration-color: #00af00\">0</span>],        │\n",
              "│                     │                   │            │ W_K[<span style=\"color: #00af00; text-decoration-color: #00af00\">0</span>][<span style=\"color: #00af00; text-decoration-color: #00af00\">0</span>]         │\n",
              "├─────────────────────┼───────────────────┼────────────┼───────────────────┤\n",
              "│ mask_exp (<span style=\"color: #0087ff; text-decoration-color: #0087ff\">Lambda</span>)   │ (<span style=\"color: #00d7ff; text-decoration-color: #00d7ff\">None</span>, <span style=\"color: #00af00; text-decoration-color: #00af00\">1</span>, <span style=\"color: #00af00; text-decoration-color: #00af00\">33</span>)     │          <span style=\"color: #00af00; text-decoration-color: #00af00\">0</span> │ mask_bool[<span style=\"color: #00af00; text-decoration-color: #00af00\">0</span>][<span style=\"color: #00af00; text-decoration-color: #00af00\">0</span>]   │\n",
              "├─────────────────────┼───────────────────┼────────────┼───────────────────┤\n",
              "│ scores_masked       │ (<span style=\"color: #00d7ff; text-decoration-color: #00d7ff\">None</span>, <span style=\"color: #00af00; text-decoration-color: #00af00\">33</span>, <span style=\"color: #00af00; text-decoration-color: #00af00\">33</span>)    │          <span style=\"color: #00af00; text-decoration-color: #00af00\">0</span> │ scores[<span style=\"color: #00af00; text-decoration-color: #00af00\">0</span>][<span style=\"color: #00af00; text-decoration-color: #00af00\">0</span>],     │\n",
              "│ (<span style=\"color: #0087ff; text-decoration-color: #0087ff\">Lambda</span>)            │                   │            │ mask_exp[<span style=\"color: #00af00; text-decoration-color: #00af00\">0</span>][<span style=\"color: #00af00; text-decoration-color: #00af00\">0</span>]    │\n",
              "├─────────────────────┼───────────────────┼────────────┼───────────────────┤\n",
              "│ A (<span style=\"color: #0087ff; text-decoration-color: #0087ff\">Softmax</span>)         │ (<span style=\"color: #00d7ff; text-decoration-color: #00d7ff\">None</span>, <span style=\"color: #00af00; text-decoration-color: #00af00\">33</span>, <span style=\"color: #00af00; text-decoration-color: #00af00\">33</span>)    │          <span style=\"color: #00af00; text-decoration-color: #00af00\">0</span> │ scores_masked[<span style=\"color: #00af00; text-decoration-color: #00af00\">0</span>]… │\n",
              "├─────────────────────┼───────────────────┼────────────┼───────────────────┤\n",
              "│ W_V (<span style=\"color: #0087ff; text-decoration-color: #0087ff\">Dense</span>)         │ (<span style=\"color: #00d7ff; text-decoration-color: #00d7ff\">None</span>, <span style=\"color: #00af00; text-decoration-color: #00af00\">33</span>, <span style=\"color: #00af00; text-decoration-color: #00af00\">64</span>)    │      <span style=\"color: #00af00; text-decoration-color: #00af00\">8,192</span> │ PE[<span style=\"color: #00af00; text-decoration-color: #00af00\">0</span>][<span style=\"color: #00af00; text-decoration-color: #00af00\">0</span>]          │\n",
              "├─────────────────────┼───────────────────┼────────────┼───────────────────┤\n",
              "│ O (<span style=\"color: #0087ff; text-decoration-color: #0087ff\">Lambda</span>)          │ (<span style=\"color: #00d7ff; text-decoration-color: #00d7ff\">None</span>, <span style=\"color: #00af00; text-decoration-color: #00af00\">33</span>, <span style=\"color: #00af00; text-decoration-color: #00af00\">64</span>)    │          <span style=\"color: #00af00; text-decoration-color: #00af00\">0</span> │ A[<span style=\"color: #00af00; text-decoration-color: #00af00\">0</span>][<span style=\"color: #00af00; text-decoration-color: #00af00\">0</span>],          │\n",
              "│                     │                   │            │ W_V[<span style=\"color: #00af00; text-decoration-color: #00af00\">0</span>][<span style=\"color: #00af00; text-decoration-color: #00af00\">0</span>]         │\n",
              "├─────────────────────┼───────────────────┼────────────┼───────────────────┤\n",
              "│ mask_time (<span style=\"color: #0087ff; text-decoration-color: #0087ff\">Lambda</span>)  │ (<span style=\"color: #00d7ff; text-decoration-color: #00d7ff\">None</span>, <span style=\"color: #00af00; text-decoration-color: #00af00\">33</span>, <span style=\"color: #00af00; text-decoration-color: #00af00\">1</span>)     │          <span style=\"color: #00af00; text-decoration-color: #00af00\">0</span> │ mask_bool[<span style=\"color: #00af00; text-decoration-color: #00af00\">0</span>][<span style=\"color: #00af00; text-decoration-color: #00af00\">0</span>]   │\n",
              "├─────────────────────┼───────────────────┼────────────┼───────────────────┤\n",
              "│ sum_O (<span style=\"color: #0087ff; text-decoration-color: #0087ff\">Lambda</span>)      │ (<span style=\"color: #00d7ff; text-decoration-color: #00d7ff\">None</span>, <span style=\"color: #00af00; text-decoration-color: #00af00\">64</span>)        │          <span style=\"color: #00af00; text-decoration-color: #00af00\">0</span> │ O[<span style=\"color: #00af00; text-decoration-color: #00af00\">0</span>][<span style=\"color: #00af00; text-decoration-color: #00af00\">0</span>],          │\n",
              "│                     │                   │            │ mask_time[<span style=\"color: #00af00; text-decoration-color: #00af00\">0</span>][<span style=\"color: #00af00; text-decoration-color: #00af00\">0</span>]   │\n",
              "├─────────────────────┼───────────────────┼────────────┼───────────────────┤\n",
              "│ len_valid (<span style=\"color: #0087ff; text-decoration-color: #0087ff\">Lambda</span>)  │ (<span style=\"color: #00d7ff; text-decoration-color: #00d7ff\">None</span>, <span style=\"color: #00af00; text-decoration-color: #00af00\">1</span>)         │          <span style=\"color: #00af00; text-decoration-color: #00af00\">0</span> │ mask_time[<span style=\"color: #00af00; text-decoration-color: #00af00\">0</span>][<span style=\"color: #00af00; text-decoration-color: #00af00\">0</span>]   │\n",
              "├─────────────────────┼───────────────────┼────────────┼───────────────────┤\n",
              "│ pooled (<span style=\"color: #0087ff; text-decoration-color: #0087ff\">Lambda</span>)     │ (<span style=\"color: #00d7ff; text-decoration-color: #00d7ff\">None</span>, <span style=\"color: #00af00; text-decoration-color: #00af00\">64</span>)        │          <span style=\"color: #00af00; text-decoration-color: #00af00\">0</span> │ sum_O[<span style=\"color: #00af00; text-decoration-color: #00af00\">0</span>][<span style=\"color: #00af00; text-decoration-color: #00af00\">0</span>],      │\n",
              "│                     │                   │            │ len_valid[<span style=\"color: #00af00; text-decoration-color: #00af00\">0</span>][<span style=\"color: #00af00; text-decoration-color: #00af00\">0</span>]   │\n",
              "├─────────────────────┼───────────────────┼────────────┼───────────────────┤\n",
              "│ cls (<span style=\"color: #0087ff; text-decoration-color: #0087ff\">Dense</span>)         │ (<span style=\"color: #00d7ff; text-decoration-color: #00d7ff\">None</span>, <span style=\"color: #00af00; text-decoration-color: #00af00\">1</span>)         │         <span style=\"color: #00af00; text-decoration-color: #00af00\">65</span> │ pooled[<span style=\"color: #00af00; text-decoration-color: #00af00\">0</span>][<span style=\"color: #00af00; text-decoration-color: #00af00\">0</span>]      │\n",
              "└─────────────────────┴───────────────────┴────────────┴───────────────────┘\n",
              "</pre>\n"
            ]
          },
          "metadata": {}
        },
        {
          "output_type": "display_data",
          "data": {
            "text/plain": [
              "\u001b[1m Total params: \u001b[0m\u001b[38;5;34m1,056,833\u001b[0m (4.03 MB)\n"
            ],
            "text/html": [
              "<pre style=\"white-space:pre;overflow-x:auto;line-height:normal;font-family:Menlo,'DejaVu Sans Mono',consolas,'Courier New',monospace\"><span style=\"font-weight: bold\"> Total params: </span><span style=\"color: #00af00; text-decoration-color: #00af00\">1,056,833</span> (4.03 MB)\n",
              "</pre>\n"
            ]
          },
          "metadata": {}
        },
        {
          "output_type": "display_data",
          "data": {
            "text/plain": [
              "\u001b[1m Trainable params: \u001b[0m\u001b[38;5;34m1,056,833\u001b[0m (4.03 MB)\n"
            ],
            "text/html": [
              "<pre style=\"white-space:pre;overflow-x:auto;line-height:normal;font-family:Menlo,'DejaVu Sans Mono',consolas,'Courier New',monospace\"><span style=\"font-weight: bold\"> Trainable params: </span><span style=\"color: #00af00; text-decoration-color: #00af00\">1,056,833</span> (4.03 MB)\n",
              "</pre>\n"
            ]
          },
          "metadata": {}
        },
        {
          "output_type": "display_data",
          "data": {
            "text/plain": [
              "\u001b[1m Non-trainable params: \u001b[0m\u001b[38;5;34m0\u001b[0m (0.00 B)\n"
            ],
            "text/html": [
              "<pre style=\"white-space:pre;overflow-x:auto;line-height:normal;font-family:Menlo,'DejaVu Sans Mono',consolas,'Courier New',monospace\"><span style=\"font-weight: bold\"> Non-trainable params: </span><span style=\"color: #00af00; text-decoration-color: #00af00\">0</span> (0.00 B)\n",
              "</pre>\n"
            ]
          },
          "metadata": {}
        }
      ]
    },
    {
      "cell_type": "code",
      "source": [
        "history = model.fit(\n",
        "    X_train_pad, y_train,\n",
        "    validation_data=(X_test_pad, y_test),\n",
        "    epochs=3, batch_size=128,\n",
        "    class_weight=class_weights, verbose=1\n",
        ")\n",
        "\n",
        "print(\"\\nEval test:\")\n",
        "model.evaluate(X_test_pad, y_test, verbose=1)\n",
        "\n",
        "# Extraer W_Q, W_K, W_V\n",
        "W_Q_mat = model.get_layer(\"W_Q\").get_weights()[0]\n",
        "W_K_mat = model.get_layer(\"W_K\").get_weights()[0]\n",
        "W_V_mat = model.get_layer(\"W_V\").get_weights()[0]\n",
        "print(\"W_Q:\", W_Q_mat.shape, \"W_K:\", W_K_mat.shape, \"W_V:\", W_V_mat.shape)\n",
        "\n",
        "# Modelo para ver pesos A (máscara de relevancia)\n",
        "A_model = tf.keras.Model(model.input, model.get_layer(\"A\").output)\n",
        "\n",
        "def show_attention(text, top_k=12):\n",
        "    seq = tokenizer.texts_to_sequences([text])\n",
        "    pad = tf.keras.preprocessing.sequence.pad_sequences(seq, maxlen=max_length)\n",
        "    A_val = A_model.predict(pad, verbose=0)[0]  # (T,T)\n",
        "    ids = pad[0]\n",
        "    valid_idx = (ids != 0).nonzero()[0]\n",
        "    toks = [tokenizer.index_word.get(int(i), \"<unk>\") for i in ids[valid_idx]]\n",
        "    A_valid = A_val[valid_idx][:, valid_idx]\n",
        "    attn_last = A_valid[-1]  # atención del último token a todos\n",
        "    order = attn_last.argsort()[::-1][:min(top_k, len(attn_last))]\n",
        "    for j in order:\n",
        "        print(f\"{toks[j]:>15s}  {attn_last[j]:.3f}\")\n"
      ],
      "metadata": {
        "colab": {
          "base_uri": "https://localhost:8080/"
        },
        "id": "3hNKmR90MHIh",
        "outputId": "e05705d4-3bc9-4e77-d0ce-b374a35f9f63"
      },
      "execution_count": 22,
      "outputs": [
        {
          "output_type": "stream",
          "name": "stdout",
          "text": [
            "Epoch 1/3\n",
            "\u001b[1m35/35\u001b[0m \u001b[32m━━━━━━━━━━━━━━━━━━━━\u001b[0m\u001b[37m\u001b[0m \u001b[1m5s\u001b[0m 73ms/step - accuracy: 0.7478 - loss: 0.5201 - val_accuracy: 0.7928 - val_loss: 0.3611\n",
            "Epoch 2/3\n",
            "\u001b[1m35/35\u001b[0m \u001b[32m━━━━━━━━━━━━━━━━━━━━\u001b[0m\u001b[37m\u001b[0m \u001b[1m5s\u001b[0m 63ms/step - accuracy: 0.8834 - loss: 0.2460 - val_accuracy: 0.9605 - val_loss: 0.1166\n",
            "Epoch 3/3\n",
            "\u001b[1m35/35\u001b[0m \u001b[32m━━━━━━━━━━━━━━━━━━━━\u001b[0m\u001b[37m\u001b[0m \u001b[1m3s\u001b[0m 63ms/step - accuracy: 0.9838 - loss: 0.0516 - val_accuracy: 0.9740 - val_loss: 0.0629\n",
            "\n",
            "Eval test:\n",
            "\u001b[1m35/35\u001b[0m \u001b[32m━━━━━━━━━━━━━━━━━━━━\u001b[0m\u001b[37m\u001b[0m \u001b[1m0s\u001b[0m 11ms/step - accuracy: 0.9775 - loss: 0.0605\n",
            "W_Q: (128, 64) W_K: (128, 64) W_V: (128, 64)\n"
          ]
        }
      ]
    },
    {
      "cell_type": "code",
      "source": [
        "# SOLO la matriz de atención (A) con colorbar y ticks a 90°\n",
        "import numpy as np\n",
        "import tensorflow as tf\n",
        "from tensorflow.keras import Model\n",
        "import matplotlib.pyplot as plt\n",
        "import pandas as pd\n",
        "\n",
        "def show_attention_matrix_only(sample_index, valid_only=True, decimals=3):\n",
        "    \"\"\"\n",
        "    Dibuja SOLO la matriz de atención A (después de softmax).\n",
        "    - valid_only=True: recorta <pad> y muestra solo tokens válidos.\n",
        "    \"\"\"\n",
        "    # Modelo auxiliar que expone la capa \"A\"\n",
        "    A_model = Model(model.input, model.get_layer(\"A\").output)\n",
        "\n",
        "    # 1) Texto -> ids con padding\n",
        "    text = X_test.iloc[sample_index]\n",
        "    seq = tokenizer.texts_to_sequences([text])\n",
        "    pad = tf.keras.preprocessing.sequence.pad_sequences(seq, maxlen=max_length)\n",
        "    ids = pad[0]\n",
        "\n",
        "    # 2) Matriz A completa (T x T)\n",
        "    A_full = A_model.predict(pad, verbose=0)[0]\n",
        "\n",
        "    # 3) Etiquetas\n",
        "    index_word = tokenizer.index_word\n",
        "    if valid_only:\n",
        "        valid_idx = np.where(ids != 0)[0]\n",
        "        if valid_idx.size == 0:\n",
        "            print(\"No hay tokens válidos.\")\n",
        "            return\n",
        "        tokens = [index_word.get(int(ids[i]), \"<unk>\") for i in valid_idx]\n",
        "        labels = [f\"{k}:{tok}\" for k, tok in enumerate(tokens)]\n",
        "        A = A_full[np.ix_(valid_idx, valid_idx)]\n",
        "    else:\n",
        "        tokens = [index_word.get(int(t), \"<unk>\") if t!=0 else \"<pad>\" for t in ids]\n",
        "        labels = [f\"{i}:{tok}\" for i, tok in enumerate(tokens)]\n",
        "        A = A_full\n",
        "\n",
        "    # 4) Heatmap SOLO de A (con colorbar y ticks a 90°)\n",
        "    L = len(labels)\n",
        "    fig_w = max(6, L * 0.5)\n",
        "    fig_h = max(5, L * 0.5)\n",
        "    fig, ax = plt.subplots(figsize=(fig_w, fig_h))\n",
        "    im = ax.imshow(np.round(A, decimals), aspect='auto')\n",
        "    cbar = plt.colorbar(im, ax=ax)\n",
        "    cbar.ax.tick_params(labelrotation=90)  # ticks del colorbar a 90°\n",
        "\n",
        "    ax.set_xticks(range(L))\n",
        "    ax.set_xticklabels(labels, rotation=90, ha='center')  # etiquetas X a 90°\n",
        "    ax.set_yticks(range(L))\n",
        "    ax.set_yticklabels(labels)\n",
        "    ax.set_xlabel(\"Claves (j)\")\n",
        "    ax.set_ylabel(\"Consultas (i)\")\n",
        "    ax.set_title(\"Matriz de atención A (solo tokens válidos)\" if valid_only else \"Matriz de atención A (incluye <pad>)\")\n",
        "    plt.tight_layout()\n",
        "    plt.show()\n",
        "\n",
        "    # 5) (Opcional) imprimir sumas por fila ≈ 1\n",
        "    row_sums = A.sum(axis=1)\n",
        "    print(\"Suma por fila (≈1):\", np.round(row_sums, 3))\n",
        "\n",
        "    # 6) (Opcional) DataFrame con A\n",
        "    #A_df = pd.DataFrame(np.round(A, decimals), index=labels, columns=labels)\n",
        "    #display(A_df)\n",
        "\n",
        "# Ejemplo de uso:\n",
        "show_attention_matrix_only(sample_index=3, valid_only=True)\n"
      ],
      "metadata": {
        "colab": {
          "base_uri": "https://localhost:8080/",
          "height": 724
        },
        "id": "yZIoqu3eMaow",
        "outputId": "6a055a94-c8c2-4da5-ec19-464bd9c38fa3"
      },
      "execution_count": 23,
      "outputs": [
        {
          "output_type": "display_data",
          "data": {
            "text/plain": [
              "<Figure size 700x700 with 2 Axes>"
            ],
            "image/png": "[encoded data removed]"
          },
          "metadata": {}
        },
        {
          "output_type": "stream",
          "name": "stdout",
          "text": [
            "Suma por fila (≈1): [1. 1. 1. 1. 1. 1. 1. 1. 1. 1. 1. 1. 1. 1.]\n"
          ]
        }
      ]
    },
    {
      "cell_type": "code",
      "source": [
        "import numpy as np\n",
        "import matplotlib.pyplot as plt\n",
        "import pandas as pd\n",
        "import tensorflow as tf\n",
        "from tensorflow.keras import Model\n",
        "from IPython.display import display\n",
        "\n",
        "# Modelo auxiliar para obtener A\n",
        "A_model = Model(model.input, model.get_layer(\"A\").output)\n",
        "\n",
        "def _pad_text(text):\n",
        "    seq = tokenizer.texts_to_sequences([text])\n",
        "    return tf.keras.preprocessing.sequence.pad_sequences(seq, maxlen=max_length)\n",
        "\n",
        "def _valid_tokens_and_A(pad):\n",
        "    ids = pad[0]\n",
        "    valid_idx = np.where(ids != 0)[0]\n",
        "    index_word = tokenizer.index_word\n",
        "    tokens = [index_word.get(int(ids[i]), \"<unk>\") for i in valid_idx]\n",
        "    A_full = A_model.predict(pad, verbose=0)[0]\n",
        "    A = A_full[np.ix_(valid_idx, valid_idx)]  # recorta a tokens válidos\n",
        "    return tokens, A\n",
        "\n",
        "def bar_scores_for_query(sample_index, query='last', sort=False, decimals=3):\n",
        "    \"\"\"\n",
        "    Barras de los scores (pesos de atención) de una consulta específica:\n",
        "      - query='last' usa el último token válido\n",
        "      - query=int usa ese índice de token válido (0..T_valid-1)\n",
        "    \"\"\"\n",
        "    text = X_test.iloc[sample_index]\n",
        "    pad = _pad_text(text)\n",
        "    tokens, A = _valid_tokens_and_A(pad)\n",
        "    T = len(tokens)\n",
        "    if T == 0:\n",
        "        print(\"No hay tokens válidos.\"); return\n",
        "\n",
        "    if query == 'last':\n",
        "        i = T - 1\n",
        "    elif isinstance(query, int) and 0 <= query < T:\n",
        "        i = query\n",
        "    else:\n",
        "        raise ValueError(\"query debe ser 'last' o un entero en [0, T_valid-1].\")\n",
        "\n",
        "    w = A[i]  # fila i\n",
        "    labels = [f\"{j}:{tok}\" for j, tok in enumerate(tokens)]\n",
        "    if sort:\n",
        "        order = np.argsort(-w)\n",
        "        w = w[order]; labels = [labels[j] for j in order]\n",
        "\n",
        "    print(f\"[muestra {sample_index}] Consulta {i}:{tokens[i]}  | suma fila ≈ {w.sum():.3f}\")\n",
        "    plt.figure(figsize=(max(6, len(labels)*0.5), 3.5))\n",
        "    plt.bar(range(len(labels)), w)\n",
        "    plt.xticks(range(len(labels)), labels, rotation=90)\n",
        "    plt.ylabel(\"Peso de atención (fila i)\")\n",
        "    plt.title(f\"Atención de la consulta {i}:{tokens[i]}\")\n",
        "    plt.tight_layout()\n",
        "    plt.show()\n",
        "\n",
        "    df = pd.DataFrame({\"token\": labels, \"peso\": np.round(w, decimals)})\n",
        "    display(df)\n",
        "\n",
        "def bar_scores_per_key_mean(sample_index, sort=False, decimals=3):\n",
        "    \"\"\"\n",
        "    Barras de importancia por clave: promedio de atención que recibe cada token\n",
        "    (promedio de las filas hacia cada columna).\n",
        "    \"\"\"\n",
        "    text = X_test.iloc[sample_index]\n",
        "    pad = _pad_text(text)\n",
        "    tokens, A = _valid_tokens_and_A(pad)\n",
        "    if len(tokens) == 0:\n",
        "        print(\"No hay tokens válidos.\"); return\n",
        "\n",
        "    w = A.mean(axis=0)  # promedio por columna\n",
        "    labels = [f\"{j}:{tok}\" for j, tok in enumerate(tokens)]\n",
        "    if sort:\n",
        "        order = np.argsort(-w)\n",
        "        w = w[order]; labels = [labels[j] for j in order]\n",
        "\n",
        "    print(f\"[muestra {sample_index}] Importancia promedio por clave (columna)\")\n",
        "    plt.figure(figsize=(max(6, len(labels)*0.5), 3.5))\n",
        "    plt.bar(range(len(labels)), w)\n",
        "    plt.xticks(range(len(labels)), labels, rotation=90)\n",
        "    plt.ylabel(\"Atención promedio recibida\")\n",
        "    plt.title(\"Importancia promedio por token (columna)\")\n",
        "    plt.tight_layout()\n",
        "    plt.show()\n",
        "\n",
        "    #df = pd.DataFrame({\"token\": labels, \"peso_promedio\": np.round(w, decimals)})\n",
        "\n",
        "    #display(df)\n",
        "\n",
        "# Importancia promedio por token (lo que reciben como claves), ordenada\n",
        "bar_scores_per_key_mean(sample_index=3, sort=True)\n"
      ],
      "metadata": {
        "colab": {
          "base_uri": "https://localhost:8080/",
          "height": 374
        },
        "id": "Kv_9gJihMlpA",
        "outputId": "d532570a-40b6-4f99-82ae-b7f6ca82f39a"
      },
      "execution_count": 24,
      "outputs": [
        {
          "output_type": "stream",
          "name": "stdout",
          "text": [
            "[muestra 3] Importancia promedio por clave (columna)\n"
          ]
        },
        {
          "output_type": "display_data",
          "data": {
            "text/plain": [
              "<Figure size 700x350 with 1 Axes>"
            ],
            "image/png": "[encoded data removed]"
          },
          "metadata": {}
        }
      ]
    },
    {
      "cell_type": "markdown",
      "source": [
        "# Tarea\n",
        "## Prerrequisitos (rápidos)\n",
        "\n",
        "---\n",
        "\n",
        "## Parte A — Baseline con sinusoidal fija (control)\n",
        "\n",
        "1. **Ejecuta** el modelo base (senos/cosenos fijos) tal como está.\n",
        "2. **Dataset**: usa el mismo conjunto del curso.\n",
        "3. **Protocolo**:\n",
        "\n",
        "   * Entrena N épocas (p. ej., 10–20) con `adam`, `batch_size` fijo.\n",
        "   * Guarda: *train/val loss*, *val accuracy*, **tiempo/época**.\n",
        "\n",
        "5. **Registra**:\n",
        "\n",
        "   * Métricas en una **tabla** (ver plantilla abajo).\n",
        "   * **#Parámetros** del modelo.\n",
        "\n",
        "> **Entrega A**: tabla con métricas del baseline y breve comentario (3–5 líneas).\n",
        "\n",
        "---\n",
        "\n",
        "## Parte B — Sustituir por **Posición Aprendida (absoluta)**\n",
        "\n",
        "**Tarea técnica**: reemplaza la suma sinusoidal por una **tabla aprendida** de posiciones.\n",
        "\n",
        "### Pista de implementación (fragmento)\n",
        "\n",
        "```python\n",
        "class LearnedPositionalEncoding(layers.Layer):\n",
        "    def __init__(self, max_len: int, d_model: int, **kwargs):\n",
        "        super().__init__(**kwargs)\n",
        "        self.pos_emb = layers.Embedding(input_dim=max_len, output_dim=d_model)\n",
        "\n",
        "    def call(self, x):\n",
        "        # x: [B, T, d]\n",
        "        T = tf.shape(x)[1]\n",
        "        pos = tf.range(T)[tf.newaxis, :]         # [1, T]\n",
        "        return x + self.pos_emb(pos)             # [B, T, d]\n",
        "```\n",
        "\n",
        "* **Dónde**: sustituye la capa `SineCosinePositionalEncoding` por `LearnedPositionalEncoding` **sin cambiar nada más**.\n",
        "* **Repite** el *mismo protocolo* de la Parte A (mismas épocas, seed, optimizador, etc.).\n",
        "\n",
        "> **Entrega B**:\n",
        ">\n",
        "> * Código **funcionando** con posición aprendida.\n",
        "> * Tabla de métricas (entrenamiento/validación y extrapolación).\n",
        "\n",
        "\n",
        "---\n",
        "\n",
        "## Parte C — Investigación guiada (Relativa / RoPE / ALiBi)\n",
        "\n",
        "**No es obligatorio implementarlas** (extra si alguien quiere), pero **sí investigarlas** y **concluir**:\n",
        "\n",
        "1. **Relativa** (Shaw/T5): sesgos o embeddings por **distancia** $i-j$ inyectados en $QK^\\top$.\n",
        "2. **RoPE** (Rotary): aplica **rotaciones** dependientes de la posición a $Q,K$ por pares de dimensiones → el puntaje depende naturalmente de $i-j$.\n",
        "3. **ALiBi**: añade un **término lineal** que **penaliza** atenciones lejanas; muy estable con contextos largos.\n",
        "\n",
        "**Guía para las conclusiones (máx. 1–2 páginas):**\n",
        "\n",
        "* **Pros/Contras** frente a senos/cosenos fijos:\n",
        "\n",
        "  * **Parámetros extra** (¿tiene?, ¿cuántos?).\n",
        "  * **Estabilidad/velocidad de entrenamiento**.\n",
        "  * **Extrapolación** a longitudes mayores.\n",
        "  * **Sesgo hacia lo cercano** (¿lo introduce explícitamente o no?).\n",
        "  * **Simplicidad de implementación**.\n",
        "* **Cuándo elegirías** cada una (escenarios concretos).\n",
        "\n",
        "> **Entrega C**: resumen comparativo **claro y conciso**.\n",
        "\n",
        "\n"
      ],
      "metadata": {
        "id": "UGDs4C2rO8on"
      }
    },
    {
      "cell_type": "code",
      "source": [
        "import tabulate\n",
        "\n",
        "history = model.fit(\n",
        "    X_train_pad, y_train,\n",
        "    validation_data=(X_test_pad, y_test),\n",
        "    epochs=10, batch_size=128,\n",
        "    class_weight=class_weights, verbose=1\n",
        ")\n",
        "\n",
        "eval_results = model.evaluate(X_test_pad, y_test, verbose=1, return_dict=True)\n",
        "\n",
        "# Extraer W_Q, W_K, W_V\n",
        "W_Q_mat = model.get_layer(\"W_Q\").get_weights()[0]\n",
        "W_K_mat = model.get_layer(\"W_K\").get_weights()[0]\n",
        "W_V_mat = model.get_layer(\"W_V\").get_weights()[0]\n",
        "print(\"W_Q:\", W_Q_mat.shape, \"W_K:\", W_K_mat.shape, \"W_V:\", W_V_mat.shape)\n",
        "\n",
        "# Modelo para ver pesos A (máscara de relevancia)\n",
        "A_model = tf.keras.Model(model.input, model.get_layer(\"A\").output)\n",
        "\n",
        "def show_attention(text, top_k=12):\n",
        "    seq = tokenizer.texts_to_sequences([text])\n",
        "    pad = tf.keras.preprocessing.sequence.pad_sequences(seq, maxlen=max_length)\n",
        "    A_val = A_model.predict(pad, verbose=0)[0]  # (T,T)\n",
        "    ids = pad[0]\n",
        "    valid_idx = (ids != 0).nonzero()[0]\n",
        "    toks = [tokenizer.index_word.get(int(i), \"<unk>\") for i in ids[valid_idx]]\n",
        "    A_valid = A_val[valid_idx][:, valid_idx]\n",
        "    attn_last = A_valid[-1]  # atención del último token a todos\n",
        "    order = attn_last.argsort()[::-1][:min(top_k, len(attn_last))]\n",
        "    for j in order:\n",
        "        print(f\"{toks[j]:>15s}  {attn_last[j]:.3f}\")\n",
        "\n",
        "\n",
        "# Extraer métricas\n",
        "metrics_table = []\n",
        "for metric_name, metric_value in eval_results.items():\n",
        "    metrics_table.append([metric_name, f\"{metric_value:.4f}\"])\n",
        "\n",
        "# Extraer parámetros del modelo\n",
        "W_Q_mat = model.get_layer(\"W_Q\").get_weights()[0]\n",
        "W_K_mat = model.get_layer(\"W_K\").get_weights()[0]\n",
        "W_V_mat = model.get_layer(\"W_V\").get_weights()[0]\n",
        "\n",
        "# Contar parámetros entrenables\n",
        "total_params = model.count_params()\n",
        "\n",
        "# Crear tabla de parámetros\n",
        "params_table = [\n",
        "    [\"W_Q\", str(W_Q_mat.shape), f\"{np.prod(W_Q_mat.shape)}\"],\n",
        "    [\"W_K\", str(W_K_mat.shape), f\"{np.prod(W_K_mat.shape)}\"],\n",
        "    [\"W_V\", str(W_V_mat.shape), f\"{np.prod(W_V_mat.shape)}\"],\n",
        "    [\"Total trainable parameters\", \"\", f\"{total_params}\"]\n",
        "]\n",
        "\n",
        "# Imprimir tablas\n",
        "print(\"\\n=== Model Metrics ===\")\n",
        "print(tabulate.tabulate(metrics_table, headers=[\"Metric\", \"Value\"], tablefmt=\"grid\"))\n",
        "\n",
        "print(\"\\n=== Model Parameters ===\")\n",
        "print(tabulate.tabulate(params_table, headers=[\"Parameter\", \"Shape\", \"Count\"], tablefmt=\"grid\"))\n"
      ],
      "metadata": {
        "colab": {
          "base_uri": "https://localhost:8080/"
        },
        "id": "yx5nCh21M80v",
        "outputId": "415ca7e8-f065-4686-8b35-486ad94550bf"
      },
      "execution_count": 30,
      "outputs": [
        {
          "output_type": "stream",
          "name": "stdout",
          "text": [
            "Epoch 1/10\n",
            "\u001b[1m35/35\u001b[0m \u001b[32m━━━━━━━━━━━━━━━━━━━━\u001b[0m\u001b[37m\u001b[0m \u001b[1m5s\u001b[0m 126ms/step - accuracy: 0.9998 - loss: 1.1504e-04 - val_accuracy: 0.9883 - val_loss: 0.0600\n",
            "Epoch 2/10\n",
            "\u001b[1m35/35\u001b[0m \u001b[32m━━━━━━━━━━━━━━━━━━━━\u001b[0m\u001b[37m\u001b[0m \u001b[1m6s\u001b[0m 168ms/step - accuracy: 0.9995 - loss: 2.2111e-04 - val_accuracy: 0.9883 - val_loss: 0.0607\n",
            "Epoch 3/10\n",
            "\u001b[1m35/35\u001b[0m \u001b[32m━━━━━━━━━━━━━━━━━━━━\u001b[0m\u001b[37m\u001b[0m \u001b[1m7s\u001b[0m 62ms/step - accuracy: 1.0000 - loss: 4.6995e-05 - val_accuracy: 0.9883 - val_loss: 0.0614\n",
            "Epoch 4/10\n",
            "\u001b[1m35/35\u001b[0m \u001b[32m━━━━━━━━━━━━━━━━━━━━\u001b[0m\u001b[37m\u001b[0m \u001b[1m3s\u001b[0m 72ms/step - accuracy: 0.9998 - loss: 1.0526e-04 - val_accuracy: 0.9883 - val_loss: 0.0620\n",
            "Epoch 5/10\n",
            "\u001b[1m35/35\u001b[0m \u001b[32m━━━━━━━━━━━━━━━━━━━━\u001b[0m\u001b[37m\u001b[0m \u001b[1m3s\u001b[0m 96ms/step - accuracy: 0.9999 - loss: 6.0974e-05 - val_accuracy: 0.9883 - val_loss: 0.0626\n",
            "Epoch 6/10\n",
            "\u001b[1m35/35\u001b[0m \u001b[32m━━━━━━━━━━━━━━━━━━━━\u001b[0m\u001b[37m\u001b[0m \u001b[1m2s\u001b[0m 67ms/step - accuracy: 0.9999 - loss: 5.2254e-05 - val_accuracy: 0.9883 - val_loss: 0.0633\n",
            "Epoch 7/10\n",
            "\u001b[1m35/35\u001b[0m \u001b[32m━━━━━━━━━━━━━━━━━━━━\u001b[0m\u001b[37m\u001b[0m \u001b[1m2s\u001b[0m 62ms/step - accuracy: 0.9996 - loss: 1.9291e-04 - val_accuracy: 0.9883 - val_loss: 0.0639\n",
            "Epoch 8/10\n",
            "\u001b[1m35/35\u001b[0m \u001b[32m━━━━━━━━━━━━━━━━━━━━\u001b[0m\u001b[37m\u001b[0m \u001b[1m3s\u001b[0m 67ms/step - accuracy: 0.9999 - loss: 4.8359e-05 - val_accuracy: 0.9883 - val_loss: 0.0645\n",
            "Epoch 9/10\n",
            "\u001b[1m35/35\u001b[0m \u001b[32m━━━━━━━━━━━━━━━━━━━━\u001b[0m\u001b[37m\u001b[0m \u001b[1m3s\u001b[0m 72ms/step - accuracy: 0.9996 - loss: 1.6888e-04 - val_accuracy: 0.9883 - val_loss: 0.0651\n",
            "Epoch 10/10\n",
            "\u001b[1m35/35\u001b[0m \u001b[32m━━━━━━━━━━━━━━━━━━━━\u001b[0m\u001b[37m\u001b[0m \u001b[1m3s\u001b[0m 96ms/step - accuracy: 0.9998 - loss: 1.1082e-04 - val_accuracy: 0.9883 - val_loss: 0.0657\n",
            "\u001b[1m35/35\u001b[0m \u001b[32m━━━━━━━━━━━━━━━━━━━━\u001b[0m\u001b[37m\u001b[0m \u001b[1m0s\u001b[0m 6ms/step - accuracy: 0.9894 - loss: 0.0657\n",
            "W_Q: (128, 64) W_K: (128, 64) W_V: (128, 64)\n",
            "\n",
            "=== Model Metrics ===\n",
            "+----------+---------+\n",
            "| Metric   |   Value |\n",
            "+==========+=========+\n",
            "| accuracy |  0.9883 |\n",
            "+----------+---------+\n",
            "| loss     |  0.0657 |\n",
            "+----------+---------+\n",
            "\n",
            "=== Model Parameters ===\n",
            "+----------------------------+-----------+---------+\n",
            "| Parameter                  | Shape     |   Count |\n",
            "+============================+===========+=========+\n",
            "| W_Q                        | (128, 64) |    8192 |\n",
            "+----------------------------+-----------+---------+\n",
            "| W_K                        | (128, 64) |    8192 |\n",
            "+----------------------------+-----------+---------+\n",
            "| W_V                        | (128, 64) |    8192 |\n",
            "+----------------------------+-----------+---------+\n",
            "| Total trainable parameters |           | 1056833 |\n",
            "+----------------------------+-----------+---------+\n"
          ]
        }
      ]
    },
    {
      "cell_type": "code",
      "source": [
        "class LearnedPositionalEncoding(layers.Layer):\n",
        "    def __init__(self, max_len: int, d_model: int, **kwargs):\n",
        "        super().__init__(**kwargs)\n",
        "        self.pos_emb = layers.Embedding(input_dim=max_len, output_dim=d_model)\n",
        "\n",
        "    def call(self, x):\n",
        "        # x: [B, T, d]\n",
        "        T = tf.shape(x)[1]\n",
        "        pos = tf.range(T)[tf.newaxis, :]         # [1, T]\n",
        "        return x + self.pos_emb(pos)             # [B, T, d]\n",
        "\n",
        "import tensorflow as tf\n",
        "from tensorflow.keras import layers, Model\n",
        "\n",
        "tf.keras.backend.clear_session()\n",
        "\n",
        "# === Dimensiones ===\n",
        "embed_dim = 128\n",
        "d_model   = 128\n",
        "d_k       = 64\n",
        "d_v       = 64\n",
        "\n",
        "# Suponemos definidos: max_length, vocab_size\n",
        "inputs = layers.Input(shape=(max_length,), dtype=\"int32\", name=\"tokens\")\n",
        "\n",
        "# --- Máscara de padding ---\n",
        "mask      = layers.Lambda(lambda x: tf.cast(tf.not_equal(x, 0), tf.float32), name=\"mask_bool\")(inputs)      # (B,T)\n",
        "mask_exp  = layers.Lambda(lambda m: tf.expand_dims(m, axis=1),                       name=\"mask_exp\")(mask)  # (B,1,T)\n",
        "mask_time = layers.Lambda(lambda m: tf.expand_dims(m, axis=-1),                      name=\"mask_time\")(mask) # (B,T,1)\n",
        "\n",
        "# --- Embedding -> proyección a d_model ---\n",
        "emb = layers.Embedding(vocab_size, embed_dim, mask_zero=False, name=\"E\")(inputs)      # (B,T,embed_dim)\n",
        "x   = layers.Dense(d_model, activation=\"relu\", name=\"f_mlp\")(emb)                     # (B,T,d_model)\n",
        "\n",
        "# --- Positional Encoding (sinusoidal) y suma ---\n",
        "x   = LearnedPositionalEncoding(max_len=max_length, d_model=d_model, name=\"PE\")(x) # (B,T,d_model)\n",
        "\n",
        "# --- Proyecciones Q, K, V ---\n",
        "Q = layers.Dense(d_k, use_bias=False, name=\"W_Q\")(x)   # (B,T,d_k)\n",
        "K = layers.Dense(d_k, use_bias=False, name=\"W_K\")(x)   # (B,T,d_k)\n",
        "V = layers.Dense(d_v, use_bias=False, name=\"W_V\")(x)   # (B,T,d_v)\n",
        "\n",
        "# --- Scaled Dot-Product Attention con máscara ---\n",
        "scale = tf.sqrt(tf.cast(d_k, tf.float32))\n",
        "scores = layers.Lambda(\n",
        "    lambda qk: tf.matmul(qk[0], qk[1], transpose_b=True) / scale,\n",
        "    name=\"scores\"\n",
        ")([Q, K])  # (B,T,T)\n",
        "\n",
        "scores_masked = layers.Lambda(\n",
        "    lambda sm: sm[0] + (1. - sm[1]) * (-1e9),\n",
        "    name=\"scores_masked\"\n",
        ")([scores, mask_exp])\n",
        "\n",
        "A = layers.Softmax(axis=-1, name=\"A\")(scores_masked)          # (B,T,T)\n",
        "O = layers.Lambda(lambda av: tf.matmul(av[0], av[1]), name=\"O\")([A, V])  # (B,T,d_v)\n",
        "\n",
        "# --- Pooling temporal enmascarado ---\n",
        "sum_O     = layers.Lambda(lambda om: tf.reduce_sum(om[0] * om[1], axis=1), name=\"sum_O\")([O, mask_time])   # (B,d_v)\n",
        "len_valid = layers.Lambda(lambda m: tf.reduce_sum(m, axis=1) + 1e-9, name=\"len_valid\")(mask_time)          # (B,1)\n",
        "pooled    = layers.Lambda(lambda sl: sl[0] / sl[1], name=\"pooled\")([sum_O, len_valid])                     # (B,d_v)\n",
        "\n",
        "logits = layers.Dense(1, activation=\"sigmoid\", name=\"cls\")(pooled)\n",
        "\n",
        "model = Model(inputs, logits, name=\"MLP_SelfAttn_SMS\")\n",
        "model.compile(optimizer=\"adam\", loss=\"binary_crossentropy\", metrics=[\"accuracy\"])\n",
        "model.summary()\n"
      ],
      "metadata": {
        "id": "UhiGyAABMuAS",
        "outputId": "93fea4a3-1cad-473a-e810-d7c19b35cf5d",
        "colab": {
          "base_uri": "https://localhost:8080/",
          "height": 850
        }
      },
      "execution_count": 32,
      "outputs": [
        {
          "output_type": "display_data",
          "data": {
            "text/plain": [
              "\u001b[1mModel: \"MLP_SelfAttn_SMS\"\u001b[0m\n"
            ],
            "text/html": [
              "<pre style=\"white-space:pre;overflow-x:auto;line-height:normal;font-family:Menlo,'DejaVu Sans Mono',consolas,'Courier New',monospace\"><span style=\"font-weight: bold\">Model: \"MLP_SelfAttn_SMS\"</span>\n",
              "</pre>\n"
            ]
          },
          "metadata": {}
        },
        {
          "output_type": "display_data",
          "data": {
            "text/plain": [
              "┏━━━━━━━━━━━━━━━━━━━━━┳━━━━━━━━━━━━━━━━━━━┳━━━━━━━━━━━━┳━━━━━━━━━━━━━━━━━━━┓\n",
              "┃\u001b[1m \u001b[0m\u001b[1mLayer (type)       \u001b[0m\u001b[1m \u001b[0m┃\u001b[1m \u001b[0m\u001b[1mOutput Shape     \u001b[0m\u001b[1m \u001b[0m┃\u001b[1m \u001b[0m\u001b[1m   Param #\u001b[0m\u001b[1m \u001b[0m┃\u001b[1m \u001b[0m\u001b[1mConnected to     \u001b[0m\u001b[1m \u001b[0m┃\n",
              "┡━━━━━━━━━━━━━━━━━━━━━╇━━━━━━━━━━━━━━━━━━━╇━━━━━━━━━━━━╇━━━━━━━━━━━━━━━━━━━┩\n",
              "│ tokens (\u001b[38;5;33mInputLayer\u001b[0m) │ (\u001b[38;5;45mNone\u001b[0m, \u001b[38;5;34m33\u001b[0m)        │          \u001b[38;5;34m0\u001b[0m │ -                 │\n",
              "├─────────────────────┼───────────────────┼────────────┼───────────────────┤\n",
              "│ E (\u001b[38;5;33mEmbedding\u001b[0m)       │ (\u001b[38;5;45mNone\u001b[0m, \u001b[38;5;34m33\u001b[0m, \u001b[38;5;34m128\u001b[0m)   │  \u001b[38;5;34m1,015,680\u001b[0m │ tokens[\u001b[38;5;34m0\u001b[0m][\u001b[38;5;34m0\u001b[0m]      │\n",
              "├─────────────────────┼───────────────────┼────────────┼───────────────────┤\n",
              "│ f_mlp (\u001b[38;5;33mDense\u001b[0m)       │ (\u001b[38;5;45mNone\u001b[0m, \u001b[38;5;34m33\u001b[0m, \u001b[38;5;34m128\u001b[0m)   │     \u001b[38;5;34m16,512\u001b[0m │ E[\u001b[38;5;34m0\u001b[0m][\u001b[38;5;34m0\u001b[0m]           │\n",
              "├─────────────────────┼───────────────────┼────────────┼───────────────────┤\n",
              "│ PE                  │ (\u001b[38;5;45mNone\u001b[0m, \u001b[38;5;34m33\u001b[0m, \u001b[38;5;34m128\u001b[0m)   │      \u001b[38;5;34m4,224\u001b[0m │ f_mlp[\u001b[38;5;34m0\u001b[0m][\u001b[38;5;34m0\u001b[0m]       │\n",
              "│ (\u001b[38;5;33mLearnedPositional…\u001b[0m │                   │            │                   │\n",
              "├─────────────────────┼───────────────────┼────────────┼───────────────────┤\n",
              "│ W_Q (\u001b[38;5;33mDense\u001b[0m)         │ (\u001b[38;5;45mNone\u001b[0m, \u001b[38;5;34m33\u001b[0m, \u001b[38;5;34m64\u001b[0m)    │      \u001b[38;5;34m8,192\u001b[0m │ PE[\u001b[38;5;34m0\u001b[0m][\u001b[38;5;34m0\u001b[0m]          │\n",
              "├─────────────────────┼───────────────────┼────────────┼───────────────────┤\n",
              "│ W_K (\u001b[38;5;33mDense\u001b[0m)         │ (\u001b[38;5;45mNone\u001b[0m, \u001b[38;5;34m33\u001b[0m, \u001b[38;5;34m64\u001b[0m)    │      \u001b[38;5;34m8,192\u001b[0m │ PE[\u001b[38;5;34m0\u001b[0m][\u001b[38;5;34m0\u001b[0m]          │\n",
              "├─────────────────────┼───────────────────┼────────────┼───────────────────┤\n",
              "│ mask_bool (\u001b[38;5;33mLambda\u001b[0m)  │ (\u001b[38;5;45mNone\u001b[0m, \u001b[38;5;34m33\u001b[0m)        │          \u001b[38;5;34m0\u001b[0m │ tokens[\u001b[38;5;34m0\u001b[0m][\u001b[38;5;34m0\u001b[0m]      │\n",
              "├─────────────────────┼───────────────────┼────────────┼───────────────────┤\n",
              "│ scores (\u001b[38;5;33mLambda\u001b[0m)     │ (\u001b[38;5;45mNone\u001b[0m, \u001b[38;5;34m33\u001b[0m, \u001b[38;5;34m33\u001b[0m)    │          \u001b[38;5;34m0\u001b[0m │ W_Q[\u001b[38;5;34m0\u001b[0m][\u001b[38;5;34m0\u001b[0m],        │\n",
              "│                     │                   │            │ W_K[\u001b[38;5;34m0\u001b[0m][\u001b[38;5;34m0\u001b[0m]         │\n",
              "├─────────────────────┼───────────────────┼────────────┼───────────────────┤\n",
              "│ mask_exp (\u001b[38;5;33mLambda\u001b[0m)   │ (\u001b[38;5;45mNone\u001b[0m, \u001b[38;5;34m1\u001b[0m, \u001b[38;5;34m33\u001b[0m)     │          \u001b[38;5;34m0\u001b[0m │ mask_bool[\u001b[38;5;34m0\u001b[0m][\u001b[38;5;34m0\u001b[0m]   │\n",
              "├─────────────────────┼───────────────────┼────────────┼───────────────────┤\n",
              "│ scores_masked       │ (\u001b[38;5;45mNone\u001b[0m, \u001b[38;5;34m33\u001b[0m, \u001b[38;5;34m33\u001b[0m)    │          \u001b[38;5;34m0\u001b[0m │ scores[\u001b[38;5;34m0\u001b[0m][\u001b[38;5;34m0\u001b[0m],     │\n",
              "│ (\u001b[38;5;33mLambda\u001b[0m)            │                   │            │ mask_exp[\u001b[38;5;34m0\u001b[0m][\u001b[38;5;34m0\u001b[0m]    │\n",
              "├─────────────────────┼───────────────────┼────────────┼───────────────────┤\n",
              "│ A (\u001b[38;5;33mSoftmax\u001b[0m)         │ (\u001b[38;5;45mNone\u001b[0m, \u001b[38;5;34m33\u001b[0m, \u001b[38;5;34m33\u001b[0m)    │          \u001b[38;5;34m0\u001b[0m │ scores_masked[\u001b[38;5;34m0\u001b[0m]… │\n",
              "├─────────────────────┼───────────────────┼────────────┼───────────────────┤\n",
              "│ W_V (\u001b[38;5;33mDense\u001b[0m)         │ (\u001b[38;5;45mNone\u001b[0m, \u001b[38;5;34m33\u001b[0m, \u001b[38;5;34m64\u001b[0m)    │      \u001b[38;5;34m8,192\u001b[0m │ PE[\u001b[38;5;34m0\u001b[0m][\u001b[38;5;34m0\u001b[0m]          │\n",
              "├─────────────────────┼───────────────────┼────────────┼───────────────────┤\n",
              "│ O (\u001b[38;5;33mLambda\u001b[0m)          │ (\u001b[38;5;45mNone\u001b[0m, \u001b[38;5;34m33\u001b[0m, \u001b[38;5;34m64\u001b[0m)    │          \u001b[38;5;34m0\u001b[0m │ A[\u001b[38;5;34m0\u001b[0m][\u001b[38;5;34m0\u001b[0m],          │\n",
              "│                     │                   │            │ W_V[\u001b[38;5;34m0\u001b[0m][\u001b[38;5;34m0\u001b[0m]         │\n",
              "├─────────────────────┼───────────────────┼────────────┼───────────────────┤\n",
              "│ mask_time (\u001b[38;5;33mLambda\u001b[0m)  │ (\u001b[38;5;45mNone\u001b[0m, \u001b[38;5;34m33\u001b[0m, \u001b[38;5;34m1\u001b[0m)     │          \u001b[38;5;34m0\u001b[0m │ mask_bool[\u001b[38;5;34m0\u001b[0m][\u001b[38;5;34m0\u001b[0m]   │\n",
              "├─────────────────────┼───────────────────┼────────────┼───────────────────┤\n",
              "│ sum_O (\u001b[38;5;33mLambda\u001b[0m)      │ (\u001b[38;5;45mNone\u001b[0m, \u001b[38;5;34m64\u001b[0m)        │          \u001b[38;5;34m0\u001b[0m │ O[\u001b[38;5;34m0\u001b[0m][\u001b[38;5;34m0\u001b[0m],          │\n",
              "│                     │                   │            │ mask_time[\u001b[38;5;34m0\u001b[0m][\u001b[38;5;34m0\u001b[0m]   │\n",
              "├─────────────────────┼───────────────────┼────────────┼───────────────────┤\n",
              "│ len_valid (\u001b[38;5;33mLambda\u001b[0m)  │ (\u001b[38;5;45mNone\u001b[0m, \u001b[38;5;34m1\u001b[0m)         │          \u001b[38;5;34m0\u001b[0m │ mask_time[\u001b[38;5;34m0\u001b[0m][\u001b[38;5;34m0\u001b[0m]   │\n",
              "├─────────────────────┼───────────────────┼────────────┼───────────────────┤\n",
              "│ pooled (\u001b[38;5;33mLambda\u001b[0m)     │ (\u001b[38;5;45mNone\u001b[0m, \u001b[38;5;34m64\u001b[0m)        │          \u001b[38;5;34m0\u001b[0m │ sum_O[\u001b[38;5;34m0\u001b[0m][\u001b[38;5;34m0\u001b[0m],      │\n",
              "│                     │                   │            │ len_valid[\u001b[38;5;34m0\u001b[0m][\u001b[38;5;34m0\u001b[0m]   │\n",
              "├─────────────────────┼───────────────────┼────────────┼───────────────────┤\n",
              "│ cls (\u001b[38;5;33mDense\u001b[0m)         │ (\u001b[38;5;45mNone\u001b[0m, \u001b[38;5;34m1\u001b[0m)         │         \u001b[38;5;34m65\u001b[0m │ pooled[\u001b[38;5;34m0\u001b[0m][\u001b[38;5;34m0\u001b[0m]      │\n",
              "└─────────────────────┴───────────────────┴────────────┴───────────────────┘\n"
            ],
            "text/html": [
              "<pre style=\"white-space:pre;overflow-x:auto;line-height:normal;font-family:Menlo,'DejaVu Sans Mono',consolas,'Courier New',monospace\">┏━━━━━━━━━━━━━━━━━━━━━┳━━━━━━━━━━━━━━━━━━━┳━━━━━━━━━━━━┳━━━━━━━━━━━━━━━━━━━┓\n",
              "┃<span style=\"font-weight: bold\"> Layer (type)        </span>┃<span style=\"font-weight: bold\"> Output Shape      </span>┃<span style=\"font-weight: bold\">    Param # </span>┃<span style=\"font-weight: bold\"> Connected to      </span>┃\n",
              "┡━━━━━━━━━━━━━━━━━━━━━╇━━━━━━━━━━━━━━━━━━━╇━━━━━━━━━━━━╇━━━━━━━━━━━━━━━━━━━┩\n",
              "│ tokens (<span style=\"color: #0087ff; text-decoration-color: #0087ff\">InputLayer</span>) │ (<span style=\"color: #00d7ff; text-decoration-color: #00d7ff\">None</span>, <span style=\"color: #00af00; text-decoration-color: #00af00\">33</span>)        │          <span style=\"color: #00af00; text-decoration-color: #00af00\">0</span> │ -                 │\n",
              "├─────────────────────┼───────────────────┼────────────┼───────────────────┤\n",
              "│ E (<span style=\"color: #0087ff; text-decoration-color: #0087ff\">Embedding</span>)       │ (<span style=\"color: #00d7ff; text-decoration-color: #00d7ff\">None</span>, <span style=\"color: #00af00; text-decoration-color: #00af00\">33</span>, <span style=\"color: #00af00; text-decoration-color: #00af00\">128</span>)   │  <span style=\"color: #00af00; text-decoration-color: #00af00\">1,015,680</span> │ tokens[<span style=\"color: #00af00; text-decoration-color: #00af00\">0</span>][<span style=\"color: #00af00; text-decoration-color: #00af00\">0</span>]      │\n",
              "├─────────────────────┼───────────────────┼────────────┼───────────────────┤\n",
              "│ f_mlp (<span style=\"color: #0087ff; text-decoration-color: #0087ff\">Dense</span>)       │ (<span style=\"color: #00d7ff; text-decoration-color: #00d7ff\">None</span>, <span style=\"color: #00af00; text-decoration-color: #00af00\">33</span>, <span style=\"color: #00af00; text-decoration-color: #00af00\">128</span>)   │     <span style=\"color: #00af00; text-decoration-color: #00af00\">16,512</span> │ E[<span style=\"color: #00af00; text-decoration-color: #00af00\">0</span>][<span style=\"color: #00af00; text-decoration-color: #00af00\">0</span>]           │\n",
              "├─────────────────────┼───────────────────┼────────────┼───────────────────┤\n",
              "│ PE                  │ (<span style=\"color: #00d7ff; text-decoration-color: #00d7ff\">None</span>, <span style=\"color: #00af00; text-decoration-color: #00af00\">33</span>, <span style=\"color: #00af00; text-decoration-color: #00af00\">128</span>)   │      <span style=\"color: #00af00; text-decoration-color: #00af00\">4,224</span> │ f_mlp[<span style=\"color: #00af00; text-decoration-color: #00af00\">0</span>][<span style=\"color: #00af00; text-decoration-color: #00af00\">0</span>]       │\n",
              "│ (<span style=\"color: #0087ff; text-decoration-color: #0087ff\">LearnedPositional…</span> │                   │            │                   │\n",
              "├─────────────────────┼───────────────────┼────────────┼───────────────────┤\n",
              "│ W_Q (<span style=\"color: #0087ff; text-decoration-color: #0087ff\">Dense</span>)         │ (<span style=\"color: #00d7ff; text-decoration-color: #00d7ff\">None</span>, <span style=\"color: #00af00; text-decoration-color: #00af00\">33</span>, <span style=\"color: #00af00; text-decoration-color: #00af00\">64</span>)    │      <span style=\"color: #00af00; text-decoration-color: #00af00\">8,192</span> │ PE[<span style=\"color: #00af00; text-decoration-color: #00af00\">0</span>][<span style=\"color: #00af00; text-decoration-color: #00af00\">0</span>]          │\n",
              "├─────────────────────┼───────────────────┼────────────┼───────────────────┤\n",
              "│ W_K (<span style=\"color: #0087ff; text-decoration-color: #0087ff\">Dense</span>)         │ (<span style=\"color: #00d7ff; text-decoration-color: #00d7ff\">None</span>, <span style=\"color: #00af00; text-decoration-color: #00af00\">33</span>, <span style=\"color: #00af00; text-decoration-color: #00af00\">64</span>)    │      <span style=\"color: #00af00; text-decoration-color: #00af00\">8,192</span> │ PE[<span style=\"color: #00af00; text-decoration-color: #00af00\">0</span>][<span style=\"color: #00af00; text-decoration-color: #00af00\">0</span>]          │\n",
              "├─────────────────────┼───────────────────┼────────────┼───────────────────┤\n",
              "│ mask_bool (<span style=\"color: #0087ff; text-decoration-color: #0087ff\">Lambda</span>)  │ (<span style=\"color: #00d7ff; text-decoration-color: #00d7ff\">None</span>, <span style=\"color: #00af00; text-decoration-color: #00af00\">33</span>)        │          <span style=\"color: #00af00; text-decoration-color: #00af00\">0</span> │ tokens[<span style=\"color: #00af00; text-decoration-color: #00af00\">0</span>][<span style=\"color: #00af00; text-decoration-color: #00af00\">0</span>]      │\n",
              "├─────────────────────┼───────────────────┼────────────┼───────────────────┤\n",
              "│ scores (<span style=\"color: #0087ff; text-decoration-color: #0087ff\">Lambda</span>)     │ (<span style=\"color: #00d7ff; text-decoration-color: #00d7ff\">None</span>, <span style=\"color: #00af00; text-decoration-color: #00af00\">33</span>, <span style=\"color: #00af00; text-decoration-color: #00af00\">33</span>)    │          <span style=\"color: #00af00; text-decoration-color: #00af00\">0</span> │ W_Q[<span style=\"color: #00af00; text-decoration-color: #00af00\">0</span>][<span style=\"color: #00af00; text-decoration-color: #00af00\">0</span>],        │\n",
              "│                     │                   │            │ W_K[<span style=\"color: #00af00; text-decoration-color: #00af00\">0</span>][<span style=\"color: #00af00; text-decoration-color: #00af00\">0</span>]         │\n",
              "├─────────────────────┼───────────────────┼────────────┼───────────────────┤\n",
              "│ mask_exp (<span style=\"color: #0087ff; text-decoration-color: #0087ff\">Lambda</span>)   │ (<span style=\"color: #00d7ff; text-decoration-color: #00d7ff\">None</span>, <span style=\"color: #00af00; text-decoration-color: #00af00\">1</span>, <span style=\"color: #00af00; text-decoration-color: #00af00\">33</span>)     │          <span style=\"color: #00af00; text-decoration-color: #00af00\">0</span> │ mask_bool[<span style=\"color: #00af00; text-decoration-color: #00af00\">0</span>][<span style=\"color: #00af00; text-decoration-color: #00af00\">0</span>]   │\n",
              "├─────────────────────┼───────────────────┼────────────┼───────────────────┤\n",
              "│ scores_masked       │ (<span style=\"color: #00d7ff; text-decoration-color: #00d7ff\">None</span>, <span style=\"color: #00af00; text-decoration-color: #00af00\">33</span>, <span style=\"color: #00af00; text-decoration-color: #00af00\">33</span>)    │          <span style=\"color: #00af00; text-decoration-color: #00af00\">0</span> │ scores[<span style=\"color: #00af00; text-decoration-color: #00af00\">0</span>][<span style=\"color: #00af00; text-decoration-color: #00af00\">0</span>],     │\n",
              "│ (<span style=\"color: #0087ff; text-decoration-color: #0087ff\">Lambda</span>)            │                   │            │ mask_exp[<span style=\"color: #00af00; text-decoration-color: #00af00\">0</span>][<span style=\"color: #00af00; text-decoration-color: #00af00\">0</span>]    │\n",
              "├─────────────────────┼───────────────────┼────────────┼───────────────────┤\n",
              "│ A (<span style=\"color: #0087ff; text-decoration-color: #0087ff\">Softmax</span>)         │ (<span style=\"color: #00d7ff; text-decoration-color: #00d7ff\">None</span>, <span style=\"color: #00af00; text-decoration-color: #00af00\">33</span>, <span style=\"color: #00af00; text-decoration-color: #00af00\">33</span>)    │          <span style=\"color: #00af00; text-decoration-color: #00af00\">0</span> │ scores_masked[<span style=\"color: #00af00; text-decoration-color: #00af00\">0</span>]… │\n",
              "├─────────────────────┼───────────────────┼────────────┼───────────────────┤\n",
              "│ W_V (<span style=\"color: #0087ff; text-decoration-color: #0087ff\">Dense</span>)         │ (<span style=\"color: #00d7ff; text-decoration-color: #00d7ff\">None</span>, <span style=\"color: #00af00; text-decoration-color: #00af00\">33</span>, <span style=\"color: #00af00; text-decoration-color: #00af00\">64</span>)    │      <span style=\"color: #00af00; text-decoration-color: #00af00\">8,192</span> │ PE[<span style=\"color: #00af00; text-decoration-color: #00af00\">0</span>][<span style=\"color: #00af00; text-decoration-color: #00af00\">0</span>]          │\n",
              "├─────────────────────┼───────────────────┼────────────┼───────────────────┤\n",
              "│ O (<span style=\"color: #0087ff; text-decoration-color: #0087ff\">Lambda</span>)          │ (<span style=\"color: #00d7ff; text-decoration-color: #00d7ff\">None</span>, <span style=\"color: #00af00; text-decoration-color: #00af00\">33</span>, <span style=\"color: #00af00; text-decoration-color: #00af00\">64</span>)    │          <span style=\"color: #00af00; text-decoration-color: #00af00\">0</span> │ A[<span style=\"color: #00af00; text-decoration-color: #00af00\">0</span>][<span style=\"color: #00af00; text-decoration-color: #00af00\">0</span>],          │\n",
              "│                     │                   │            │ W_V[<span style=\"color: #00af00; text-decoration-color: #00af00\">0</span>][<span style=\"color: #00af00; text-decoration-color: #00af00\">0</span>]         │\n",
              "├─────────────────────┼───────────────────┼────────────┼───────────────────┤\n",
              "│ mask_time (<span style=\"color: #0087ff; text-decoration-color: #0087ff\">Lambda</span>)  │ (<span style=\"color: #00d7ff; text-decoration-color: #00d7ff\">None</span>, <span style=\"color: #00af00; text-decoration-color: #00af00\">33</span>, <span style=\"color: #00af00; text-decoration-color: #00af00\">1</span>)     │          <span style=\"color: #00af00; text-decoration-color: #00af00\">0</span> │ mask_bool[<span style=\"color: #00af00; text-decoration-color: #00af00\">0</span>][<span style=\"color: #00af00; text-decoration-color: #00af00\">0</span>]   │\n",
              "├─────────────────────┼───────────────────┼────────────┼───────────────────┤\n",
              "│ sum_O (<span style=\"color: #0087ff; text-decoration-color: #0087ff\">Lambda</span>)      │ (<span style=\"color: #00d7ff; text-decoration-color: #00d7ff\">None</span>, <span style=\"color: #00af00; text-decoration-color: #00af00\">64</span>)        │          <span style=\"color: #00af00; text-decoration-color: #00af00\">0</span> │ O[<span style=\"color: #00af00; text-decoration-color: #00af00\">0</span>][<span style=\"color: #00af00; text-decoration-color: #00af00\">0</span>],          │\n",
              "│                     │                   │            │ mask_time[<span style=\"color: #00af00; text-decoration-color: #00af00\">0</span>][<span style=\"color: #00af00; text-decoration-color: #00af00\">0</span>]   │\n",
              "├─────────────────────┼───────────────────┼────────────┼───────────────────┤\n",
              "│ len_valid (<span style=\"color: #0087ff; text-decoration-color: #0087ff\">Lambda</span>)  │ (<span style=\"color: #00d7ff; text-decoration-color: #00d7ff\">None</span>, <span style=\"color: #00af00; text-decoration-color: #00af00\">1</span>)         │          <span style=\"color: #00af00; text-decoration-color: #00af00\">0</span> │ mask_time[<span style=\"color: #00af00; text-decoration-color: #00af00\">0</span>][<span style=\"color: #00af00; text-decoration-color: #00af00\">0</span>]   │\n",
              "├─────────────────────┼───────────────────┼────────────┼───────────────────┤\n",
              "│ pooled (<span style=\"color: #0087ff; text-decoration-color: #0087ff\">Lambda</span>)     │ (<span style=\"color: #00d7ff; text-decoration-color: #00d7ff\">None</span>, <span style=\"color: #00af00; text-decoration-color: #00af00\">64</span>)        │          <span style=\"color: #00af00; text-decoration-color: #00af00\">0</span> │ sum_O[<span style=\"color: #00af00; text-decoration-color: #00af00\">0</span>][<span style=\"color: #00af00; text-decoration-color: #00af00\">0</span>],      │\n",
              "│                     │                   │            │ len_valid[<span style=\"color: #00af00; text-decoration-color: #00af00\">0</span>][<span style=\"color: #00af00; text-decoration-color: #00af00\">0</span>]   │\n",
              "├─────────────────────┼───────────────────┼────────────┼───────────────────┤\n",
              "│ cls (<span style=\"color: #0087ff; text-decoration-color: #0087ff\">Dense</span>)         │ (<span style=\"color: #00d7ff; text-decoration-color: #00d7ff\">None</span>, <span style=\"color: #00af00; text-decoration-color: #00af00\">1</span>)         │         <span style=\"color: #00af00; text-decoration-color: #00af00\">65</span> │ pooled[<span style=\"color: #00af00; text-decoration-color: #00af00\">0</span>][<span style=\"color: #00af00; text-decoration-color: #00af00\">0</span>]      │\n",
              "└─────────────────────┴───────────────────┴────────────┴───────────────────┘\n",
              "</pre>\n"
            ]
          },
          "metadata": {}
        },
        {
          "output_type": "display_data",
          "data": {
            "text/plain": [
              "\u001b[1m Total params: \u001b[0m\u001b[38;5;34m1,061,057\u001b[0m (4.05 MB)\n"
            ],
            "text/html": [
              "<pre style=\"white-space:pre;overflow-x:auto;line-height:normal;font-family:Menlo,'DejaVu Sans Mono',consolas,'Courier New',monospace\"><span style=\"font-weight: bold\"> Total params: </span><span style=\"color: #00af00; text-decoration-color: #00af00\">1,061,057</span> (4.05 MB)\n",
              "</pre>\n"
            ]
          },
          "metadata": {}
        },
        {
          "output_type": "display_data",
          "data": {
            "text/plain": [
              "\u001b[1m Trainable params: \u001b[0m\u001b[38;5;34m1,061,057\u001b[0m (4.05 MB)\n"
            ],
            "text/html": [
              "<pre style=\"white-space:pre;overflow-x:auto;line-height:normal;font-family:Menlo,'DejaVu Sans Mono',consolas,'Courier New',monospace\"><span style=\"font-weight: bold\"> Trainable params: </span><span style=\"color: #00af00; text-decoration-color: #00af00\">1,061,057</span> (4.05 MB)\n",
              "</pre>\n"
            ]
          },
          "metadata": {}
        },
        {
          "output_type": "display_data",
          "data": {
            "text/plain": [
              "\u001b[1m Non-trainable params: \u001b[0m\u001b[38;5;34m0\u001b[0m (0.00 B)\n"
            ],
            "text/html": [
              "<pre style=\"white-space:pre;overflow-x:auto;line-height:normal;font-family:Menlo,'DejaVu Sans Mono',consolas,'Courier New',monospace\"><span style=\"font-weight: bold\"> Non-trainable params: </span><span style=\"color: #00af00; text-decoration-color: #00af00\">0</span> (0.00 B)\n",
              "</pre>\n"
            ]
          },
          "metadata": {}
        }
      ]
    },
    {
      "cell_type": "code",
      "source": [
        "history = model.fit(\n",
        "    X_train_pad, y_train,\n",
        "    validation_data=(X_test_pad, y_test),\n",
        "    epochs=10, batch_size=128,\n",
        "    class_weight=class_weights, verbose=1\n",
        ")\n",
        "\n",
        "eval_results = model.evaluate(X_test_pad, y_test, verbose=1, return_dict=True)\n",
        "\n",
        "# Extraer W_Q, W_K, W_V\n",
        "W_Q_mat = model.get_layer(\"W_Q\").get_weights()[0]\n",
        "W_K_mat = model.get_layer(\"W_K\").get_weights()[0]\n",
        "W_V_mat = model.get_layer(\"W_V\").get_weights()[0]\n",
        "print(\"W_Q:\", W_Q_mat.shape, \"W_K:\", W_K_mat.shape, \"W_V:\", W_V_mat.shape)\n",
        "\n",
        "# Modelo para ver pesos A (máscara de relevancia)\n",
        "A_model = tf.keras.Model(model.input, model.get_layer(\"A\").output)\n",
        "\n",
        "def show_attention(text, top_k=12):\n",
        "    seq = tokenizer.texts_to_sequences([text])\n",
        "    pad = tf.keras.preprocessing.sequence.pad_sequences(seq, maxlen=max_length)\n",
        "    A_val = A_model.predict(pad, verbose=0)[0]  # (T,T)\n",
        "    ids = pad[0]\n",
        "    valid_idx = (ids != 0).nonzero()[0]\n",
        "    toks = [tokenizer.index_word.get(int(i), \"<unk>\") for i in ids[valid_idx]]\n",
        "    A_valid = A_val[valid_idx][:, valid_idx]\n",
        "    attn_last = A_valid[-1]  # atención del último token a todos\n",
        "    order = attn_last.argsort()[::-1][:min(top_k, len(attn_last))]\n",
        "    for j in order:\n",
        "        print(f\"{toks[j]:>15s}  {attn_last[j]:.3f}\")\n",
        "\n",
        "\n",
        "# Extraer métricas\n",
        "metrics_table = []\n",
        "for metric_name, metric_value in eval_results.items():\n",
        "    metrics_table.append([metric_name, f\"{metric_value:.4f}\"])\n",
        "\n",
        "# Extraer parámetros del modelo\n",
        "W_Q_mat = model.get_layer(\"W_Q\").get_weights()[0]\n",
        "W_K_mat = model.get_layer(\"W_K\").get_weights()[0]\n",
        "W_V_mat = model.get_layer(\"W_V\").get_weights()[0]\n",
        "\n",
        "# Contar parámetros entrenables\n",
        "total_params = model.count_params()\n",
        "\n",
        "# Crear tabla de parámetros\n",
        "params_table = [\n",
        "    [\"W_Q\", str(W_Q_mat.shape), f\"{np.prod(W_Q_mat.shape)}\"],\n",
        "    [\"W_K\", str(W_K_mat.shape), f\"{np.prod(W_K_mat.shape)}\"],\n",
        "    [\"W_V\", str(W_V_mat.shape), f\"{np.prod(W_V_mat.shape)}\"],\n",
        "    [\"Total trainable parameters\", \"\", f\"{total_params}\"]\n",
        "]\n",
        "\n",
        "# Imprimir tablas\n",
        "print(\"\\n=== Model Metrics ===\")\n",
        "print(tabulate.tabulate(metrics_table, headers=[\"Metric\", \"Value\"], tablefmt=\"grid\"))\n",
        "\n",
        "print(\"\\n=== Model Parameters ===\")\n",
        "print(tabulate.tabulate(params_table, headers=[\"Parameter\", \"Shape\", \"Count\"], tablefmt=\"grid\"))"
      ],
      "metadata": {
        "id": "-C-wzCvlHg_G",
        "outputId": "eff4d762-e777-4fa2-ae73-de87ac6b3ddf",
        "colab": {
          "base_uri": "https://localhost:8080/"
        }
      },
      "execution_count": 33,
      "outputs": [
        {
          "output_type": "stream",
          "name": "stdout",
          "text": [
            "Epoch 1/10\n",
            "\u001b[1m35/35\u001b[0m \u001b[32m━━━━━━━━━━━━━━━━━━━━\u001b[0m\u001b[37m\u001b[0m \u001b[1m6s\u001b[0m 70ms/step - accuracy: 0.8628 - loss: 0.5938 - val_accuracy: 0.9650 - val_loss: 0.1142\n",
            "Epoch 2/10\n",
            "\u001b[1m35/35\u001b[0m \u001b[32m━━━━━━━━━━━━━━━━━━━━\u001b[0m\u001b[37m\u001b[0m \u001b[1m2s\u001b[0m 67ms/step - accuracy: 0.9802 - loss: 0.0781 - val_accuracy: 0.9857 - val_loss: 0.0476\n",
            "Epoch 3/10\n",
            "\u001b[1m35/35\u001b[0m \u001b[32m━━━━━━━━━━━━━━━━━━━━\u001b[0m\u001b[37m\u001b[0m \u001b[1m2s\u001b[0m 66ms/step - accuracy: 0.9949 - loss: 0.0280 - val_accuracy: 0.9874 - val_loss: 0.0388\n",
            "Epoch 4/10\n",
            "\u001b[1m35/35\u001b[0m \u001b[32m━━━━━━━━━━━━━━━━━━━━\u001b[0m\u001b[37m\u001b[0m \u001b[1m3s\u001b[0m 73ms/step - accuracy: 0.9974 - loss: 0.0086 - val_accuracy: 0.9883 - val_loss: 0.0327\n",
            "Epoch 5/10\n",
            "\u001b[1m35/35\u001b[0m \u001b[32m━━━━━━━━━━━━━━━━━━━━\u001b[0m\u001b[37m\u001b[0m \u001b[1m5s\u001b[0m 66ms/step - accuracy: 0.9982 - loss: 0.0053 - val_accuracy: 0.9892 - val_loss: 0.0343\n",
            "Epoch 6/10\n",
            "\u001b[1m35/35\u001b[0m \u001b[32m━━━━━━━━━━━━━━━━━━━━\u001b[0m\u001b[37m\u001b[0m \u001b[1m2s\u001b[0m 63ms/step - accuracy: 0.9998 - loss: 0.0016 - val_accuracy: 0.9910 - val_loss: 0.0364\n",
            "Epoch 7/10\n",
            "\u001b[1m35/35\u001b[0m \u001b[32m━━━━━━━━━━━━━━━━━━━━\u001b[0m\u001b[37m\u001b[0m \u001b[1m3s\u001b[0m 62ms/step - accuracy: 0.9990 - loss: 0.0024 - val_accuracy: 0.9901 - val_loss: 0.0377\n",
            "Epoch 8/10\n",
            "\u001b[1m35/35\u001b[0m \u001b[32m━━━━━━━━━━━━━━━━━━━━\u001b[0m\u001b[37m\u001b[0m \u001b[1m3s\u001b[0m 77ms/step - accuracy: 0.9998 - loss: 5.1282e-04 - val_accuracy: 0.9892 - val_loss: 0.0404\n",
            "Epoch 9/10\n",
            "\u001b[1m35/35\u001b[0m \u001b[32m━━━━━━━━━━━━━━━━━━━━\u001b[0m\u001b[37m\u001b[0m \u001b[1m3s\u001b[0m 88ms/step - accuracy: 1.0000 - loss: 4.5131e-04 - val_accuracy: 0.9892 - val_loss: 0.0417\n",
            "Epoch 10/10\n",
            "\u001b[1m35/35\u001b[0m \u001b[32m━━━━━━━━━━━━━━━━━━━━\u001b[0m\u001b[37m\u001b[0m \u001b[1m4s\u001b[0m 62ms/step - accuracy: 0.9993 - loss: 5.0516e-04 - val_accuracy: 0.9892 - val_loss: 0.0427\n",
            "\u001b[1m35/35\u001b[0m \u001b[32m━━━━━━━━━━━━━━━━━━━━\u001b[0m\u001b[37m\u001b[0m \u001b[1m0s\u001b[0m 7ms/step - accuracy: 0.9900 - loss: 0.0429\n",
            "W_Q: (128, 64) W_K: (128, 64) W_V: (128, 64)\n",
            "\n",
            "=== Model Metrics ===\n",
            "+----------+---------+\n",
            "| Metric   |   Value |\n",
            "+==========+=========+\n",
            "| accuracy |  0.9892 |\n",
            "+----------+---------+\n",
            "| loss     |  0.0427 |\n",
            "+----------+---------+\n",
            "\n",
            "=== Model Parameters ===\n",
            "+----------------------------+-----------+---------+\n",
            "| Parameter                  | Shape     |   Count |\n",
            "+============================+===========+=========+\n",
            "| W_Q                        | (128, 64) |    8192 |\n",
            "+----------------------------+-----------+---------+\n",
            "| W_K                        | (128, 64) |    8192 |\n",
            "+----------------------------+-----------+---------+\n",
            "| W_V                        | (128, 64) |    8192 |\n",
            "+----------------------------+-----------+---------+\n",
            "| Total trainable parameters |           | 1061057 |\n",
            "+----------------------------+-----------+---------+\n"
          ]
        }
      ]
    }
  ]
}